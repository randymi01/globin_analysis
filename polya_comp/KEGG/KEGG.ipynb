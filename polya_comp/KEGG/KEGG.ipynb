{
 "cells": [
  {
   "cell_type": "code",
   "execution_count": 1,
   "metadata": {
    "vscode": {
     "languageId": "r"
    }
   },
   "outputs": [],
   "source": [
    "suppressMessages({\n",
    "    library(SummarizedExperiment)\n",
    "    library(DESeq2)\n",
    "    library(tidyverse)\n",
    "    library(cowplot)\n",
    "    library(ExploreModelMatrix)\n",
    "    library(ComplexHeatmap)\n",
    "    library(clusterProfiler)\n",
    "    library(org.Hs.eg.db)\n",
    "})"
   ]
  },
  {
   "cell_type": "code",
   "execution_count": 4,
   "metadata": {
    "vscode": {
     "languageId": "r"
    }
   },
   "outputs": [
    {
     "data": {
      "text/html": [
       "<table class=\"dataframe\">\n",
       "<caption>A data.frame: 3 × 3</caption>\n",
       "<thead>\n",
       "\t<tr><th></th><th scope=col>kegg_code</th><th scope=col>scientific_name</th><th scope=col>common_name</th></tr>\n",
       "\t<tr><th></th><th scope=col>&lt;chr&gt;</th><th scope=col>&lt;chr&gt;</th><th scope=col>&lt;chr&gt;</th></tr>\n",
       "</thead>\n",
       "<tbody>\n",
       "\t<tr><th scope=row>1</th><td>hsa </td><td>Homo sapiens              </td><td>human                   </td></tr>\n",
       "\t<tr><th scope=row>488</th><td>phu </td><td>Pediculus humanus corporis</td><td>human body louse        </td></tr>\n",
       "\t<tr><th scope=row>8078</th><td>bhum</td><td>Bacteroides humanifaecis  </td><td>Bacteroides humanifaecis</td></tr>\n",
       "</tbody>\n",
       "</table>\n"
      ],
      "text/latex": [
       "A data.frame: 3 × 3\n",
       "\\begin{tabular}{r|lll}\n",
       "  & kegg\\_code & scientific\\_name & common\\_name\\\\\n",
       "  & <chr> & <chr> & <chr>\\\\\n",
       "\\hline\n",
       "\t1 & hsa  & Homo sapiens               & human                   \\\\\n",
       "\t488 & phu  & Pediculus humanus corporis & human body louse        \\\\\n",
       "\t8078 & bhum & Bacteroides humanifaecis   & Bacteroides humanifaecis\\\\\n",
       "\\end{tabular}\n"
      ],
      "text/markdown": [
       "\n",
       "A data.frame: 3 × 3\n",
       "\n",
       "| <!--/--> | kegg_code &lt;chr&gt; | scientific_name &lt;chr&gt; | common_name &lt;chr&gt; |\n",
       "|---|---|---|---|\n",
       "| 1 | hsa  | Homo sapiens               | human                    |\n",
       "| 488 | phu  | Pediculus humanus corporis | human body louse         |\n",
       "| 8078 | bhum | Bacteroides humanifaecis   | Bacteroides humanifaecis |\n",
       "\n"
      ],
      "text/plain": [
       "     kegg_code scientific_name            common_name             \n",
       "1    hsa       Homo sapiens               human                   \n",
       "488  phu       Pediculus humanus corporis human body louse        \n",
       "8078 bhum      Bacteroides humanifaecis   Bacteroides humanifaecis"
      ]
     },
     "metadata": {},
     "output_type": "display_data"
    }
   ],
   "source": [
    "# use hsa\n",
    "search_kegg_organism('human', by = 'common_name')"
   ]
  },
  {
   "cell_type": "code",
   "execution_count": 2,
   "metadata": {
    "vscode": {
     "languageId": "r"
    }
   },
   "outputs": [],
   "source": [
    "# load uniquely expressed coding lncRNA genes by globin clear\n",
    "gc_genes = read.csv(\"globin_clear_unique_codinglnc.csv\")\n",
    "names(gc_genes)[1] = \"ENSEMBL_ID\""
   ]
  },
  {
   "cell_type": "code",
   "execution_count": 3,
   "metadata": {
    "vscode": {
     "languageId": "r"
    }
   },
   "outputs": [],
   "source": [
    "# add index\n",
    "row.names(gc_genes) = 1:nrow(gc_genes)"
   ]
  },
  {
   "cell_type": "code",
   "execution_count": 5,
   "metadata": {
    "vscode": {
     "languageId": "r"
    }
   },
   "outputs": [
    {
     "name": "stderr",
     "output_type": "stream",
     "text": [
      "'select()' returned 1:many mapping between keys and columns\n",
      "\n"
     ]
    }
   ],
   "source": [
    "# there are some duplicates\n",
    "mapping = select(org.Hs.eg.db, gc_genes$ENSEMBL_ID, \"ENTREZID\", \"ENSEMBL\")"
   ]
  },
  {
   "cell_type": "code",
   "execution_count": 6,
   "metadata": {
    "vscode": {
     "languageId": "r"
    }
   },
   "outputs": [],
   "source": [
    "gc_genes_entrez = mapping[!is.na(mapping$ENTREZID),]\n",
    "gc_genes_not_mapped = mapping[is.na(mapping$ENTREZID),]\n",
    "gc_genes_not_mapped = filter(gc_genes, ENSEMBL_ID %in% gc_genes_not_mapped$ENSEMBL)"
   ]
  },
  {
   "cell_type": "code",
   "execution_count": 7,
   "metadata": {
    "vscode": {
     "languageId": "r"
    }
   },
   "outputs": [],
   "source": [
    "# check what the unmapped genes are\n",
    "annotation = read.table(\"gencode.v46.primary_assembly.gene_annotation.txt\", header = TRUE)\n"
   ]
  },
  {
   "cell_type": "code",
   "execution_count": 8,
   "metadata": {
    "vscode": {
     "languageId": "r"
    }
   },
   "outputs": [],
   "source": [
    "annotation[\"ENSEMBL\"] = sub(\"\\\\..*\", \"\", annotation$ENS_ID)"
   ]
  },
  {
   "cell_type": "code",
   "execution_count": 9,
   "metadata": {
    "vscode": {
     "languageId": "r"
    }
   },
   "outputs": [],
   "source": [
    "gc_genes_not_mapped_table = filter(annotation, ENSEMBL %in% gc_genes_not_mapped$ENSEMBL_ID)"
   ]
  },
  {
   "cell_type": "code",
   "execution_count": 10,
   "metadata": {
    "vscode": {
     "languageId": "r"
    }
   },
   "outputs": [
    {
     "data": {
      "text/plain": [
       "\n",
       "        lncRNA protein_coding \n",
       "    0.70595691     0.06821282 "
      ]
     },
     "metadata": {},
     "output_type": "display_data"
    }
   ],
   "source": [
    "# pct unmapped gc genes\n",
    "table(gc_genes_not_mapped_table$Gene_Biotype) / table(filter(annotation, ENSEMBL %in% gc_genes$ENSEMBL_ID)$Gene_Biotype)\n",
    "\n",
    "# according to indra is normal\n",
    "# https://maayanlab.cloud/Enrichr/"
   ]
  },
  {
   "cell_type": "code",
   "execution_count": 133,
   "metadata": {
    "vscode": {
     "languageId": "r"
    }
   },
   "outputs": [
    {
     "data": {
      "text/html": [
       "<table class=\"dataframe\">\n",
       "<caption>A data.frame: 1164 × 2</caption>\n",
       "<thead>\n",
       "\t<tr><th></th><th scope=col>ENSEMBL</th><th scope=col>ENTREZID</th></tr>\n",
       "\t<tr><th></th><th scope=col>&lt;chr&gt;</th><th scope=col>&lt;chr&gt;</th></tr>\n",
       "</thead>\n",
       "<tbody>\n",
       "\t<tr><th scope=row>4</th><td>ENSG00000204442</td><td>728215   </td></tr>\n",
       "\t<tr><th scope=row>6</th><td>ENSG00000174990</td><td>763      </td></tr>\n",
       "\t<tr><th scope=row>7</th><td>ENSG00000137077</td><td>6366     </td></tr>\n",
       "\t<tr><th scope=row>11</th><td>ENSG00000249693</td><td>100506564</td></tr>\n",
       "\t<tr><th scope=row>12</th><td>ENSG00000164893</td><td>157724   </td></tr>\n",
       "\t<tr><th scope=row>13</th><td>ENSG00000176495</td><td>390195   </td></tr>\n",
       "\t<tr><th scope=row>14</th><td>ENSG00000288763</td><td>124900931</td></tr>\n",
       "\t<tr><th scope=row>17</th><td>ENSG00000254813</td><td>340357   </td></tr>\n",
       "\t<tr><th scope=row>18</th><td>ENSG00000203733</td><td>100126572</td></tr>\n",
       "\t<tr><th scope=row>19</th><td>ENSG00000264026</td><td>146795   </td></tr>\n",
       "\t<tr><th scope=row>21</th><td>ENSG00000171060</td><td>203076   </td></tr>\n",
       "\t<tr><th scope=row>22</th><td>ENSG00000186288</td><td>340529   </td></tr>\n",
       "\t<tr><th scope=row>23</th><td>ENSG00000178172</td><td>404203   </td></tr>\n",
       "\t<tr><th scope=row>26</th><td>ENSG00000285815</td><td>106865373</td></tr>\n",
       "\t<tr><th scope=row>28</th><td>ENSG00000167749</td><td>9622     </td></tr>\n",
       "\t<tr><th scope=row>29</th><td>ENSG00000238120</td><td>100506737</td></tr>\n",
       "\t<tr><th scope=row>31</th><td>ENSG00000232930</td><td>105375233</td></tr>\n",
       "\t<tr><th scope=row>33</th><td>ENSG00000289535</td><td>105379040</td></tr>\n",
       "\t<tr><th scope=row>35</th><td>ENSG00000284797</td><td>729966   </td></tr>\n",
       "\t<tr><th scope=row>36</th><td>ENSG00000277268</td><td>102723471</td></tr>\n",
       "\t<tr><th scope=row>40</th><td>ENSG00000290861</td><td>284116   </td></tr>\n",
       "\t<tr><th scope=row>41</th><td>ENSG00000227431</td><td>102723483</td></tr>\n",
       "\t<tr><th scope=row>45</th><td>ENSG00000267709</td><td>101928844</td></tr>\n",
       "\t<tr><th scope=row>46</th><td>ENSG00000150676</td><td>220047   </td></tr>\n",
       "\t<tr><th scope=row>47</th><td>ENSG00000217236</td><td>100131390</td></tr>\n",
       "\t<tr><th scope=row>48</th><td>ENSG00000224563</td><td>100873917</td></tr>\n",
       "\t<tr><th scope=row>50</th><td>ENSG00000182050</td><td>25834    </td></tr>\n",
       "\t<tr><th scope=row>57</th><td>ENSG00000228035</td><td>112840934</td></tr>\n",
       "\t<tr><th scope=row>58</th><td>ENSG00000146038</td><td>51473    </td></tr>\n",
       "\t<tr><th scope=row>59</th><td>ENSG00000230392</td><td>101928336</td></tr>\n",
       "\t<tr><th scope=row>⋮</th><td>⋮</td><td>⋮</td></tr>\n",
       "\t<tr><th scope=row>2280</th><td>ENSG00000185863</td><td>100505993</td></tr>\n",
       "\t<tr><th scope=row>2281</th><td>ENSG00000259332</td><td>100528021</td></tr>\n",
       "\t<tr><th scope=row>2282</th><td>ENSG00000254451</td><td>100130268</td></tr>\n",
       "\t<tr><th scope=row>2284</th><td>ENSG00000138109</td><td>1559     </td></tr>\n",
       "\t<tr><th scope=row>2285</th><td>ENSG00000232190</td><td>440390   </td></tr>\n",
       "\t<tr><th scope=row>2286</th><td>ENSG00000147127</td><td>347517   </td></tr>\n",
       "\t<tr><th scope=row>2289</th><td>ENSG00000244791</td><td>101927657</td></tr>\n",
       "\t<tr><th scope=row>2291</th><td>ENSG00000126337</td><td>8689     </td></tr>\n",
       "\t<tr><th scope=row>2292</th><td>ENSG00000164841</td><td>157753   </td></tr>\n",
       "\t<tr><th scope=row>2294</th><td>ENSG00000234474</td><td>101927704</td></tr>\n",
       "\t<tr><th scope=row>2295</th><td>ENSG00000127472</td><td>5322     </td></tr>\n",
       "\t<tr><th scope=row>2296</th><td>ENSG00000205439</td><td>386683   </td></tr>\n",
       "\t<tr><th scope=row>2297</th><td>ENSG00000175946</td><td>340359   </td></tr>\n",
       "\t<tr><th scope=row>2298</th><td>ENSG00000262117</td><td>400500   </td></tr>\n",
       "\t<tr><th scope=row>2299</th><td>ENSG00000121904</td><td>114784   </td></tr>\n",
       "\t<tr><th scope=row>2302</th><td>ENSG00000215373</td><td>441315   </td></tr>\n",
       "\t<tr><th scope=row>2303</th><td>ENSG00000164161</td><td>64399    </td></tr>\n",
       "\t<tr><th scope=row>2305</th><td>ENSG00000283239</td><td>104266957</td></tr>\n",
       "\t<tr><th scope=row>2306</th><td>ENSG00000106436</td><td>93408    </td></tr>\n",
       "\t<tr><th scope=row>2308</th><td>ENSG00000204033</td><td>340745   </td></tr>\n",
       "\t<tr><th scope=row>2311</th><td>ENSG00000185053</td><td>137868   </td></tr>\n",
       "\t<tr><th scope=row>2317</th><td>ENSG00000164647</td><td>26872    </td></tr>\n",
       "\t<tr><th scope=row>2319</th><td>ENSG00000221989</td><td>442361   </td></tr>\n",
       "\t<tr><th scope=row>2320</th><td>ENSG00000235034</td><td>342918   </td></tr>\n",
       "\t<tr><th scope=row>2322</th><td>ENSG00000253505</td><td>124901880</td></tr>\n",
       "\t<tr><th scope=row>2323</th><td>ENSG00000139223</td><td>23519    </td></tr>\n",
       "\t<tr><th scope=row>2325</th><td>ENSG00000176907</td><td>56892    </td></tr>\n",
       "\t<tr><th scope=row>2326</th><td>ENSG00000110887</td><td>1610     </td></tr>\n",
       "\t<tr><th scope=row>2327</th><td>ENSG00000171234</td><td>7364     </td></tr>\n",
       "\t<tr><th scope=row>2328</th><td>ENSG00000158786</td><td>64600    </td></tr>\n",
       "</tbody>\n",
       "</table>\n"
      ],
      "text/latex": [
       "A data.frame: 1164 × 2\n",
       "\\begin{tabular}{r|ll}\n",
       "  & ENSEMBL & ENTREZID\\\\\n",
       "  & <chr> & <chr>\\\\\n",
       "\\hline\n",
       "\t4 & ENSG00000204442 & 728215   \\\\\n",
       "\t6 & ENSG00000174990 & 763      \\\\\n",
       "\t7 & ENSG00000137077 & 6366     \\\\\n",
       "\t11 & ENSG00000249693 & 100506564\\\\\n",
       "\t12 & ENSG00000164893 & 157724   \\\\\n",
       "\t13 & ENSG00000176495 & 390195   \\\\\n",
       "\t14 & ENSG00000288763 & 124900931\\\\\n",
       "\t17 & ENSG00000254813 & 340357   \\\\\n",
       "\t18 & ENSG00000203733 & 100126572\\\\\n",
       "\t19 & ENSG00000264026 & 146795   \\\\\n",
       "\t21 & ENSG00000171060 & 203076   \\\\\n",
       "\t22 & ENSG00000186288 & 340529   \\\\\n",
       "\t23 & ENSG00000178172 & 404203   \\\\\n",
       "\t26 & ENSG00000285815 & 106865373\\\\\n",
       "\t28 & ENSG00000167749 & 9622     \\\\\n",
       "\t29 & ENSG00000238120 & 100506737\\\\\n",
       "\t31 & ENSG00000232930 & 105375233\\\\\n",
       "\t33 & ENSG00000289535 & 105379040\\\\\n",
       "\t35 & ENSG00000284797 & 729966   \\\\\n",
       "\t36 & ENSG00000277268 & 102723471\\\\\n",
       "\t40 & ENSG00000290861 & 284116   \\\\\n",
       "\t41 & ENSG00000227431 & 102723483\\\\\n",
       "\t45 & ENSG00000267709 & 101928844\\\\\n",
       "\t46 & ENSG00000150676 & 220047   \\\\\n",
       "\t47 & ENSG00000217236 & 100131390\\\\\n",
       "\t48 & ENSG00000224563 & 100873917\\\\\n",
       "\t50 & ENSG00000182050 & 25834    \\\\\n",
       "\t57 & ENSG00000228035 & 112840934\\\\\n",
       "\t58 & ENSG00000146038 & 51473    \\\\\n",
       "\t59 & ENSG00000230392 & 101928336\\\\\n",
       "\t⋮ & ⋮ & ⋮\\\\\n",
       "\t2280 & ENSG00000185863 & 100505993\\\\\n",
       "\t2281 & ENSG00000259332 & 100528021\\\\\n",
       "\t2282 & ENSG00000254451 & 100130268\\\\\n",
       "\t2284 & ENSG00000138109 & 1559     \\\\\n",
       "\t2285 & ENSG00000232190 & 440390   \\\\\n",
       "\t2286 & ENSG00000147127 & 347517   \\\\\n",
       "\t2289 & ENSG00000244791 & 101927657\\\\\n",
       "\t2291 & ENSG00000126337 & 8689     \\\\\n",
       "\t2292 & ENSG00000164841 & 157753   \\\\\n",
       "\t2294 & ENSG00000234474 & 101927704\\\\\n",
       "\t2295 & ENSG00000127472 & 5322     \\\\\n",
       "\t2296 & ENSG00000205439 & 386683   \\\\\n",
       "\t2297 & ENSG00000175946 & 340359   \\\\\n",
       "\t2298 & ENSG00000262117 & 400500   \\\\\n",
       "\t2299 & ENSG00000121904 & 114784   \\\\\n",
       "\t2302 & ENSG00000215373 & 441315   \\\\\n",
       "\t2303 & ENSG00000164161 & 64399    \\\\\n",
       "\t2305 & ENSG00000283239 & 104266957\\\\\n",
       "\t2306 & ENSG00000106436 & 93408    \\\\\n",
       "\t2308 & ENSG00000204033 & 340745   \\\\\n",
       "\t2311 & ENSG00000185053 & 137868   \\\\\n",
       "\t2317 & ENSG00000164647 & 26872    \\\\\n",
       "\t2319 & ENSG00000221989 & 442361   \\\\\n",
       "\t2320 & ENSG00000235034 & 342918   \\\\\n",
       "\t2322 & ENSG00000253505 & 124901880\\\\\n",
       "\t2323 & ENSG00000139223 & 23519    \\\\\n",
       "\t2325 & ENSG00000176907 & 56892    \\\\\n",
       "\t2326 & ENSG00000110887 & 1610     \\\\\n",
       "\t2327 & ENSG00000171234 & 7364     \\\\\n",
       "\t2328 & ENSG00000158786 & 64600    \\\\\n",
       "\\end{tabular}\n"
      ],
      "text/markdown": [
       "\n",
       "A data.frame: 1164 × 2\n",
       "\n",
       "| <!--/--> | ENSEMBL &lt;chr&gt; | ENTREZID &lt;chr&gt; |\n",
       "|---|---|---|\n",
       "| 4 | ENSG00000204442 | 728215    |\n",
       "| 6 | ENSG00000174990 | 763       |\n",
       "| 7 | ENSG00000137077 | 6366      |\n",
       "| 11 | ENSG00000249693 | 100506564 |\n",
       "| 12 | ENSG00000164893 | 157724    |\n",
       "| 13 | ENSG00000176495 | 390195    |\n",
       "| 14 | ENSG00000288763 | 124900931 |\n",
       "| 17 | ENSG00000254813 | 340357    |\n",
       "| 18 | ENSG00000203733 | 100126572 |\n",
       "| 19 | ENSG00000264026 | 146795    |\n",
       "| 21 | ENSG00000171060 | 203076    |\n",
       "| 22 | ENSG00000186288 | 340529    |\n",
       "| 23 | ENSG00000178172 | 404203    |\n",
       "| 26 | ENSG00000285815 | 106865373 |\n",
       "| 28 | ENSG00000167749 | 9622      |\n",
       "| 29 | ENSG00000238120 | 100506737 |\n",
       "| 31 | ENSG00000232930 | 105375233 |\n",
       "| 33 | ENSG00000289535 | 105379040 |\n",
       "| 35 | ENSG00000284797 | 729966    |\n",
       "| 36 | ENSG00000277268 | 102723471 |\n",
       "| 40 | ENSG00000290861 | 284116    |\n",
       "| 41 | ENSG00000227431 | 102723483 |\n",
       "| 45 | ENSG00000267709 | 101928844 |\n",
       "| 46 | ENSG00000150676 | 220047    |\n",
       "| 47 | ENSG00000217236 | 100131390 |\n",
       "| 48 | ENSG00000224563 | 100873917 |\n",
       "| 50 | ENSG00000182050 | 25834     |\n",
       "| 57 | ENSG00000228035 | 112840934 |\n",
       "| 58 | ENSG00000146038 | 51473     |\n",
       "| 59 | ENSG00000230392 | 101928336 |\n",
       "| ⋮ | ⋮ | ⋮ |\n",
       "| 2280 | ENSG00000185863 | 100505993 |\n",
       "| 2281 | ENSG00000259332 | 100528021 |\n",
       "| 2282 | ENSG00000254451 | 100130268 |\n",
       "| 2284 | ENSG00000138109 | 1559      |\n",
       "| 2285 | ENSG00000232190 | 440390    |\n",
       "| 2286 | ENSG00000147127 | 347517    |\n",
       "| 2289 | ENSG00000244791 | 101927657 |\n",
       "| 2291 | ENSG00000126337 | 8689      |\n",
       "| 2292 | ENSG00000164841 | 157753    |\n",
       "| 2294 | ENSG00000234474 | 101927704 |\n",
       "| 2295 | ENSG00000127472 | 5322      |\n",
       "| 2296 | ENSG00000205439 | 386683    |\n",
       "| 2297 | ENSG00000175946 | 340359    |\n",
       "| 2298 | ENSG00000262117 | 400500    |\n",
       "| 2299 | ENSG00000121904 | 114784    |\n",
       "| 2302 | ENSG00000215373 | 441315    |\n",
       "| 2303 | ENSG00000164161 | 64399     |\n",
       "| 2305 | ENSG00000283239 | 104266957 |\n",
       "| 2306 | ENSG00000106436 | 93408     |\n",
       "| 2308 | ENSG00000204033 | 340745    |\n",
       "| 2311 | ENSG00000185053 | 137868    |\n",
       "| 2317 | ENSG00000164647 | 26872     |\n",
       "| 2319 | ENSG00000221989 | 442361    |\n",
       "| 2320 | ENSG00000235034 | 342918    |\n",
       "| 2322 | ENSG00000253505 | 124901880 |\n",
       "| 2323 | ENSG00000139223 | 23519     |\n",
       "| 2325 | ENSG00000176907 | 56892     |\n",
       "| 2326 | ENSG00000110887 | 1610      |\n",
       "| 2327 | ENSG00000171234 | 7364      |\n",
       "| 2328 | ENSG00000158786 | 64600     |\n",
       "\n"
      ],
      "text/plain": [
       "     ENSEMBL         ENTREZID \n",
       "4    ENSG00000204442 728215   \n",
       "6    ENSG00000174990 763      \n",
       "7    ENSG00000137077 6366     \n",
       "11   ENSG00000249693 100506564\n",
       "12   ENSG00000164893 157724   \n",
       "13   ENSG00000176495 390195   \n",
       "14   ENSG00000288763 124900931\n",
       "17   ENSG00000254813 340357   \n",
       "18   ENSG00000203733 100126572\n",
       "19   ENSG00000264026 146795   \n",
       "21   ENSG00000171060 203076   \n",
       "22   ENSG00000186288 340529   \n",
       "23   ENSG00000178172 404203   \n",
       "26   ENSG00000285815 106865373\n",
       "28   ENSG00000167749 9622     \n",
       "29   ENSG00000238120 100506737\n",
       "31   ENSG00000232930 105375233\n",
       "33   ENSG00000289535 105379040\n",
       "35   ENSG00000284797 729966   \n",
       "36   ENSG00000277268 102723471\n",
       "40   ENSG00000290861 284116   \n",
       "41   ENSG00000227431 102723483\n",
       "45   ENSG00000267709 101928844\n",
       "46   ENSG00000150676 220047   \n",
       "47   ENSG00000217236 100131390\n",
       "48   ENSG00000224563 100873917\n",
       "50   ENSG00000182050 25834    \n",
       "57   ENSG00000228035 112840934\n",
       "58   ENSG00000146038 51473    \n",
       "59   ENSG00000230392 101928336\n",
       "⋮    ⋮               ⋮        \n",
       "2280 ENSG00000185863 100505993\n",
       "2281 ENSG00000259332 100528021\n",
       "2282 ENSG00000254451 100130268\n",
       "2284 ENSG00000138109 1559     \n",
       "2285 ENSG00000232190 440390   \n",
       "2286 ENSG00000147127 347517   \n",
       "2289 ENSG00000244791 101927657\n",
       "2291 ENSG00000126337 8689     \n",
       "2292 ENSG00000164841 157753   \n",
       "2294 ENSG00000234474 101927704\n",
       "2295 ENSG00000127472 5322     \n",
       "2296 ENSG00000205439 386683   \n",
       "2297 ENSG00000175946 340359   \n",
       "2298 ENSG00000262117 400500   \n",
       "2299 ENSG00000121904 114784   \n",
       "2302 ENSG00000215373 441315   \n",
       "2303 ENSG00000164161 64399    \n",
       "2305 ENSG00000283239 104266957\n",
       "2306 ENSG00000106436 93408    \n",
       "2308 ENSG00000204033 340745   \n",
       "2311 ENSG00000185053 137868   \n",
       "2317 ENSG00000164647 26872    \n",
       "2319 ENSG00000221989 442361   \n",
       "2320 ENSG00000235034 342918   \n",
       "2322 ENSG00000253505 124901880\n",
       "2323 ENSG00000139223 23519    \n",
       "2325 ENSG00000176907 56892    \n",
       "2326 ENSG00000110887 1610     \n",
       "2327 ENSG00000171234 7364     \n",
       "2328 ENSG00000158786 64600    "
      ]
     },
     "metadata": {},
     "output_type": "display_data"
    }
   ],
   "source": [
    "gc_genes_entrez"
   ]
  },
  {
   "cell_type": "code",
   "execution_count": null,
   "metadata": {
    "vscode": {
     "languageId": "r"
    }
   },
   "outputs": [],
   "source": []
  },
  {
   "cell_type": "code",
   "execution_count": 11,
   "metadata": {
    "vscode": {
     "languageId": "r"
    }
   },
   "outputs": [
    {
     "name": "stderr",
     "output_type": "stream",
     "text": [
      "Reading KEGG annotation online: \"https://rest.kegg.jp/link/hsa/pathway\"...\n",
      "\n",
      "Reading KEGG annotation online: \"https://rest.kegg.jp/list/pathway/hsa\"...\n",
      "\n"
     ]
    }
   ],
   "source": [
    "# high p value cutoff since these genes don't appear in other condition\n",
    "gc_res = enrichKEGG(gene = gc_genes_entrez$ENTREZID, organism = \"hsa\", pvalueCutoff = Inf)"
   ]
  },
  {
   "cell_type": "code",
   "execution_count": 148,
   "metadata": {
    "vscode": {
     "languageId": "r"
    }
   },
   "outputs": [
    {
     "data": {
      "text/html": [
       "1164"
      ],
      "text/latex": [
       "1164"
      ],
      "text/markdown": [
       "1164"
      ],
      "text/plain": [
       "[1] 1164"
      ]
     },
     "metadata": {},
     "output_type": "display_data"
    }
   ],
   "source": [
    "length(gc_genes_entrez$ENTREZID)"
   ]
  },
  {
   "cell_type": "code",
   "execution_count": 12,
   "metadata": {
    "vscode": {
     "languageId": "r"
    }
   },
   "outputs": [
    {
     "data": {
      "text/html": [
       "<table class=\"dataframe\">\n",
       "<caption>A data.frame: 7 × 11</caption>\n",
       "<thead>\n",
       "\t<tr><th></th><th scope=col>category</th><th scope=col>subcategory</th><th scope=col>ID</th><th scope=col>Description</th><th scope=col>GeneRatio</th><th scope=col>BgRatio</th><th scope=col>pvalue</th><th scope=col>p.adjust</th><th scope=col>qvalue</th><th scope=col>geneID</th><th scope=col>Count</th></tr>\n",
       "\t<tr><th></th><th scope=col>&lt;chr&gt;</th><th scope=col>&lt;chr&gt;</th><th scope=col>&lt;chr&gt;</th><th scope=col>&lt;chr&gt;</th><th scope=col>&lt;chr&gt;</th><th scope=col>&lt;chr&gt;</th><th scope=col>&lt;dbl&gt;</th><th scope=col>&lt;dbl&gt;</th><th scope=col>&lt;dbl&gt;</th><th scope=col>&lt;chr&gt;</th><th scope=col>&lt;int&gt;</th></tr>\n",
       "</thead>\n",
       "<tbody>\n",
       "\t<tr><th scope=row>hsa04740</th><td>Organismal Systems                  </td><td>Sensory system                     </td><td>hsa04740</td><td>Olfactory transduction                 </td><td>49/261</td><td>453/8848</td><td>7.971094e-16</td><td>1.905091e-13</td><td>1.795594e-13</td><td>390195/79501/128966576/79339/346525/390882/390078/119764/392309/441669/346517/393046/219432/79345/81439/81282/138883/26248/392391/26339/390059/390067/343563/401993/26532/282763/390264/390439/392138/219981/219858/403253/8590/390174/341418/127074/403273/391211/390066/26716/119695/81469/26219/120793/120796/390445/390442/441933/442361</td><td>49</td></tr>\n",
       "\t<tr><th scope=row>hsa04080</th><td>Environmental Information Processing</td><td>Signaling molecules and interaction</td><td>hsa04080</td><td>Neuroactive ligand-receptor interaction</td><td>33/261</td><td>368/8848</td><td>8.951660e-09</td><td>1.069723e-06</td><td>1.008240e-06</td><td>2743/3814/55879/113091/1137/9568/2691/624/2903/7200/83551/10022/6750/399967/5173/1392/2911/116/2566/5340/9340/114131/117/1909/2561/4886/2904/2488/623/2890/4142/5367/147                                                                                                                                                                    </td><td>33</td></tr>\n",
       "\t<tr><th scope=row>hsa04024</th><td>Environmental Information Processing</td><td>Signal transduction                </td><td>hsa04024</td><td>cAMP signaling pathway                 </td><td>15/261</td><td>226/8848</td><td>2.791752e-03</td><td>1.334458e-01</td><td>1.257758e-01</td><td>9568/114/23439/2903/6750/1392/116/117/1909/4886/2904/2488/2890/5143/64399                                                                                                                                                                                                                                                                   </td><td>15</td></tr>\n",
       "\t<tr><th scope=row>hsa05033</th><td>Human Diseases                      </td><td>Substance dependence               </td><td>hsa05033</td><td>Nicotine addiction                     </td><td>8/261 </td><td>41/8848 </td><td>2.113704e-05</td><td>1.683917e-03</td><td>1.587132e-03</td><td>55879/1137/2903/2566/2561/2904/2890/140679                                                                                                                                                                                                                                                                                                  </td><td> 8</td></tr>\n",
       "\t<tr><th scope=row>hsa04610</th><td>Organismal Systems                  </td><td>Immune system                      </td><td>hsa04610</td><td>Complement and coagulation cascades    </td><td>8/261 </td><td>88/8848 </td><td>4.315652e-03</td><td>1.689791e-01</td><td>1.592668e-01</td><td>735/624/5104/1361/2244/5340/623/5648                                                                                                                                                                                                                                                                                                        </td><td> 8</td></tr>\n",
       "\t<tr><th scope=row>hsa04976</th><td>Organismal Systems                  </td><td>Digestive system                   </td><td>hsa04976</td><td>Bile secretion                         </td><td>8/261 </td><td>90/8848 </td><td>4.949177e-03</td><td>1.689791e-01</td><td>1.592668e-01</td><td>6523/114/23439/3781/9971/10941/64240/7364                                                                                                                                                                                                                                                                                                   </td><td> 8</td></tr>\n",
       "\t<tr><th scope=row>hsa04975</th><td>Organismal Systems                  </td><td>Digestive system                   </td><td>hsa04975</td><td>Fat digestion and absorption           </td><td>6/261 </td><td>43/8848 </td><td>1.515762e-03</td><td>9.056676e-02</td><td>8.536132e-02</td><td>1208/346606/8513/64240/5322/64600                                                                                                                                                                                                                                                                                                           </td><td> 6</td></tr>\n",
       "</tbody>\n",
       "</table>\n"
      ],
      "text/latex": [
       "A data.frame: 7 × 11\n",
       "\\begin{tabular}{r|lllllllllll}\n",
       "  & category & subcategory & ID & Description & GeneRatio & BgRatio & pvalue & p.adjust & qvalue & geneID & Count\\\\\n",
       "  & <chr> & <chr> & <chr> & <chr> & <chr> & <chr> & <dbl> & <dbl> & <dbl> & <chr> & <int>\\\\\n",
       "\\hline\n",
       "\thsa04740 & Organismal Systems                   & Sensory system                      & hsa04740 & Olfactory transduction                  & 49/261 & 453/8848 & 7.971094e-16 & 1.905091e-13 & 1.795594e-13 & 390195/79501/128966576/79339/346525/390882/390078/119764/392309/441669/346517/393046/219432/79345/81439/81282/138883/26248/392391/26339/390059/390067/343563/401993/26532/282763/390264/390439/392138/219981/219858/403253/8590/390174/341418/127074/403273/391211/390066/26716/119695/81469/26219/120793/120796/390445/390442/441933/442361 & 49\\\\\n",
       "\thsa04080 & Environmental Information Processing & Signaling molecules and interaction & hsa04080 & Neuroactive ligand-receptor interaction & 33/261 & 368/8848 & 8.951660e-09 & 1.069723e-06 & 1.008240e-06 & 2743/3814/55879/113091/1137/9568/2691/624/2903/7200/83551/10022/6750/399967/5173/1392/2911/116/2566/5340/9340/114131/117/1909/2561/4886/2904/2488/623/2890/4142/5367/147                                                                                                                                                                     & 33\\\\\n",
       "\thsa04024 & Environmental Information Processing & Signal transduction                 & hsa04024 & cAMP signaling pathway                  & 15/261 & 226/8848 & 2.791752e-03 & 1.334458e-01 & 1.257758e-01 & 9568/114/23439/2903/6750/1392/116/117/1909/4886/2904/2488/2890/5143/64399                                                                                                                                                                                                                                                                    & 15\\\\\n",
       "\thsa05033 & Human Diseases                       & Substance dependence                & hsa05033 & Nicotine addiction                      & 8/261  & 41/8848  & 2.113704e-05 & 1.683917e-03 & 1.587132e-03 & 55879/1137/2903/2566/2561/2904/2890/140679                                                                                                                                                                                                                                                                                                   &  8\\\\\n",
       "\thsa04610 & Organismal Systems                   & Immune system                       & hsa04610 & Complement and coagulation cascades     & 8/261  & 88/8848  & 4.315652e-03 & 1.689791e-01 & 1.592668e-01 & 735/624/5104/1361/2244/5340/623/5648                                                                                                                                                                                                                                                                                                         &  8\\\\\n",
       "\thsa04976 & Organismal Systems                   & Digestive system                    & hsa04976 & Bile secretion                          & 8/261  & 90/8848  & 4.949177e-03 & 1.689791e-01 & 1.592668e-01 & 6523/114/23439/3781/9971/10941/64240/7364                                                                                                                                                                                                                                                                                                    &  8\\\\\n",
       "\thsa04975 & Organismal Systems                   & Digestive system                    & hsa04975 & Fat digestion and absorption            & 6/261  & 43/8848  & 1.515762e-03 & 9.056676e-02 & 8.536132e-02 & 1208/346606/8513/64240/5322/64600                                                                                                                                                                                                                                                                                                            &  6\\\\\n",
       "\\end{tabular}\n"
      ],
      "text/markdown": [
       "\n",
       "A data.frame: 7 × 11\n",
       "\n",
       "| <!--/--> | category &lt;chr&gt; | subcategory &lt;chr&gt; | ID &lt;chr&gt; | Description &lt;chr&gt; | GeneRatio &lt;chr&gt; | BgRatio &lt;chr&gt; | pvalue &lt;dbl&gt; | p.adjust &lt;dbl&gt; | qvalue &lt;dbl&gt; | geneID &lt;chr&gt; | Count &lt;int&gt; |\n",
       "|---|---|---|---|---|---|---|---|---|---|---|---|\n",
       "| hsa04740 | Organismal Systems                   | Sensory system                      | hsa04740 | Olfactory transduction                  | 49/261 | 453/8848 | 7.971094e-16 | 1.905091e-13 | 1.795594e-13 | 390195/79501/128966576/79339/346525/390882/390078/119764/392309/441669/346517/393046/219432/79345/81439/81282/138883/26248/392391/26339/390059/390067/343563/401993/26532/282763/390264/390439/392138/219981/219858/403253/8590/390174/341418/127074/403273/391211/390066/26716/119695/81469/26219/120793/120796/390445/390442/441933/442361 | 49 |\n",
       "| hsa04080 | Environmental Information Processing | Signaling molecules and interaction | hsa04080 | Neuroactive ligand-receptor interaction | 33/261 | 368/8848 | 8.951660e-09 | 1.069723e-06 | 1.008240e-06 | 2743/3814/55879/113091/1137/9568/2691/624/2903/7200/83551/10022/6750/399967/5173/1392/2911/116/2566/5340/9340/114131/117/1909/2561/4886/2904/2488/623/2890/4142/5367/147                                                                                                                                                                     | 33 |\n",
       "| hsa04024 | Environmental Information Processing | Signal transduction                 | hsa04024 | cAMP signaling pathway                  | 15/261 | 226/8848 | 2.791752e-03 | 1.334458e-01 | 1.257758e-01 | 9568/114/23439/2903/6750/1392/116/117/1909/4886/2904/2488/2890/5143/64399                                                                                                                                                                                                                                                                    | 15 |\n",
       "| hsa05033 | Human Diseases                       | Substance dependence                | hsa05033 | Nicotine addiction                      | 8/261  | 41/8848  | 2.113704e-05 | 1.683917e-03 | 1.587132e-03 | 55879/1137/2903/2566/2561/2904/2890/140679                                                                                                                                                                                                                                                                                                   |  8 |\n",
       "| hsa04610 | Organismal Systems                   | Immune system                       | hsa04610 | Complement and coagulation cascades     | 8/261  | 88/8848  | 4.315652e-03 | 1.689791e-01 | 1.592668e-01 | 735/624/5104/1361/2244/5340/623/5648                                                                                                                                                                                                                                                                                                         |  8 |\n",
       "| hsa04976 | Organismal Systems                   | Digestive system                    | hsa04976 | Bile secretion                          | 8/261  | 90/8848  | 4.949177e-03 | 1.689791e-01 | 1.592668e-01 | 6523/114/23439/3781/9971/10941/64240/7364                                                                                                                                                                                                                                                                                                    |  8 |\n",
       "| hsa04975 | Organismal Systems                   | Digestive system                    | hsa04975 | Fat digestion and absorption            | 6/261  | 43/8848  | 1.515762e-03 | 9.056676e-02 | 8.536132e-02 | 1208/346606/8513/64240/5322/64600                                                                                                                                                                                                                                                                                                            |  6 |\n",
       "\n"
      ],
      "text/plain": [
       "         category                            \n",
       "hsa04740 Organismal Systems                  \n",
       "hsa04080 Environmental Information Processing\n",
       "hsa04024 Environmental Information Processing\n",
       "hsa05033 Human Diseases                      \n",
       "hsa04610 Organismal Systems                  \n",
       "hsa04976 Organismal Systems                  \n",
       "hsa04975 Organismal Systems                  \n",
       "         subcategory                         ID      \n",
       "hsa04740 Sensory system                      hsa04740\n",
       "hsa04080 Signaling molecules and interaction hsa04080\n",
       "hsa04024 Signal transduction                 hsa04024\n",
       "hsa05033 Substance dependence                hsa05033\n",
       "hsa04610 Immune system                       hsa04610\n",
       "hsa04976 Digestive system                    hsa04976\n",
       "hsa04975 Digestive system                    hsa04975\n",
       "         Description                             GeneRatio BgRatio \n",
       "hsa04740 Olfactory transduction                  49/261    453/8848\n",
       "hsa04080 Neuroactive ligand-receptor interaction 33/261    368/8848\n",
       "hsa04024 cAMP signaling pathway                  15/261    226/8848\n",
       "hsa05033 Nicotine addiction                      8/261     41/8848 \n",
       "hsa04610 Complement and coagulation cascades     8/261     88/8848 \n",
       "hsa04976 Bile secretion                          8/261     90/8848 \n",
       "hsa04975 Fat digestion and absorption            6/261     43/8848 \n",
       "         pvalue       p.adjust     qvalue      \n",
       "hsa04740 7.971094e-16 1.905091e-13 1.795594e-13\n",
       "hsa04080 8.951660e-09 1.069723e-06 1.008240e-06\n",
       "hsa04024 2.791752e-03 1.334458e-01 1.257758e-01\n",
       "hsa05033 2.113704e-05 1.683917e-03 1.587132e-03\n",
       "hsa04610 4.315652e-03 1.689791e-01 1.592668e-01\n",
       "hsa04976 4.949177e-03 1.689791e-01 1.592668e-01\n",
       "hsa04975 1.515762e-03 9.056676e-02 8.536132e-02\n",
       "         geneID                                                                                                                                                                                                                                                                                                                                      \n",
       "hsa04740 390195/79501/128966576/79339/346525/390882/390078/119764/392309/441669/346517/393046/219432/79345/81439/81282/138883/26248/392391/26339/390059/390067/343563/401993/26532/282763/390264/390439/392138/219981/219858/403253/8590/390174/341418/127074/403273/391211/390066/26716/119695/81469/26219/120793/120796/390445/390442/441933/442361\n",
       "hsa04080 2743/3814/55879/113091/1137/9568/2691/624/2903/7200/83551/10022/6750/399967/5173/1392/2911/116/2566/5340/9340/114131/117/1909/2561/4886/2904/2488/623/2890/4142/5367/147                                                                                                                                                                    \n",
       "hsa04024 9568/114/23439/2903/6750/1392/116/117/1909/4886/2904/2488/2890/5143/64399                                                                                                                                                                                                                                                                   \n",
       "hsa05033 55879/1137/2903/2566/2561/2904/2890/140679                                                                                                                                                                                                                                                                                                  \n",
       "hsa04610 735/624/5104/1361/2244/5340/623/5648                                                                                                                                                                                                                                                                                                        \n",
       "hsa04976 6523/114/23439/3781/9971/10941/64240/7364                                                                                                                                                                                                                                                                                                   \n",
       "hsa04975 1208/346606/8513/64240/5322/64600                                                                                                                                                                                                                                                                                                           \n",
       "         Count\n",
       "hsa04740 49   \n",
       "hsa04080 33   \n",
       "hsa04024 15   \n",
       "hsa05033  8   \n",
       "hsa04610  8   \n",
       "hsa04976  8   \n",
       "hsa04975  6   "
      ]
     },
     "metadata": {},
     "output_type": "display_data"
    }
   ],
   "source": [
    "gc_res_df = data.frame(gc_res[order(gc_res$Count, decreasing = TRUE), ])\n",
    "head(gc_res_df, 10)"
   ]
  },
  {
   "cell_type": "code",
   "execution_count": 13,
   "metadata": {
    "vscode": {
     "languageId": "r"
    }
   },
   "outputs": [
    {
     "name": "stderr",
     "output_type": "stream",
     "text": [
      "'select()' returned 1:many mapping between keys and columns\n",
      "\n"
     ]
    }
   ],
   "source": [
    "# do same for non gc\n",
    "non_gc_genes = read.csv(\"non_globin_clear_unique_codinglnc.csv\")\n",
    "names(non_gc_genes)[1] = \"ENSEMBL_ID\"\n",
    "row.names(non_gc_genes) = 1:nrow(non_gc_genes)\n",
    "mapping = select(org.Hs.eg.db, non_gc_genes$ENSEMBL_ID, \"ENTREZID\", \"ENSEMBL\")\n",
    "non_gc_genes_entrez = mapping[!is.na(mapping$ENTREZID),]\n",
    "non_gc_res = enrichKEGG(gene = non_gc_genes_entrez$ENTREZID, organism = \"hsa\", pvalueCutoff = Inf)"
   ]
  },
  {
   "cell_type": "code",
   "execution_count": 40,
   "metadata": {
    "vscode": {
     "languageId": "r"
    }
   },
   "outputs": [
    {
     "data": {
      "text/html": [
       "<table class=\"dataframe\">\n",
       "<caption>A data.frame: 6 × 11</caption>\n",
       "<thead>\n",
       "\t<tr><th></th><th scope=col>category</th><th scope=col>subcategory</th><th scope=col>ID</th><th scope=col>Description</th><th scope=col>GeneRatio</th><th scope=col>BgRatio</th><th scope=col>pvalue</th><th scope=col>p.adjust</th><th scope=col>qvalue</th><th scope=col>geneID</th><th scope=col>Count</th></tr>\n",
       "\t<tr><th></th><th scope=col>&lt;chr&gt;</th><th scope=col>&lt;chr&gt;</th><th scope=col>&lt;chr&gt;</th><th scope=col>&lt;chr&gt;</th><th scope=col>&lt;dbl&gt;</th><th scope=col>&lt;chr&gt;</th><th scope=col>&lt;dbl&gt;</th><th scope=col>&lt;dbl&gt;</th><th scope=col>&lt;dbl&gt;</th><th scope=col>&lt;chr&gt;</th><th scope=col>&lt;int&gt;</th></tr>\n",
       "</thead>\n",
       "<tbody>\n",
       "\t<tr><th scope=row>hsa04740</th><td>Organismal Systems                  </td><td>Sensory system                     </td><td>hsa04740</td><td>Olfactory transduction                 </td><td>0.20161290</td><td>453/8848</td><td>2.593365e-09</td><td>4.590256e-07</td><td>4.422370e-07</td><td>341568/81448/9596/138882/286365/81470/122748/81458/81392/5137/51806/254973/219447/390084/338662/128371/127064/81300/26245/1260/79541/341416/26693/127068/390648</td><td>25</td></tr>\n",
       "\t<tr><th scope=row>hsa04080</th><td>Environmental Information Processing</td><td>Signaling molecules and interaction</td><td>hsa04080</td><td>Neuroactive ligand-receptor interaction</td><td>0.13709677</td><td>368/8848</td><td>1.349516e-05</td><td>1.194322e-03</td><td>1.150640e-03</td><td>84539/4986/146/9038/2917/130574/7201/2742/1907/319100/4295/85569/8862/1816/2915/2555/796                                                                       </td><td>17</td></tr>\n",
       "\t<tr><th scope=row>hsa04020</th><td>Environmental Information Processing</td><td>Signal transduction                </td><td>hsa04020</td><td>Calcium signaling pathway              </td><td>0.08064516</td><td>254/8848</td><td>2.944704e-03</td><td>1.042425e-01</td><td>1.004299e-01</td><td>3270/146/8823/7201/5137/57172/51806/2277/1816/2915                                                                                                             </td><td>10</td></tr>\n",
       "\t<tr><th scope=row>hsa04270</th><td>Organismal Systems                  </td><td>Circulatory system                 </td><td>hsa04270</td><td>Vascular smooth muscle contraction     </td><td>0.06451613</td><td>134/8848</td><td>5.664302e-04</td><td>2.944529e-02</td><td>2.836834e-02</td><td>146/2977/30814/1907/51806/84647/255189/796                                                                                                                     </td><td> 8</td></tr>\n",
       "\t<tr><th scope=row>hsa04744</th><td>Organismal Systems                  </td><td>Sensory system                     </td><td>hsa04744</td><td>Phototransduction                      </td><td>0.03225806</td><td>29/8848 </td><td>6.654302e-04</td><td>2.944529e-02</td><td>2.836834e-02</td><td>2792/2986/6010/51806                                                                                                                                           </td><td> 4</td></tr>\n",
       "\t<tr><th scope=row>hsa00592</th><td>Metabolism                          </td><td>Lipid metabolism                   </td><td>hsa00592</td><td>alpha-Linolenic acid metabolism        </td><td>0.02419355</td><td>26/8848 </td><td>5.520226e-03</td><td>1.628467e-01</td><td>1.568906e-01</td><td>30814/84647/255189                                                                                                                                             </td><td> 3</td></tr>\n",
       "</tbody>\n",
       "</table>\n"
      ],
      "text/latex": [
       "A data.frame: 6 × 11\n",
       "\\begin{tabular}{r|lllllllllll}\n",
       "  & category & subcategory & ID & Description & GeneRatio & BgRatio & pvalue & p.adjust & qvalue & geneID & Count\\\\\n",
       "  & <chr> & <chr> & <chr> & <chr> & <dbl> & <chr> & <dbl> & <dbl> & <dbl> & <chr> & <int>\\\\\n",
       "\\hline\n",
       "\thsa04740 & Organismal Systems                   & Sensory system                      & hsa04740 & Olfactory transduction                  & 0.20161290 & 453/8848 & 2.593365e-09 & 4.590256e-07 & 4.422370e-07 & 341568/81448/9596/138882/286365/81470/122748/81458/81392/5137/51806/254973/219447/390084/338662/128371/127064/81300/26245/1260/79541/341416/26693/127068/390648 & 25\\\\\n",
       "\thsa04080 & Environmental Information Processing & Signaling molecules and interaction & hsa04080 & Neuroactive ligand-receptor interaction & 0.13709677 & 368/8848 & 1.349516e-05 & 1.194322e-03 & 1.150640e-03 & 84539/4986/146/9038/2917/130574/7201/2742/1907/319100/4295/85569/8862/1816/2915/2555/796                                                                        & 17\\\\\n",
       "\thsa04020 & Environmental Information Processing & Signal transduction                 & hsa04020 & Calcium signaling pathway               & 0.08064516 & 254/8848 & 2.944704e-03 & 1.042425e-01 & 1.004299e-01 & 3270/146/8823/7201/5137/57172/51806/2277/1816/2915                                                                                                              & 10\\\\\n",
       "\thsa04270 & Organismal Systems                   & Circulatory system                  & hsa04270 & Vascular smooth muscle contraction      & 0.06451613 & 134/8848 & 5.664302e-04 & 2.944529e-02 & 2.836834e-02 & 146/2977/30814/1907/51806/84647/255189/796                                                                                                                      &  8\\\\\n",
       "\thsa04744 & Organismal Systems                   & Sensory system                      & hsa04744 & Phototransduction                       & 0.03225806 & 29/8848  & 6.654302e-04 & 2.944529e-02 & 2.836834e-02 & 2792/2986/6010/51806                                                                                                                                            &  4\\\\\n",
       "\thsa00592 & Metabolism                           & Lipid metabolism                    & hsa00592 & alpha-Linolenic acid metabolism         & 0.02419355 & 26/8848  & 5.520226e-03 & 1.628467e-01 & 1.568906e-01 & 30814/84647/255189                                                                                                                                              &  3\\\\\n",
       "\\end{tabular}\n"
      ],
      "text/markdown": [
       "\n",
       "A data.frame: 6 × 11\n",
       "\n",
       "| <!--/--> | category &lt;chr&gt; | subcategory &lt;chr&gt; | ID &lt;chr&gt; | Description &lt;chr&gt; | GeneRatio &lt;dbl&gt; | BgRatio &lt;chr&gt; | pvalue &lt;dbl&gt; | p.adjust &lt;dbl&gt; | qvalue &lt;dbl&gt; | geneID &lt;chr&gt; | Count &lt;int&gt; |\n",
       "|---|---|---|---|---|---|---|---|---|---|---|---|\n",
       "| hsa04740 | Organismal Systems                   | Sensory system                      | hsa04740 | Olfactory transduction                  | 0.20161290 | 453/8848 | 2.593365e-09 | 4.590256e-07 | 4.422370e-07 | 341568/81448/9596/138882/286365/81470/122748/81458/81392/5137/51806/254973/219447/390084/338662/128371/127064/81300/26245/1260/79541/341416/26693/127068/390648 | 25 |\n",
       "| hsa04080 | Environmental Information Processing | Signaling molecules and interaction | hsa04080 | Neuroactive ligand-receptor interaction | 0.13709677 | 368/8848 | 1.349516e-05 | 1.194322e-03 | 1.150640e-03 | 84539/4986/146/9038/2917/130574/7201/2742/1907/319100/4295/85569/8862/1816/2915/2555/796                                                                        | 17 |\n",
       "| hsa04020 | Environmental Information Processing | Signal transduction                 | hsa04020 | Calcium signaling pathway               | 0.08064516 | 254/8848 | 2.944704e-03 | 1.042425e-01 | 1.004299e-01 | 3270/146/8823/7201/5137/57172/51806/2277/1816/2915                                                                                                              | 10 |\n",
       "| hsa04270 | Organismal Systems                   | Circulatory system                  | hsa04270 | Vascular smooth muscle contraction      | 0.06451613 | 134/8848 | 5.664302e-04 | 2.944529e-02 | 2.836834e-02 | 146/2977/30814/1907/51806/84647/255189/796                                                                                                                      |  8 |\n",
       "| hsa04744 | Organismal Systems                   | Sensory system                      | hsa04744 | Phototransduction                       | 0.03225806 | 29/8848  | 6.654302e-04 | 2.944529e-02 | 2.836834e-02 | 2792/2986/6010/51806                                                                                                                                            |  4 |\n",
       "| hsa00592 | Metabolism                           | Lipid metabolism                    | hsa00592 | alpha-Linolenic acid metabolism         | 0.02419355 | 26/8848  | 5.520226e-03 | 1.628467e-01 | 1.568906e-01 | 30814/84647/255189                                                                                                                                              |  3 |\n",
       "\n"
      ],
      "text/plain": [
       "         category                            \n",
       "hsa04740 Organismal Systems                  \n",
       "hsa04080 Environmental Information Processing\n",
       "hsa04020 Environmental Information Processing\n",
       "hsa04270 Organismal Systems                  \n",
       "hsa04744 Organismal Systems                  \n",
       "hsa00592 Metabolism                          \n",
       "         subcategory                         ID      \n",
       "hsa04740 Sensory system                      hsa04740\n",
       "hsa04080 Signaling molecules and interaction hsa04080\n",
       "hsa04020 Signal transduction                 hsa04020\n",
       "hsa04270 Circulatory system                  hsa04270\n",
       "hsa04744 Sensory system                      hsa04744\n",
       "hsa00592 Lipid metabolism                    hsa00592\n",
       "         Description                             GeneRatio  BgRatio \n",
       "hsa04740 Olfactory transduction                  0.20161290 453/8848\n",
       "hsa04080 Neuroactive ligand-receptor interaction 0.13709677 368/8848\n",
       "hsa04020 Calcium signaling pathway               0.08064516 254/8848\n",
       "hsa04270 Vascular smooth muscle contraction      0.06451613 134/8848\n",
       "hsa04744 Phototransduction                       0.03225806 29/8848 \n",
       "hsa00592 alpha-Linolenic acid metabolism         0.02419355 26/8848 \n",
       "         pvalue       p.adjust     qvalue      \n",
       "hsa04740 2.593365e-09 4.590256e-07 4.422370e-07\n",
       "hsa04080 1.349516e-05 1.194322e-03 1.150640e-03\n",
       "hsa04020 2.944704e-03 1.042425e-01 1.004299e-01\n",
       "hsa04270 5.664302e-04 2.944529e-02 2.836834e-02\n",
       "hsa04744 6.654302e-04 2.944529e-02 2.836834e-02\n",
       "hsa00592 5.520226e-03 1.628467e-01 1.568906e-01\n",
       "         geneID                                                                                                                                                         \n",
       "hsa04740 341568/81448/9596/138882/286365/81470/122748/81458/81392/5137/51806/254973/219447/390084/338662/128371/127064/81300/26245/1260/79541/341416/26693/127068/390648\n",
       "hsa04080 84539/4986/146/9038/2917/130574/7201/2742/1907/319100/4295/85569/8862/1816/2915/2555/796                                                                       \n",
       "hsa04020 3270/146/8823/7201/5137/57172/51806/2277/1816/2915                                                                                                             \n",
       "hsa04270 146/2977/30814/1907/51806/84647/255189/796                                                                                                                     \n",
       "hsa04744 2792/2986/6010/51806                                                                                                                                           \n",
       "hsa00592 30814/84647/255189                                                                                                                                             \n",
       "         Count\n",
       "hsa04740 25   \n",
       "hsa04080 17   \n",
       "hsa04020 10   \n",
       "hsa04270  8   \n",
       "hsa04744  4   \n",
       "hsa00592  3   "
      ]
     },
     "metadata": {},
     "output_type": "display_data"
    }
   ],
   "source": [
    "non_gc_res_df = data.frame(non_gc_res[order(non_gc_res$Count, decreasing = TRUE), ])\n",
    "head(non_gc_res_df, 10)"
   ]
  },
  {
   "cell_type": "code",
   "execution_count": 185,
   "metadata": {
    "vscode": {
     "languageId": "r"
    }
   },
   "outputs": [
    {
     "data": {
      "text/html": [
       "<style>\n",
       ".list-inline {list-style: none; margin:0; padding: 0}\n",
       ".list-inline>li {display: inline-block}\n",
       ".list-inline>li:not(:last-child)::after {content: \"\\00b7\"; padding: 0 .5ex}\n",
       "</style>\n",
       "<ol class=list-inline><li>'hsa04740'</li><li>'hsa04080'</li></ol>\n"
      ],
      "text/latex": [
       "\\begin{enumerate*}\n",
       "\\item 'hsa04740'\n",
       "\\item 'hsa04080'\n",
       "\\end{enumerate*}\n"
      ],
      "text/markdown": [
       "1. 'hsa04740'\n",
       "2. 'hsa04080'\n",
       "\n",
       "\n"
      ],
      "text/plain": [
       "[1] \"hsa04740\" \"hsa04080\""
      ]
     },
     "metadata": {},
     "output_type": "display_data"
    }
   ],
   "source": [
    "# shared pathways\n",
    "intersect(row.names(non_gc_res_df), row.names(gc_res_df))"
   ]
  },
  {
   "cell_type": "code",
   "execution_count": 190,
   "metadata": {
    "vscode": {
     "languageId": "r"
    }
   },
   "outputs": [
    {
     "data": {
      "text/html": [
       "<style>\n",
       ".list-inline {list-style: none; margin:0; padding: 0}\n",
       ".list-inline>li {display: inline-block}\n",
       ".list-inline>li:not(:last-child)::after {content: \"\\00b7\"; padding: 0 .5ex}\n",
       "</style>\n",
       "<ol class=list-inline><li>'hsa04024'</li><li>'hsa05033'</li><li>'hsa04610'</li><li>'hsa04976'</li><li>'hsa04975'</li></ol>\n"
      ],
      "text/latex": [
       "\\begin{enumerate*}\n",
       "\\item 'hsa04024'\n",
       "\\item 'hsa05033'\n",
       "\\item 'hsa04610'\n",
       "\\item 'hsa04976'\n",
       "\\item 'hsa04975'\n",
       "\\end{enumerate*}\n"
      ],
      "text/markdown": [
       "1. 'hsa04024'\n",
       "2. 'hsa05033'\n",
       "3. 'hsa04610'\n",
       "4. 'hsa04976'\n",
       "5. 'hsa04975'\n",
       "\n",
       "\n"
      ],
      "text/plain": [
       "[1] \"hsa04024\" \"hsa05033\" \"hsa04610\" \"hsa04976\" \"hsa04975\""
      ]
     },
     "metadata": {},
     "output_type": "display_data"
    }
   ],
   "source": [
    "# gc unique pathways\n",
    "setdiff(row.names(gc_res_df), intersect(row.names(non_gc_res_df), row.names(gc_res_df)))"
   ]
  },
  {
   "cell_type": "code",
   "execution_count": 189,
   "metadata": {
    "vscode": {
     "languageId": "r"
    }
   },
   "outputs": [
    {
     "data": {
      "text/html": [
       "<style>\n",
       ".list-inline {list-style: none; margin:0; padding: 0}\n",
       ".list-inline>li {display: inline-block}\n",
       ".list-inline>li:not(:last-child)::after {content: \"\\00b7\"; padding: 0 .5ex}\n",
       "</style>\n",
       "<ol class=list-inline><li>'hsa04020'</li><li>'hsa04270'</li><li>'hsa04744'</li><li>'hsa00592'</li></ol>\n"
      ],
      "text/latex": [
       "\\begin{enumerate*}\n",
       "\\item 'hsa04020'\n",
       "\\item 'hsa04270'\n",
       "\\item 'hsa04744'\n",
       "\\item 'hsa00592'\n",
       "\\end{enumerate*}\n"
      ],
      "text/markdown": [
       "1. 'hsa04020'\n",
       "2. 'hsa04270'\n",
       "3. 'hsa04744'\n",
       "4. 'hsa00592'\n",
       "\n",
       "\n"
      ],
      "text/plain": [
       "[1] \"hsa04020\" \"hsa04270\" \"hsa04744\" \"hsa00592\""
      ]
     },
     "metadata": {},
     "output_type": "display_data"
    }
   ],
   "source": [
    "# non gc unique pathways\n",
    "setdiff(row.names(non_gc_res_df), intersect(row.names(non_gc_res_df), row.names(gc_res_df)))"
   ]
  },
  {
   "cell_type": "code",
   "execution_count": 26,
   "metadata": {
    "vscode": {
     "languageId": "r"
    }
   },
   "outputs": [
    {
     "data": {
      "text/html": [
       "<style>\n",
       ".list-inline {list-style: none; margin:0; padding: 0}\n",
       ".list-inline>li {display: inline-block}\n",
       ".list-inline>li:not(:last-child)::after {content: \"\\00b7\"; padding: 0 .5ex}\n",
       "</style>\n",
       "<ol class=list-inline><li>'390195'</li><li>'79501'</li><li>'128966576'</li><li>'79339'</li><li>'346525'</li><li>'390882'</li><li>'390078'</li><li>'119764'</li><li>'392309'</li><li>'441669'</li><li>'346517'</li><li>'393046'</li><li>'219432'</li><li>'79345'</li><li>'81439'</li><li>'81282'</li><li>'138883'</li><li>'26248'</li><li>'392391'</li><li>'26339'</li><li>'390059'</li><li>'390067'</li><li>'343563'</li><li>'401993'</li><li>'26532'</li><li>'282763'</li><li>'390264'</li><li>'390439'</li><li>'392138'</li><li>'219981'</li><li>'219858'</li><li>'403253'</li><li>'8590'</li><li>'390174'</li><li>'341418'</li><li>'127074'</li><li>'403273'</li><li>'391211'</li><li>'390066'</li><li>'26716'</li><li>'119695'</li><li>'81469'</li><li>'26219'</li><li>'120793'</li><li>'120796'</li><li>'390445'</li><li>'390442'</li><li>'441933'</li><li>'442361'</li></ol>\n"
      ],
      "text/latex": [
       "\\begin{enumerate*}\n",
       "\\item '390195'\n",
       "\\item '79501'\n",
       "\\item '128966576'\n",
       "\\item '79339'\n",
       "\\item '346525'\n",
       "\\item '390882'\n",
       "\\item '390078'\n",
       "\\item '119764'\n",
       "\\item '392309'\n",
       "\\item '441669'\n",
       "\\item '346517'\n",
       "\\item '393046'\n",
       "\\item '219432'\n",
       "\\item '79345'\n",
       "\\item '81439'\n",
       "\\item '81282'\n",
       "\\item '138883'\n",
       "\\item '26248'\n",
       "\\item '392391'\n",
       "\\item '26339'\n",
       "\\item '390059'\n",
       "\\item '390067'\n",
       "\\item '343563'\n",
       "\\item '401993'\n",
       "\\item '26532'\n",
       "\\item '282763'\n",
       "\\item '390264'\n",
       "\\item '390439'\n",
       "\\item '392138'\n",
       "\\item '219981'\n",
       "\\item '219858'\n",
       "\\item '403253'\n",
       "\\item '8590'\n",
       "\\item '390174'\n",
       "\\item '341418'\n",
       "\\item '127074'\n",
       "\\item '403273'\n",
       "\\item '391211'\n",
       "\\item '390066'\n",
       "\\item '26716'\n",
       "\\item '119695'\n",
       "\\item '81469'\n",
       "\\item '26219'\n",
       "\\item '120793'\n",
       "\\item '120796'\n",
       "\\item '390445'\n",
       "\\item '390442'\n",
       "\\item '441933'\n",
       "\\item '442361'\n",
       "\\end{enumerate*}\n"
      ],
      "text/markdown": [
       "1. '390195'\n",
       "2. '79501'\n",
       "3. '128966576'\n",
       "4. '79339'\n",
       "5. '346525'\n",
       "6. '390882'\n",
       "7. '390078'\n",
       "8. '119764'\n",
       "9. '392309'\n",
       "10. '441669'\n",
       "11. '346517'\n",
       "12. '393046'\n",
       "13. '219432'\n",
       "14. '79345'\n",
       "15. '81439'\n",
       "16. '81282'\n",
       "17. '138883'\n",
       "18. '26248'\n",
       "19. '392391'\n",
       "20. '26339'\n",
       "21. '390059'\n",
       "22. '390067'\n",
       "23. '343563'\n",
       "24. '401993'\n",
       "25. '26532'\n",
       "26. '282763'\n",
       "27. '390264'\n",
       "28. '390439'\n",
       "29. '392138'\n",
       "30. '219981'\n",
       "31. '219858'\n",
       "32. '403253'\n",
       "33. '8590'\n",
       "34. '390174'\n",
       "35. '341418'\n",
       "36. '127074'\n",
       "37. '403273'\n",
       "38. '391211'\n",
       "39. '390066'\n",
       "40. '26716'\n",
       "41. '119695'\n",
       "42. '81469'\n",
       "43. '26219'\n",
       "44. '120793'\n",
       "45. '120796'\n",
       "46. '390445'\n",
       "47. '390442'\n",
       "48. '441933'\n",
       "49. '442361'\n",
       "\n",
       "\n"
      ],
      "text/plain": [
       " [1] \"390195\"    \"79501\"     \"128966576\" \"79339\"     \"346525\"    \"390882\"   \n",
       " [7] \"390078\"    \"119764\"    \"392309\"    \"441669\"    \"346517\"    \"393046\"   \n",
       "[13] \"219432\"    \"79345\"     \"81439\"     \"81282\"     \"138883\"    \"26248\"    \n",
       "[19] \"392391\"    \"26339\"     \"390059\"    \"390067\"    \"343563\"    \"401993\"   \n",
       "[25] \"26532\"     \"282763\"    \"390264\"    \"390439\"    \"392138\"    \"219981\"   \n",
       "[31] \"219858\"    \"403253\"    \"8590\"      \"390174\"    \"341418\"    \"127074\"   \n",
       "[37] \"403273\"    \"391211\"    \"390066\"    \"26716\"     \"119695\"    \"81469\"    \n",
       "[43] \"26219\"     \"120793\"    \"120796\"    \"390445\"    \"390442\"    \"441933\"   \n",
       "[49] \"442361\"   "
      ]
     },
     "metadata": {},
     "output_type": "display_data"
    }
   ],
   "source": [
    "gene_ids <- data.frame(gc_res)[\"hsa04740\", \"geneID\"]\n",
    "split_gene_ids_g <- strsplit(gene_ids, \"/\")[[1]]\n",
    "split_gene_ids_g"
   ]
  },
  {
   "cell_type": "code",
   "execution_count": 27,
   "metadata": {
    "vscode": {
     "languageId": "r"
    }
   },
   "outputs": [
    {
     "data": {
      "text/html": [
       "<style>\n",
       ".list-inline {list-style: none; margin:0; padding: 0}\n",
       ".list-inline>li {display: inline-block}\n",
       ".list-inline>li:not(:last-child)::after {content: \"\\00b7\"; padding: 0 .5ex}\n",
       "</style>\n",
       "<ol class=list-inline><li>'341568'</li><li>'81448'</li><li>'9596'</li><li>'138882'</li><li>'286365'</li><li>'81470'</li><li>'122748'</li><li>'81458'</li><li>'81392'</li><li>'5137'</li><li>'51806'</li><li>'254973'</li><li>'219447'</li><li>'390084'</li><li>'338662'</li><li>'128371'</li><li>'127064'</li><li>'81300'</li><li>'26245'</li><li>'1260'</li><li>'79541'</li><li>'341416'</li><li>'26693'</li><li>'127068'</li><li>'390648'</li></ol>\n"
      ],
      "text/latex": [
       "\\begin{enumerate*}\n",
       "\\item '341568'\n",
       "\\item '81448'\n",
       "\\item '9596'\n",
       "\\item '138882'\n",
       "\\item '286365'\n",
       "\\item '81470'\n",
       "\\item '122748'\n",
       "\\item '81458'\n",
       "\\item '81392'\n",
       "\\item '5137'\n",
       "\\item '51806'\n",
       "\\item '254973'\n",
       "\\item '219447'\n",
       "\\item '390084'\n",
       "\\item '338662'\n",
       "\\item '128371'\n",
       "\\item '127064'\n",
       "\\item '81300'\n",
       "\\item '26245'\n",
       "\\item '1260'\n",
       "\\item '79541'\n",
       "\\item '341416'\n",
       "\\item '26693'\n",
       "\\item '127068'\n",
       "\\item '390648'\n",
       "\\end{enumerate*}\n"
      ],
      "text/markdown": [
       "1. '341568'\n",
       "2. '81448'\n",
       "3. '9596'\n",
       "4. '138882'\n",
       "5. '286365'\n",
       "6. '81470'\n",
       "7. '122748'\n",
       "8. '81458'\n",
       "9. '81392'\n",
       "10. '5137'\n",
       "11. '51806'\n",
       "12. '254973'\n",
       "13. '219447'\n",
       "14. '390084'\n",
       "15. '338662'\n",
       "16. '128371'\n",
       "17. '127064'\n",
       "18. '81300'\n",
       "19. '26245'\n",
       "20. '1260'\n",
       "21. '79541'\n",
       "22. '341416'\n",
       "23. '26693'\n",
       "24. '127068'\n",
       "25. '390648'\n",
       "\n",
       "\n"
      ],
      "text/plain": [
       " [1] \"341568\" \"81448\"  \"9596\"   \"138882\" \"286365\" \"81470\"  \"122748\" \"81458\" \n",
       " [9] \"81392\"  \"5137\"   \"51806\"  \"254973\" \"219447\" \"390084\" \"338662\" \"128371\"\n",
       "[17] \"127064\" \"81300\"  \"26245\"  \"1260\"   \"79541\"  \"341416\" \"26693\"  \"127068\"\n",
       "[25] \"390648\""
      ]
     },
     "metadata": {},
     "output_type": "display_data"
    }
   ],
   "source": [
    "gene_ids <- data.frame(non_gc_res)[\"hsa04740\", \"geneID\"]\n",
    "split_gene_ids_n <- strsplit(gene_ids, \"/\")[[1]]\n",
    "split_gene_ids_n"
   ]
  },
  {
   "cell_type": "code",
   "execution_count": 28,
   "metadata": {
    "vscode": {
     "languageId": "r"
    }
   },
   "outputs": [
    {
     "data": {
      "text/html": [
       "<style>\n",
       ".list-inline {list-style: none; margin:0; padding: 0}\n",
       ".list-inline>li {display: inline-block}\n",
       ".list-inline>li:not(:last-child)::after {content: \"\\00b7\"; padding: 0 .5ex}\n",
       "</style>\n",
       "<ol class=list-inline><li>'341568'</li><li>'81448'</li><li>'9596'</li><li>'138882'</li><li>'286365'</li><li>'81470'</li><li>'122748'</li><li>'81458'</li><li>'81392'</li><li>'5137'</li><li>'51806'</li><li>'254973'</li><li>'219447'</li><li>'390084'</li><li>'338662'</li><li>'128371'</li><li>'127064'</li><li>'81300'</li><li>'26245'</li><li>'1260'</li><li>'79541'</li><li>'341416'</li><li>'26693'</li><li>'127068'</li><li>'390648'</li></ol>\n"
      ],
      "text/latex": [
       "\\begin{enumerate*}\n",
       "\\item '341568'\n",
       "\\item '81448'\n",
       "\\item '9596'\n",
       "\\item '138882'\n",
       "\\item '286365'\n",
       "\\item '81470'\n",
       "\\item '122748'\n",
       "\\item '81458'\n",
       "\\item '81392'\n",
       "\\item '5137'\n",
       "\\item '51806'\n",
       "\\item '254973'\n",
       "\\item '219447'\n",
       "\\item '390084'\n",
       "\\item '338662'\n",
       "\\item '128371'\n",
       "\\item '127064'\n",
       "\\item '81300'\n",
       "\\item '26245'\n",
       "\\item '1260'\n",
       "\\item '79541'\n",
       "\\item '341416'\n",
       "\\item '26693'\n",
       "\\item '127068'\n",
       "\\item '390648'\n",
       "\\end{enumerate*}\n"
      ],
      "text/markdown": [
       "1. '341568'\n",
       "2. '81448'\n",
       "3. '9596'\n",
       "4. '138882'\n",
       "5. '286365'\n",
       "6. '81470'\n",
       "7. '122748'\n",
       "8. '81458'\n",
       "9. '81392'\n",
       "10. '5137'\n",
       "11. '51806'\n",
       "12. '254973'\n",
       "13. '219447'\n",
       "14. '390084'\n",
       "15. '338662'\n",
       "16. '128371'\n",
       "17. '127064'\n",
       "18. '81300'\n",
       "19. '26245'\n",
       "20. '1260'\n",
       "21. '79541'\n",
       "22. '341416'\n",
       "23. '26693'\n",
       "24. '127068'\n",
       "25. '390648'\n",
       "\n",
       "\n"
      ],
      "text/plain": [
       " [1] \"341568\" \"81448\"  \"9596\"   \"138882\" \"286365\" \"81470\"  \"122748\" \"81458\" \n",
       " [9] \"81392\"  \"5137\"   \"51806\"  \"254973\" \"219447\" \"390084\" \"338662\" \"128371\"\n",
       "[17] \"127064\" \"81300\"  \"26245\"  \"1260\"   \"79541\"  \"341416\" \"26693\"  \"127068\"\n",
       "[25] \"390648\""
      ]
     },
     "metadata": {},
     "output_type": "display_data"
    }
   ],
   "source": [
    "setdiff(split_gene_ids_n, split_gene_ids_g)"
   ]
  },
  {
   "cell_type": "code",
   "execution_count": 15,
   "metadata": {
    "vscode": {
     "languageId": "r"
    }
   },
   "outputs": [],
   "source": [
    "browseKEGG(non_gc_res, 'hsa04740')\n",
    "browseKEGG(non_gc_res, 'hsa04080')"
   ]
  },
  {
   "cell_type": "code",
   "execution_count": 29,
   "metadata": {
    "vscode": {
     "languageId": "r"
    }
   },
   "outputs": [],
   "source": [
    "browseKEGG(gc_res, 'hsa04740')"
   ]
  },
  {
   "cell_type": "code",
   "execution_count": null,
   "metadata": {
    "vscode": {
     "languageId": "r"
    }
   },
   "outputs": [],
   "source": [
    "# shared pathways\n",
    "browseKEGG(non_gc_res, 'hsa04740')\n",
    "browseKEGG(non_gc_res, 'hsa04080')\n",
    "browseKEGG(gc_res, 'hsa04740')\n",
    "browseKEGG(gc_res, 'hsa04080')\n",
    "\n",
    "# gc unique\n",
    "browseKEGG(gc_res, 'hsa04024')\n",
    "browseKEGG(gc_res, 'hsa05033')\n",
    "browseKEGG(gc_res, 'hsa04610')\n",
    "browseKEGG(gc_res, 'hsa04976')\n",
    "browseKEGG(gc_res, 'hsa04975')\n",
    "\n",
    "# non gc unique\n",
    "browseKEGG(non_gc_res, 'hsa04020')\n",
    "browseKEGG(non_gc_res, 'hsa04270')\n",
    "browseKEGG(non_gc_res, 'hsa04744')\n",
    "browseKEGG(non_gc_res, 'hsa00592')"
   ]
  },
  {
   "cell_type": "code",
   "execution_count": 58,
   "metadata": {
    "vscode": {
     "languageId": "r"
    }
   },
   "outputs": [
    {
     "name": "stderr",
     "output_type": "stream",
     "text": [
      "Warning message in plot_theme(plot):\n",
      "\"\u001b[1m\u001b[22mThe `axis.lab.y` theme element is not defined in the element hierarchy.\"\n"
     ]
    },
    {
     "data": {
      "image/png": "[encoded data removed]",
      "text/plain": [
       "plot without title"
      ]
     },
     "metadata": {
      "image/png": {
       "height": 420,
       "width": 420
      }
     },
     "output_type": "display_data"
    }
   ],
   "source": [
    "# visualize pathways for non globin clear unique\n",
    "\n",
    "non_gc_res <- non_gc_res %>%\n",
    "  arrange(desc(GeneRatio)) %>%\n",
    "  mutate(Description = factor(Description, levels = unique(Description)))  # Order Description by Count\n",
    "\n",
    "non_gc_res$Description <- str_wrap(non_gc_res$Description, width = 20)\n",
    "\n",
    "# Create the dot plot\n",
    "plot <- ggplot(non_gc_res, aes(x = GeneRatio, y = Description, size = Count, color = pvalue)) +\n",
    "  geom_point() +\n",
    "  scale_color_gradient(low = \"blue\", high = \"red\") +\n",
    "  labs(x = \"Gene Ratio\", y = \"Description\", size = \"Count\", color = \"p-value\", title = \"Non Globin Clear Pathways\") +\n",
    "  theme_minimal() + \n",
    "  theme(axis.lab.y = element_text(size = 20))\n",
    "\n",
    "# Save the plot to an image with DPI 300\n",
    "#ggsave(\"dot_plot.png\", plot = plot, dpi = 300)\n",
    "plot"
   ]
  },
  {
   "cell_type": "code",
   "execution_count": 50,
   "metadata": {
    "vscode": {
     "languageId": "r"
    }
   },
   "outputs": [
    {
     "data": {
      "image/png": "[encoded data removed]",
      "text/plain": [
       "plot without title"
      ]
     },
     "metadata": {
      "image/png": {
       "height": 420,
       "width": 420
      }
     },
     "output_type": "display_data"
    }
   ],
   "source": [
    "# visualize pathways for globin clear unique\n",
    "\n",
    "gc_res = data.frame(gc_res)\n",
    "gc_res <- gc_res %>%\n",
    "  arrange(desc(GeneRatio)) %>%\n",
    "  mutate(Description = factor(Description, levels = unique(Description)))  # Order Description by Count\n",
    "\n",
    "# Create the dot plot\n",
    "plot <- ggplot(gc_res, aes(x = GeneRatio, y = Description, size = Count, color = pvalue)) +\n",
    "  geom_point() +\n",
    "  scale_color_gradient(low = \"blue\", high = \"red\") +\n",
    "  labs(x = \"Gene Ratio\", y = \"Description\", size = \"Count\", color = \"p-value\", title = \"Globin Clear Pathways\") +\n",
    "  theme_minimal()\n",
    "\n",
    "# Save the plot to an image with DPI 300\n",
    "#ggsave(\"dot_plot.png\", plot = plot, dpi = 300)\n",
    "plot"
   ]
  },
  {
   "cell_type": "code",
   "execution_count": 60,
   "metadata": {
    "vscode": {
     "languageId": "r"
    }
   },
   "outputs": [],
   "source": [
    "# Now DEGs from differential expression\n",
    "#\n",
    "res = data.frame(readRDS(\"comp_res_common_codinglnc.RDS\"))"
   ]
  },
  {
   "cell_type": "code",
   "execution_count": 61,
   "metadata": {
    "vscode": {
     "languageId": "r"
    }
   },
   "outputs": [
    {
     "data": {
      "text/html": [
       "<table class=\"dataframe\">\n",
       "<caption>A data.frame: 3319 × 6</caption>\n",
       "<thead>\n",
       "\t<tr><th></th><th scope=col>baseMean</th><th scope=col>log2FoldChange</th><th scope=col>lfcSE</th><th scope=col>stat</th><th scope=col>pvalue</th><th scope=col>padj</th></tr>\n",
       "\t<tr><th></th><th scope=col>&lt;dbl&gt;</th><th scope=col>&lt;dbl&gt;</th><th scope=col>&lt;dbl&gt;</th><th scope=col>&lt;dbl&gt;</th><th scope=col>&lt;dbl&gt;</th><th scope=col>&lt;dbl&gt;</th></tr>\n",
       "</thead>\n",
       "<tbody>\n",
       "\t<tr><th scope=row>ENSG00000239906</th><td>  18.481653</td><td>-0.9004896</td><td>0.32682137</td><td>-2.755296</td><td>5.863906e-03</td><td>3.601407e-02</td></tr>\n",
       "\t<tr><th scope=row>ENSG00000241860</th><td> 136.745029</td><td>-1.0686863</td><td>0.23563841</td><td>-4.535280</td><td>5.752702e-06</td><td>1.277521e-04</td></tr>\n",
       "\t<tr><th scope=row>ENSG00000290385</th><td> 365.735217</td><td>-0.9523347</td><td>0.19818087</td><td>-4.805382</td><td>1.544566e-06</td><td>4.029591e-05</td></tr>\n",
       "\t<tr><th scope=row>ENSG00000291215</th><td> 238.248620</td><td>-0.9098605</td><td>0.13854862</td><td>-6.567085</td><td>5.130984e-11</td><td>5.162167e-09</td></tr>\n",
       "\t<tr><th scope=row>AGRN</th><td> 143.355867</td><td>-0.7100456</td><td>0.25799335</td><td>-2.752186</td><td>5.919893e-03</td><td>3.629672e-02</td></tr>\n",
       "\t<tr><th scope=row>SSU72</th><td>1585.892299</td><td> 0.3075839</td><td>0.07678814</td><td> 4.005618</td><td>6.185559e-05</td><td>9.402256e-04</td></tr>\n",
       "\t<tr><th scope=row>CDK11B</th><td> 863.436379</td><td>-0.6133762</td><td>0.11284740</td><td>-5.435448</td><td>5.465888e-08</td><td>2.113244e-06</td></tr>\n",
       "\t<tr><th scope=row>SLC35E2B</th><td>1489.552531</td><td>-0.2854068</td><td>0.09026364</td><td>-3.161925</td><td>1.567301e-03</td><td>1.308599e-02</td></tr>\n",
       "\t<tr><th scope=row>ENSG00000293187</th><td>  39.076718</td><td>-0.7257351</td><td>0.19521985</td><td>-3.717527</td><td>2.011824e-04</td><td>2.487122e-03</td></tr>\n",
       "\t<tr><th scope=row>ENSG00000268575</th><td>  68.482443</td><td>-0.8532553</td><td>0.20464319</td><td>-4.169478</td><td>3.052978e-05</td><td>5.181242e-04</td></tr>\n",
       "\t<tr><th scope=row>ENSG00000293188</th><td> 224.161197</td><td>-0.5505003</td><td>0.18505006</td><td>-2.974872</td><td>2.931105e-03</td><td>2.128207e-02</td></tr>\n",
       "\t<tr><th scope=row>ENSG00000290854</th><td>  58.263737</td><td>-0.7149778</td><td>0.17340960</td><td>-4.123058</td><td>3.738761e-05</td><td>6.133589e-04</td></tr>\n",
       "\t<tr><th scope=row>SKI</th><td>1588.034446</td><td>-0.2674699</td><td>0.06236145</td><td>-4.289027</td><td>1.794580e-05</td><td>3.294284e-04</td></tr>\n",
       "\t<tr><th scope=row>ENSG00000287356</th><td>   7.354938</td><td> 1.4752795</td><td>0.51301090</td><td> 2.875727</td><td>4.030978e-03</td><td>2.726750e-02</td></tr>\n",
       "\t<tr><th scope=row>ESPN</th><td> 633.568786</td><td>-0.8058740</td><td>0.20116624</td><td>-4.006010</td><td>6.175298e-05</td><td>9.394501e-04</td></tr>\n",
       "\t<tr><th scope=row>NOL9</th><td> 346.153650</td><td>-0.3181701</td><td>0.08316963</td><td>-3.825556</td><td>1.304770e-04</td><td>1.762601e-03</td></tr>\n",
       "\t<tr><th scope=row>DNAJC11</th><td> 300.614722</td><td>-0.2674103</td><td>0.08973508</td><td>-2.979997</td><td>2.882510e-03</td><td>2.104672e-02</td></tr>\n",
       "\t<tr><th scope=row>VAMP3</th><td>1022.175170</td><td> 0.2526870</td><td>0.07333795</td><td> 3.445515</td><td>5.699733e-04</td><td>5.827745e-03</td></tr>\n",
       "\t<tr><th scope=row>RERE</th><td>3455.729949</td><td>-0.3291016</td><td>0.06530308</td><td>-5.039604</td><td>4.664971e-07</td><td>1.418182e-05</td></tr>\n",
       "\t<tr><th scope=row>CA6</th><td>  47.721861</td><td>-0.5596734</td><td>0.19164688</td><td>-2.920337</td><td>3.496533e-03</td><td>2.434870e-02</td></tr>\n",
       "\t<tr><th scope=row>H6PD</th><td>1012.954693</td><td>-0.3724219</td><td>0.10382948</td><td>-3.586861</td><td>3.346832e-04</td><td>3.764393e-03</td></tr>\n",
       "\t<tr><th scope=row>SLC25A33</th><td>  51.563911</td><td> 0.5884406</td><td>0.19926056</td><td> 2.953121</td><td>3.145782e-03</td><td>2.245712e-02</td></tr>\n",
       "\t<tr><th scope=row>RBP7</th><td> 223.370502</td><td> 0.6710419</td><td>0.10901997</td><td> 6.155220</td><td>7.497328e-10</td><td>4.928749e-08</td></tr>\n",
       "\t<tr><th scope=row>KIF1B</th><td> 652.418401</td><td>-0.5636918</td><td>0.08532600</td><td>-6.606331</td><td>3.939621e-11</td><td>4.030365e-09</td></tr>\n",
       "\t<tr><th scope=row>ENSG00000284735</th><td>  12.152496</td><td>-1.3778387</td><td>0.35029282</td><td>-3.933391</td><td>8.375578e-05</td><td>1.226039e-03</td></tr>\n",
       "\t<tr><th scope=row>PGD</th><td>3993.102217</td><td> 0.3021076</td><td>0.06384278</td><td> 4.732055</td><td>2.222578e-06</td><td>5.551872e-05</td></tr>\n",
       "\t<tr><th scope=row>CASZ1</th><td>  91.727032</td><td>-0.6108223</td><td>0.14414532</td><td>-4.237545</td><td>2.259768e-05</td><td>4.014672e-04</td></tr>\n",
       "\t<tr><th scope=row>MTOR</th><td> 776.141045</td><td>-0.4107593</td><td>0.07730548</td><td>-5.313457</td><td>1.075651e-07</td><td>3.825703e-06</td></tr>\n",
       "\t<tr><th scope=row>MTHFR</th><td> 649.430960</td><td>-0.4009424</td><td>0.09868214</td><td>-4.062968</td><td>4.845272e-05</td><td>7.645789e-04</td></tr>\n",
       "\t<tr><th scope=row>VPS13D</th><td>1101.721057</td><td>-0.4572175</td><td>0.08896462</td><td>-5.139318</td><td>2.757378e-07</td><td>8.762975e-06</td></tr>\n",
       "\t<tr><th scope=row>⋮</th><td>⋮</td><td>⋮</td><td>⋮</td><td>⋮</td><td>⋮</td><td>⋮</td></tr>\n",
       "\t<tr><th scope=row>TENM1</th><td>   97.03660</td><td>-0.4334500</td><td>0.15335829</td><td>-2.826388</td><td>4.707620e-03</td><td>3.057267e-02</td></tr>\n",
       "\t<tr><th scope=row>BCORL1</th><td>  256.55445</td><td>-0.3214675</td><td>0.11494904</td><td>-2.796609</td><td>5.164204e-03</td><td>3.270962e-02</td></tr>\n",
       "\t<tr><th scope=row>RAB33A</th><td>   33.95514</td><td> 0.5616201</td><td>0.21064734</td><td> 2.666163</td><td>7.672259e-03</td><td>4.393454e-02</td></tr>\n",
       "\t<tr><th scope=row>HPRT1</th><td>  172.84286</td><td> 0.4005909</td><td>0.11824147</td><td> 3.387905</td><td>7.042869e-04</td><td>6.924981e-03</td></tr>\n",
       "\t<tr><th scope=row>LINC00892</th><td>   38.21065</td><td> 0.5665992</td><td>0.19505777</td><td> 2.904777</td><td>3.675154e-03</td><td>2.528317e-02</td></tr>\n",
       "\t<tr><th scope=row>RBMX</th><td> 1786.64525</td><td> 0.3282407</td><td>0.09838990</td><td> 3.336122</td><td>8.495594e-04</td><td>8.017142e-03</td></tr>\n",
       "\t<tr><th scope=row>FMR1-IT1</th><td>   22.72947</td><td>-0.8200756</td><td>0.24075430</td><td>-3.406276</td><td>6.585559e-04</td><td>6.553171e-03</td></tr>\n",
       "\t<tr><th scope=row>IDS</th><td>  570.91210</td><td>-0.6084987</td><td>0.08721923</td><td>-6.976657</td><td>3.022868e-12</td><td>3.931888e-10</td></tr>\n",
       "\t<tr><th scope=row>EOLA2-DT</th><td>  126.21758</td><td>-0.5650243</td><td>0.15145164</td><td>-3.730724</td><td>1.909302e-04</td><td>2.392385e-03</td></tr>\n",
       "\t<tr><th scope=row>CETN2</th><td>  174.19234</td><td> 0.4947483</td><td>0.11181230</td><td> 4.424811</td><td>9.652687e-06</td><td>1.944418e-04</td></tr>\n",
       "\t<tr><th scope=row>ZNF275</th><td>  221.80101</td><td>-0.2687356</td><td>0.09870312</td><td>-2.722666</td><td>6.475750e-03</td><td>3.876509e-02</td></tr>\n",
       "\t<tr><th scope=row>SLC6A8</th><td> 1989.39892</td><td>-0.7678239</td><td>0.15758214</td><td>-4.872531</td><td>1.101776e-06</td><td>2.981180e-05</td></tr>\n",
       "\t<tr><th scope=row>PLXNB3</th><td>   20.72415</td><td>-1.1225705</td><td>0.32000329</td><td>-3.507997</td><td>4.514944e-04</td><td>4.813649e-03</td></tr>\n",
       "\t<tr><th scope=row>HCFC1</th><td> 1117.32225</td><td>-0.7309790</td><td>0.14338458</td><td>-5.098030</td><td>3.432056e-07</td><td>1.075693e-05</td></tr>\n",
       "\t<tr><th scope=row>MECP2</th><td> 1290.38082</td><td>-0.1932772</td><td>0.07359753</td><td>-2.626138</td><td>8.635990e-03</td><td>4.809216e-02</td></tr>\n",
       "\t<tr><th scope=row>FLNA</th><td>20666.48436</td><td>-0.6973439</td><td>0.14020723</td><td>-4.973666</td><td>6.569843e-07</td><td>1.898997e-05</td></tr>\n",
       "\t<tr><th scope=row>RPL10</th><td>14783.86550</td><td> 0.4311309</td><td>0.11647331</td><td> 3.701542</td><td>2.142929e-04</td><td>2.624686e-03</td></tr>\n",
       "\t<tr><th scope=row>GDI1</th><td> 2904.86066</td><td> 0.2469113</td><td>0.08860418</td><td> 2.786677</td><td>5.325146e-03</td><td>3.351849e-02</td></tr>\n",
       "\t<tr><th scope=row>PLXNA3</th><td>  525.18383</td><td>-0.4379674</td><td>0.12839475</td><td>-3.411101</td><td>6.470117e-04</td><td>6.466566e-03</td></tr>\n",
       "\t<tr><th scope=row>GAB3</th><td>  848.68832</td><td> 0.2630803</td><td>0.07124482</td><td> 3.692624</td><td>2.219520e-04</td><td>2.696533e-03</td></tr>\n",
       "\t<tr><th scope=row>MPP1</th><td> 5152.78515</td><td>-0.2403011</td><td>0.07701515</td><td>-3.120180</td><td>1.807405e-03</td><td>1.457959e-02</td></tr>\n",
       "\t<tr><th scope=row>F8A1</th><td>  175.50936</td><td> 0.6074666</td><td>0.16328221</td><td> 3.720348</td><td>1.989484e-04</td><td>2.461176e-03</td></tr>\n",
       "\t<tr><th scope=row>FUNDC2</th><td> 1003.04916</td><td> 0.3448109</td><td>0.09259795</td><td> 3.723742</td><td>1.962913e-04</td><td>2.441347e-03</td></tr>\n",
       "\t<tr><th scope=row>VBP1</th><td>  397.35168</td><td> 0.4194088</td><td>0.14046872</td><td> 2.985781</td><td>2.828553e-03</td><td>2.075734e-02</td></tr>\n",
       "\t<tr><th scope=row>MT-CO2</th><td>27358.47076</td><td> 0.2885205</td><td>0.09961239</td><td> 2.896432</td><td>3.774323e-03</td><td>2.587742e-02</td></tr>\n",
       "\t<tr><th scope=row>MT-ND5</th><td>21709.58338</td><td>-0.5872890</td><td>0.11465552</td><td>-5.122205</td><td>3.019835e-07</td><td>9.530537e-06</td></tr>\n",
       "\t<tr><th scope=row>MT-CYB</th><td>22503.16998</td><td>-0.3551499</td><td>0.10600977</td><td>-3.350162</td><td>8.076424e-04</td><td>7.728412e-03</td></tr>\n",
       "\t<tr><th scope=row>ENSG00000278384</th><td>   36.77386</td><td>-1.0187376</td><td>0.29570567</td><td>-3.445107</td><td>5.708339e-04</td><td>5.829997e-03</td></tr>\n",
       "\t<tr><th scope=row>ENSG00000273748</th><td>  107.82473</td><td> 0.5627063</td><td>0.17059022</td><td> 3.298585</td><td>9.717347e-04</td><td>8.973270e-03</td></tr>\n",
       "\t<tr><th scope=row>ENSG00000271254</th><td>  111.76806</td><td>-0.6789905</td><td>0.14469268</td><td>-4.692639</td><td>2.697034e-06</td><td>6.539679e-05</td></tr>\n",
       "</tbody>\n",
       "</table>\n"
      ],
      "text/latex": [
       "A data.frame: 3319 × 6\n",
       "\\begin{tabular}{r|llllll}\n",
       "  & baseMean & log2FoldChange & lfcSE & stat & pvalue & padj\\\\\n",
       "  & <dbl> & <dbl> & <dbl> & <dbl> & <dbl> & <dbl>\\\\\n",
       "\\hline\n",
       "\tENSG00000239906 &   18.481653 & -0.9004896 & 0.32682137 & -2.755296 & 5.863906e-03 & 3.601407e-02\\\\\n",
       "\tENSG00000241860 &  136.745029 & -1.0686863 & 0.23563841 & -4.535280 & 5.752702e-06 & 1.277521e-04\\\\\n",
       "\tENSG00000290385 &  365.735217 & -0.9523347 & 0.19818087 & -4.805382 & 1.544566e-06 & 4.029591e-05\\\\\n",
       "\tENSG00000291215 &  238.248620 & -0.9098605 & 0.13854862 & -6.567085 & 5.130984e-11 & 5.162167e-09\\\\\n",
       "\tAGRN &  143.355867 & -0.7100456 & 0.25799335 & -2.752186 & 5.919893e-03 & 3.629672e-02\\\\\n",
       "\tSSU72 & 1585.892299 &  0.3075839 & 0.07678814 &  4.005618 & 6.185559e-05 & 9.402256e-04\\\\\n",
       "\tCDK11B &  863.436379 & -0.6133762 & 0.11284740 & -5.435448 & 5.465888e-08 & 2.113244e-06\\\\\n",
       "\tSLC35E2B & 1489.552531 & -0.2854068 & 0.09026364 & -3.161925 & 1.567301e-03 & 1.308599e-02\\\\\n",
       "\tENSG00000293187 &   39.076718 & -0.7257351 & 0.19521985 & -3.717527 & 2.011824e-04 & 2.487122e-03\\\\\n",
       "\tENSG00000268575 &   68.482443 & -0.8532553 & 0.20464319 & -4.169478 & 3.052978e-05 & 5.181242e-04\\\\\n",
       "\tENSG00000293188 &  224.161197 & -0.5505003 & 0.18505006 & -2.974872 & 2.931105e-03 & 2.128207e-02\\\\\n",
       "\tENSG00000290854 &   58.263737 & -0.7149778 & 0.17340960 & -4.123058 & 3.738761e-05 & 6.133589e-04\\\\\n",
       "\tSKI & 1588.034446 & -0.2674699 & 0.06236145 & -4.289027 & 1.794580e-05 & 3.294284e-04\\\\\n",
       "\tENSG00000287356 &    7.354938 &  1.4752795 & 0.51301090 &  2.875727 & 4.030978e-03 & 2.726750e-02\\\\\n",
       "\tESPN &  633.568786 & -0.8058740 & 0.20116624 & -4.006010 & 6.175298e-05 & 9.394501e-04\\\\\n",
       "\tNOL9 &  346.153650 & -0.3181701 & 0.08316963 & -3.825556 & 1.304770e-04 & 1.762601e-03\\\\\n",
       "\tDNAJC11 &  300.614722 & -0.2674103 & 0.08973508 & -2.979997 & 2.882510e-03 & 2.104672e-02\\\\\n",
       "\tVAMP3 & 1022.175170 &  0.2526870 & 0.07333795 &  3.445515 & 5.699733e-04 & 5.827745e-03\\\\\n",
       "\tRERE & 3455.729949 & -0.3291016 & 0.06530308 & -5.039604 & 4.664971e-07 & 1.418182e-05\\\\\n",
       "\tCA6 &   47.721861 & -0.5596734 & 0.19164688 & -2.920337 & 3.496533e-03 & 2.434870e-02\\\\\n",
       "\tH6PD & 1012.954693 & -0.3724219 & 0.10382948 & -3.586861 & 3.346832e-04 & 3.764393e-03\\\\\n",
       "\tSLC25A33 &   51.563911 &  0.5884406 & 0.19926056 &  2.953121 & 3.145782e-03 & 2.245712e-02\\\\\n",
       "\tRBP7 &  223.370502 &  0.6710419 & 0.10901997 &  6.155220 & 7.497328e-10 & 4.928749e-08\\\\\n",
       "\tKIF1B &  652.418401 & -0.5636918 & 0.08532600 & -6.606331 & 3.939621e-11 & 4.030365e-09\\\\\n",
       "\tENSG00000284735 &   12.152496 & -1.3778387 & 0.35029282 & -3.933391 & 8.375578e-05 & 1.226039e-03\\\\\n",
       "\tPGD & 3993.102217 &  0.3021076 & 0.06384278 &  4.732055 & 2.222578e-06 & 5.551872e-05\\\\\n",
       "\tCASZ1 &   91.727032 & -0.6108223 & 0.14414532 & -4.237545 & 2.259768e-05 & 4.014672e-04\\\\\n",
       "\tMTOR &  776.141045 & -0.4107593 & 0.07730548 & -5.313457 & 1.075651e-07 & 3.825703e-06\\\\\n",
       "\tMTHFR &  649.430960 & -0.4009424 & 0.09868214 & -4.062968 & 4.845272e-05 & 7.645789e-04\\\\\n",
       "\tVPS13D & 1101.721057 & -0.4572175 & 0.08896462 & -5.139318 & 2.757378e-07 & 8.762975e-06\\\\\n",
       "\t⋮ & ⋮ & ⋮ & ⋮ & ⋮ & ⋮ & ⋮\\\\\n",
       "\tTENM1 &    97.03660 & -0.4334500 & 0.15335829 & -2.826388 & 4.707620e-03 & 3.057267e-02\\\\\n",
       "\tBCORL1 &   256.55445 & -0.3214675 & 0.11494904 & -2.796609 & 5.164204e-03 & 3.270962e-02\\\\\n",
       "\tRAB33A &    33.95514 &  0.5616201 & 0.21064734 &  2.666163 & 7.672259e-03 & 4.393454e-02\\\\\n",
       "\tHPRT1 &   172.84286 &  0.4005909 & 0.11824147 &  3.387905 & 7.042869e-04 & 6.924981e-03\\\\\n",
       "\tLINC00892 &    38.21065 &  0.5665992 & 0.19505777 &  2.904777 & 3.675154e-03 & 2.528317e-02\\\\\n",
       "\tRBMX &  1786.64525 &  0.3282407 & 0.09838990 &  3.336122 & 8.495594e-04 & 8.017142e-03\\\\\n",
       "\tFMR1-IT1 &    22.72947 & -0.8200756 & 0.24075430 & -3.406276 & 6.585559e-04 & 6.553171e-03\\\\\n",
       "\tIDS &   570.91210 & -0.6084987 & 0.08721923 & -6.976657 & 3.022868e-12 & 3.931888e-10\\\\\n",
       "\tEOLA2-DT &   126.21758 & -0.5650243 & 0.15145164 & -3.730724 & 1.909302e-04 & 2.392385e-03\\\\\n",
       "\tCETN2 &   174.19234 &  0.4947483 & 0.11181230 &  4.424811 & 9.652687e-06 & 1.944418e-04\\\\\n",
       "\tZNF275 &   221.80101 & -0.2687356 & 0.09870312 & -2.722666 & 6.475750e-03 & 3.876509e-02\\\\\n",
       "\tSLC6A8 &  1989.39892 & -0.7678239 & 0.15758214 & -4.872531 & 1.101776e-06 & 2.981180e-05\\\\\n",
       "\tPLXNB3 &    20.72415 & -1.1225705 & 0.32000329 & -3.507997 & 4.514944e-04 & 4.813649e-03\\\\\n",
       "\tHCFC1 &  1117.32225 & -0.7309790 & 0.14338458 & -5.098030 & 3.432056e-07 & 1.075693e-05\\\\\n",
       "\tMECP2 &  1290.38082 & -0.1932772 & 0.07359753 & -2.626138 & 8.635990e-03 & 4.809216e-02\\\\\n",
       "\tFLNA & 20666.48436 & -0.6973439 & 0.14020723 & -4.973666 & 6.569843e-07 & 1.898997e-05\\\\\n",
       "\tRPL10 & 14783.86550 &  0.4311309 & 0.11647331 &  3.701542 & 2.142929e-04 & 2.624686e-03\\\\\n",
       "\tGDI1 &  2904.86066 &  0.2469113 & 0.08860418 &  2.786677 & 5.325146e-03 & 3.351849e-02\\\\\n",
       "\tPLXNA3 &   525.18383 & -0.4379674 & 0.12839475 & -3.411101 & 6.470117e-04 & 6.466566e-03\\\\\n",
       "\tGAB3 &   848.68832 &  0.2630803 & 0.07124482 &  3.692624 & 2.219520e-04 & 2.696533e-03\\\\\n",
       "\tMPP1 &  5152.78515 & -0.2403011 & 0.07701515 & -3.120180 & 1.807405e-03 & 1.457959e-02\\\\\n",
       "\tF8A1 &   175.50936 &  0.6074666 & 0.16328221 &  3.720348 & 1.989484e-04 & 2.461176e-03\\\\\n",
       "\tFUNDC2 &  1003.04916 &  0.3448109 & 0.09259795 &  3.723742 & 1.962913e-04 & 2.441347e-03\\\\\n",
       "\tVBP1 &   397.35168 &  0.4194088 & 0.14046872 &  2.985781 & 2.828553e-03 & 2.075734e-02\\\\\n",
       "\tMT-CO2 & 27358.47076 &  0.2885205 & 0.09961239 &  2.896432 & 3.774323e-03 & 2.587742e-02\\\\\n",
       "\tMT-ND5 & 21709.58338 & -0.5872890 & 0.11465552 & -5.122205 & 3.019835e-07 & 9.530537e-06\\\\\n",
       "\tMT-CYB & 22503.16998 & -0.3551499 & 0.10600977 & -3.350162 & 8.076424e-04 & 7.728412e-03\\\\\n",
       "\tENSG00000278384 &    36.77386 & -1.0187376 & 0.29570567 & -3.445107 & 5.708339e-04 & 5.829997e-03\\\\\n",
       "\tENSG00000273748 &   107.82473 &  0.5627063 & 0.17059022 &  3.298585 & 9.717347e-04 & 8.973270e-03\\\\\n",
       "\tENSG00000271254 &   111.76806 & -0.6789905 & 0.14469268 & -4.692639 & 2.697034e-06 & 6.539679e-05\\\\\n",
       "\\end{tabular}\n"
      ],
      "text/markdown": [
       "\n",
       "A data.frame: 3319 × 6\n",
       "\n",
       "| <!--/--> | baseMean &lt;dbl&gt; | log2FoldChange &lt;dbl&gt; | lfcSE &lt;dbl&gt; | stat &lt;dbl&gt; | pvalue &lt;dbl&gt; | padj &lt;dbl&gt; |\n",
       "|---|---|---|---|---|---|---|\n",
       "| ENSG00000239906 |   18.481653 | -0.9004896 | 0.32682137 | -2.755296 | 5.863906e-03 | 3.601407e-02 |\n",
       "| ENSG00000241860 |  136.745029 | -1.0686863 | 0.23563841 | -4.535280 | 5.752702e-06 | 1.277521e-04 |\n",
       "| ENSG00000290385 |  365.735217 | -0.9523347 | 0.19818087 | -4.805382 | 1.544566e-06 | 4.029591e-05 |\n",
       "| ENSG00000291215 |  238.248620 | -0.9098605 | 0.13854862 | -6.567085 | 5.130984e-11 | 5.162167e-09 |\n",
       "| AGRN |  143.355867 | -0.7100456 | 0.25799335 | -2.752186 | 5.919893e-03 | 3.629672e-02 |\n",
       "| SSU72 | 1585.892299 |  0.3075839 | 0.07678814 |  4.005618 | 6.185559e-05 | 9.402256e-04 |\n",
       "| CDK11B |  863.436379 | -0.6133762 | 0.11284740 | -5.435448 | 5.465888e-08 | 2.113244e-06 |\n",
       "| SLC35E2B | 1489.552531 | -0.2854068 | 0.09026364 | -3.161925 | 1.567301e-03 | 1.308599e-02 |\n",
       "| ENSG00000293187 |   39.076718 | -0.7257351 | 0.19521985 | -3.717527 | 2.011824e-04 | 2.487122e-03 |\n",
       "| ENSG00000268575 |   68.482443 | -0.8532553 | 0.20464319 | -4.169478 | 3.052978e-05 | 5.181242e-04 |\n",
       "| ENSG00000293188 |  224.161197 | -0.5505003 | 0.18505006 | -2.974872 | 2.931105e-03 | 2.128207e-02 |\n",
       "| ENSG00000290854 |   58.263737 | -0.7149778 | 0.17340960 | -4.123058 | 3.738761e-05 | 6.133589e-04 |\n",
       "| SKI | 1588.034446 | -0.2674699 | 0.06236145 | -4.289027 | 1.794580e-05 | 3.294284e-04 |\n",
       "| ENSG00000287356 |    7.354938 |  1.4752795 | 0.51301090 |  2.875727 | 4.030978e-03 | 2.726750e-02 |\n",
       "| ESPN |  633.568786 | -0.8058740 | 0.20116624 | -4.006010 | 6.175298e-05 | 9.394501e-04 |\n",
       "| NOL9 |  346.153650 | -0.3181701 | 0.08316963 | -3.825556 | 1.304770e-04 | 1.762601e-03 |\n",
       "| DNAJC11 |  300.614722 | -0.2674103 | 0.08973508 | -2.979997 | 2.882510e-03 | 2.104672e-02 |\n",
       "| VAMP3 | 1022.175170 |  0.2526870 | 0.07333795 |  3.445515 | 5.699733e-04 | 5.827745e-03 |\n",
       "| RERE | 3455.729949 | -0.3291016 | 0.06530308 | -5.039604 | 4.664971e-07 | 1.418182e-05 |\n",
       "| CA6 |   47.721861 | -0.5596734 | 0.19164688 | -2.920337 | 3.496533e-03 | 2.434870e-02 |\n",
       "| H6PD | 1012.954693 | -0.3724219 | 0.10382948 | -3.586861 | 3.346832e-04 | 3.764393e-03 |\n",
       "| SLC25A33 |   51.563911 |  0.5884406 | 0.19926056 |  2.953121 | 3.145782e-03 | 2.245712e-02 |\n",
       "| RBP7 |  223.370502 |  0.6710419 | 0.10901997 |  6.155220 | 7.497328e-10 | 4.928749e-08 |\n",
       "| KIF1B |  652.418401 | -0.5636918 | 0.08532600 | -6.606331 | 3.939621e-11 | 4.030365e-09 |\n",
       "| ENSG00000284735 |   12.152496 | -1.3778387 | 0.35029282 | -3.933391 | 8.375578e-05 | 1.226039e-03 |\n",
       "| PGD | 3993.102217 |  0.3021076 | 0.06384278 |  4.732055 | 2.222578e-06 | 5.551872e-05 |\n",
       "| CASZ1 |   91.727032 | -0.6108223 | 0.14414532 | -4.237545 | 2.259768e-05 | 4.014672e-04 |\n",
       "| MTOR |  776.141045 | -0.4107593 | 0.07730548 | -5.313457 | 1.075651e-07 | 3.825703e-06 |\n",
       "| MTHFR |  649.430960 | -0.4009424 | 0.09868214 | -4.062968 | 4.845272e-05 | 7.645789e-04 |\n",
       "| VPS13D | 1101.721057 | -0.4572175 | 0.08896462 | -5.139318 | 2.757378e-07 | 8.762975e-06 |\n",
       "| ⋮ | ⋮ | ⋮ | ⋮ | ⋮ | ⋮ | ⋮ |\n",
       "| TENM1 |    97.03660 | -0.4334500 | 0.15335829 | -2.826388 | 4.707620e-03 | 3.057267e-02 |\n",
       "| BCORL1 |   256.55445 | -0.3214675 | 0.11494904 | -2.796609 | 5.164204e-03 | 3.270962e-02 |\n",
       "| RAB33A |    33.95514 |  0.5616201 | 0.21064734 |  2.666163 | 7.672259e-03 | 4.393454e-02 |\n",
       "| HPRT1 |   172.84286 |  0.4005909 | 0.11824147 |  3.387905 | 7.042869e-04 | 6.924981e-03 |\n",
       "| LINC00892 |    38.21065 |  0.5665992 | 0.19505777 |  2.904777 | 3.675154e-03 | 2.528317e-02 |\n",
       "| RBMX |  1786.64525 |  0.3282407 | 0.09838990 |  3.336122 | 8.495594e-04 | 8.017142e-03 |\n",
       "| FMR1-IT1 |    22.72947 | -0.8200756 | 0.24075430 | -3.406276 | 6.585559e-04 | 6.553171e-03 |\n",
       "| IDS |   570.91210 | -0.6084987 | 0.08721923 | -6.976657 | 3.022868e-12 | 3.931888e-10 |\n",
       "| EOLA2-DT |   126.21758 | -0.5650243 | 0.15145164 | -3.730724 | 1.909302e-04 | 2.392385e-03 |\n",
       "| CETN2 |   174.19234 |  0.4947483 | 0.11181230 |  4.424811 | 9.652687e-06 | 1.944418e-04 |\n",
       "| ZNF275 |   221.80101 | -0.2687356 | 0.09870312 | -2.722666 | 6.475750e-03 | 3.876509e-02 |\n",
       "| SLC6A8 |  1989.39892 | -0.7678239 | 0.15758214 | -4.872531 | 1.101776e-06 | 2.981180e-05 |\n",
       "| PLXNB3 |    20.72415 | -1.1225705 | 0.32000329 | -3.507997 | 4.514944e-04 | 4.813649e-03 |\n",
       "| HCFC1 |  1117.32225 | -0.7309790 | 0.14338458 | -5.098030 | 3.432056e-07 | 1.075693e-05 |\n",
       "| MECP2 |  1290.38082 | -0.1932772 | 0.07359753 | -2.626138 | 8.635990e-03 | 4.809216e-02 |\n",
       "| FLNA | 20666.48436 | -0.6973439 | 0.14020723 | -4.973666 | 6.569843e-07 | 1.898997e-05 |\n",
       "| RPL10 | 14783.86550 |  0.4311309 | 0.11647331 |  3.701542 | 2.142929e-04 | 2.624686e-03 |\n",
       "| GDI1 |  2904.86066 |  0.2469113 | 0.08860418 |  2.786677 | 5.325146e-03 | 3.351849e-02 |\n",
       "| PLXNA3 |   525.18383 | -0.4379674 | 0.12839475 | -3.411101 | 6.470117e-04 | 6.466566e-03 |\n",
       "| GAB3 |   848.68832 |  0.2630803 | 0.07124482 |  3.692624 | 2.219520e-04 | 2.696533e-03 |\n",
       "| MPP1 |  5152.78515 | -0.2403011 | 0.07701515 | -3.120180 | 1.807405e-03 | 1.457959e-02 |\n",
       "| F8A1 |   175.50936 |  0.6074666 | 0.16328221 |  3.720348 | 1.989484e-04 | 2.461176e-03 |\n",
       "| FUNDC2 |  1003.04916 |  0.3448109 | 0.09259795 |  3.723742 | 1.962913e-04 | 2.441347e-03 |\n",
       "| VBP1 |   397.35168 |  0.4194088 | 0.14046872 |  2.985781 | 2.828553e-03 | 2.075734e-02 |\n",
       "| MT-CO2 | 27358.47076 |  0.2885205 | 0.09961239 |  2.896432 | 3.774323e-03 | 2.587742e-02 |\n",
       "| MT-ND5 | 21709.58338 | -0.5872890 | 0.11465552 | -5.122205 | 3.019835e-07 | 9.530537e-06 |\n",
       "| MT-CYB | 22503.16998 | -0.3551499 | 0.10600977 | -3.350162 | 8.076424e-04 | 7.728412e-03 |\n",
       "| ENSG00000278384 |    36.77386 | -1.0187376 | 0.29570567 | -3.445107 | 5.708339e-04 | 5.829997e-03 |\n",
       "| ENSG00000273748 |   107.82473 |  0.5627063 | 0.17059022 |  3.298585 | 9.717347e-04 | 8.973270e-03 |\n",
       "| ENSG00000271254 |   111.76806 | -0.6789905 | 0.14469268 | -4.692639 | 2.697034e-06 | 6.539679e-05 |\n",
       "\n"
      ],
      "text/plain": [
       "                baseMean    log2FoldChange lfcSE      stat      pvalue      \n",
       "ENSG00000239906   18.481653 -0.9004896     0.32682137 -2.755296 5.863906e-03\n",
       "ENSG00000241860  136.745029 -1.0686863     0.23563841 -4.535280 5.752702e-06\n",
       "ENSG00000290385  365.735217 -0.9523347     0.19818087 -4.805382 1.544566e-06\n",
       "ENSG00000291215  238.248620 -0.9098605     0.13854862 -6.567085 5.130984e-11\n",
       "AGRN             143.355867 -0.7100456     0.25799335 -2.752186 5.919893e-03\n",
       "SSU72           1585.892299  0.3075839     0.07678814  4.005618 6.185559e-05\n",
       "CDK11B           863.436379 -0.6133762     0.11284740 -5.435448 5.465888e-08\n",
       "SLC35E2B        1489.552531 -0.2854068     0.09026364 -3.161925 1.567301e-03\n",
       "ENSG00000293187   39.076718 -0.7257351     0.19521985 -3.717527 2.011824e-04\n",
       "ENSG00000268575   68.482443 -0.8532553     0.20464319 -4.169478 3.052978e-05\n",
       "ENSG00000293188  224.161197 -0.5505003     0.18505006 -2.974872 2.931105e-03\n",
       "ENSG00000290854   58.263737 -0.7149778     0.17340960 -4.123058 3.738761e-05\n",
       "SKI             1588.034446 -0.2674699     0.06236145 -4.289027 1.794580e-05\n",
       "ENSG00000287356    7.354938  1.4752795     0.51301090  2.875727 4.030978e-03\n",
       "ESPN             633.568786 -0.8058740     0.20116624 -4.006010 6.175298e-05\n",
       "NOL9             346.153650 -0.3181701     0.08316963 -3.825556 1.304770e-04\n",
       "DNAJC11          300.614722 -0.2674103     0.08973508 -2.979997 2.882510e-03\n",
       "VAMP3           1022.175170  0.2526870     0.07333795  3.445515 5.699733e-04\n",
       "RERE            3455.729949 -0.3291016     0.06530308 -5.039604 4.664971e-07\n",
       "CA6               47.721861 -0.5596734     0.19164688 -2.920337 3.496533e-03\n",
       "H6PD            1012.954693 -0.3724219     0.10382948 -3.586861 3.346832e-04\n",
       "SLC25A33          51.563911  0.5884406     0.19926056  2.953121 3.145782e-03\n",
       "RBP7             223.370502  0.6710419     0.10901997  6.155220 7.497328e-10\n",
       "KIF1B            652.418401 -0.5636918     0.08532600 -6.606331 3.939621e-11\n",
       "ENSG00000284735   12.152496 -1.3778387     0.35029282 -3.933391 8.375578e-05\n",
       "PGD             3993.102217  0.3021076     0.06384278  4.732055 2.222578e-06\n",
       "CASZ1             91.727032 -0.6108223     0.14414532 -4.237545 2.259768e-05\n",
       "MTOR             776.141045 -0.4107593     0.07730548 -5.313457 1.075651e-07\n",
       "MTHFR            649.430960 -0.4009424     0.09868214 -4.062968 4.845272e-05\n",
       "VPS13D          1101.721057 -0.4572175     0.08896462 -5.139318 2.757378e-07\n",
       "⋮               ⋮           ⋮              ⋮          ⋮         ⋮           \n",
       "TENM1              97.03660 -0.4334500     0.15335829 -2.826388 4.707620e-03\n",
       "BCORL1            256.55445 -0.3214675     0.11494904 -2.796609 5.164204e-03\n",
       "RAB33A             33.95514  0.5616201     0.21064734  2.666163 7.672259e-03\n",
       "HPRT1             172.84286  0.4005909     0.11824147  3.387905 7.042869e-04\n",
       "LINC00892          38.21065  0.5665992     0.19505777  2.904777 3.675154e-03\n",
       "RBMX             1786.64525  0.3282407     0.09838990  3.336122 8.495594e-04\n",
       "FMR1-IT1           22.72947 -0.8200756     0.24075430 -3.406276 6.585559e-04\n",
       "IDS               570.91210 -0.6084987     0.08721923 -6.976657 3.022868e-12\n",
       "EOLA2-DT          126.21758 -0.5650243     0.15145164 -3.730724 1.909302e-04\n",
       "CETN2             174.19234  0.4947483     0.11181230  4.424811 9.652687e-06\n",
       "ZNF275            221.80101 -0.2687356     0.09870312 -2.722666 6.475750e-03\n",
       "SLC6A8           1989.39892 -0.7678239     0.15758214 -4.872531 1.101776e-06\n",
       "PLXNB3             20.72415 -1.1225705     0.32000329 -3.507997 4.514944e-04\n",
       "HCFC1            1117.32225 -0.7309790     0.14338458 -5.098030 3.432056e-07\n",
       "MECP2            1290.38082 -0.1932772     0.07359753 -2.626138 8.635990e-03\n",
       "FLNA            20666.48436 -0.6973439     0.14020723 -4.973666 6.569843e-07\n",
       "RPL10           14783.86550  0.4311309     0.11647331  3.701542 2.142929e-04\n",
       "GDI1             2904.86066  0.2469113     0.08860418  2.786677 5.325146e-03\n",
       "PLXNA3            525.18383 -0.4379674     0.12839475 -3.411101 6.470117e-04\n",
       "GAB3              848.68832  0.2630803     0.07124482  3.692624 2.219520e-04\n",
       "MPP1             5152.78515 -0.2403011     0.07701515 -3.120180 1.807405e-03\n",
       "F8A1              175.50936  0.6074666     0.16328221  3.720348 1.989484e-04\n",
       "FUNDC2           1003.04916  0.3448109     0.09259795  3.723742 1.962913e-04\n",
       "VBP1              397.35168  0.4194088     0.14046872  2.985781 2.828553e-03\n",
       "MT-CO2          27358.47076  0.2885205     0.09961239  2.896432 3.774323e-03\n",
       "MT-ND5          21709.58338 -0.5872890     0.11465552 -5.122205 3.019835e-07\n",
       "MT-CYB          22503.16998 -0.3551499     0.10600977 -3.350162 8.076424e-04\n",
       "ENSG00000278384    36.77386 -1.0187376     0.29570567 -3.445107 5.708339e-04\n",
       "ENSG00000273748   107.82473  0.5627063     0.17059022  3.298585 9.717347e-04\n",
       "ENSG00000271254   111.76806 -0.6789905     0.14469268 -4.692639 2.697034e-06\n",
       "                padj        \n",
       "ENSG00000239906 3.601407e-02\n",
       "ENSG00000241860 1.277521e-04\n",
       "ENSG00000290385 4.029591e-05\n",
       "ENSG00000291215 5.162167e-09\n",
       "AGRN            3.629672e-02\n",
       "SSU72           9.402256e-04\n",
       "CDK11B          2.113244e-06\n",
       "SLC35E2B        1.308599e-02\n",
       "ENSG00000293187 2.487122e-03\n",
       "ENSG00000268575 5.181242e-04\n",
       "ENSG00000293188 2.128207e-02\n",
       "ENSG00000290854 6.133589e-04\n",
       "SKI             3.294284e-04\n",
       "ENSG00000287356 2.726750e-02\n",
       "ESPN            9.394501e-04\n",
       "NOL9            1.762601e-03\n",
       "DNAJC11         2.104672e-02\n",
       "VAMP3           5.827745e-03\n",
       "RERE            1.418182e-05\n",
       "CA6             2.434870e-02\n",
       "H6PD            3.764393e-03\n",
       "SLC25A33        2.245712e-02\n",
       "RBP7            4.928749e-08\n",
       "KIF1B           4.030365e-09\n",
       "ENSG00000284735 1.226039e-03\n",
       "PGD             5.551872e-05\n",
       "CASZ1           4.014672e-04\n",
       "MTOR            3.825703e-06\n",
       "MTHFR           7.645789e-04\n",
       "VPS13D          8.762975e-06\n",
       "⋮               ⋮           \n",
       "TENM1           3.057267e-02\n",
       "BCORL1          3.270962e-02\n",
       "RAB33A          4.393454e-02\n",
       "HPRT1           6.924981e-03\n",
       "LINC00892       2.528317e-02\n",
       "RBMX            8.017142e-03\n",
       "FMR1-IT1        6.553171e-03\n",
       "IDS             3.931888e-10\n",
       "EOLA2-DT        2.392385e-03\n",
       "CETN2           1.944418e-04\n",
       "ZNF275          3.876509e-02\n",
       "SLC6A8          2.981180e-05\n",
       "PLXNB3          4.813649e-03\n",
       "HCFC1           1.075693e-05\n",
       "MECP2           4.809216e-02\n",
       "FLNA            1.898997e-05\n",
       "RPL10           2.624686e-03\n",
       "GDI1            3.351849e-02\n",
       "PLXNA3          6.466566e-03\n",
       "GAB3            2.696533e-03\n",
       "MPP1            1.457959e-02\n",
       "F8A1            2.461176e-03\n",
       "FUNDC2          2.441347e-03\n",
       "VBP1            2.075734e-02\n",
       "MT-CO2          2.587742e-02\n",
       "MT-ND5          9.530537e-06\n",
       "MT-CYB          7.728412e-03\n",
       "ENSG00000278384 5.829997e-03\n",
       "ENSG00000273748 8.973270e-03\n",
       "ENSG00000271254 6.539679e-05"
      ]
     },
     "metadata": {},
     "output_type": "display_data"
    }
   ],
   "source": [
    "# drop all genes with baseMean = 0\n",
    "res = filter(res, baseMean != 0)\n",
    "\n",
    "# drop all genes with NA fdr pvalue and get only significant\n",
    "res = filter(res, !is.na(padj) & padj < 0.05)\n",
    "\n",
    "res"
   ]
  },
  {
   "cell_type": "code",
   "execution_count": 62,
   "metadata": {
    "vscode": {
     "languageId": "r"
    }
   },
   "outputs": [],
   "source": [
    "# read in symbols file\n",
    "grch_symbols = read.csv(\"symbols.csv\", row.names = 1)\n",
    "\n",
    "res$ENSEMBL_ID = row.names(grch_symbols)[match(row.names(res), grch_symbols$symbol)]"
   ]
  },
  {
   "cell_type": "code",
   "execution_count": 63,
   "metadata": {
    "vscode": {
     "languageId": "r"
    }
   },
   "outputs": [],
   "source": [
    "# globin TRUE / globin FALSE (positive LFC indicates higher expression in GLOBIN Depleted)\n",
    "res_up = filter(res, log2FoldChange > 0)\n",
    "res_down = filter(res, log2FoldChange < 0)"
   ]
  },
  {
   "cell_type": "code",
   "execution_count": 64,
   "metadata": {
    "vscode": {
     "languageId": "r"
    }
   },
   "outputs": [
    {
     "name": "stderr",
     "output_type": "stream",
     "text": [
      "'select()' returned 1:many mapping between keys and columns\n",
      "\n"
     ]
    }
   ],
   "source": [
    "# upregulated DEGs\n",
    "mapping = select(org.Hs.eg.db, res_up$ENSEMBL_ID, \"ENTREZID\", \"ENSEMBL\")\n",
    "deg_genes_entrez = mapping[!is.na(mapping$ENTREZID),]\n",
    "deg_res_up = enrichKEGG(gene = deg_genes_entrez$ENTREZID, organism = \"hsa\", pvalueCutoff = Inf)\n",
    "\n",
    "deg_res_up = data.frame(deg_res_up)\n",
    "\n",
    "deg_up_pathways = arrange(filter(deg_res_up, p.adjust < 0.05),  desc(Count))"
   ]
  },
  {
   "cell_type": "code",
   "execution_count": 65,
   "metadata": {
    "vscode": {
     "languageId": "r"
    }
   },
   "outputs": [
    {
     "name": "stderr",
     "output_type": "stream",
     "text": [
      "'select()' returned 1:many mapping between keys and columns\n",
      "\n"
     ]
    }
   ],
   "source": [
    "# downregulated DEGs\n",
    "mapping = select(org.Hs.eg.db, res_down$ENSEMBL_ID, \"ENTREZID\", \"ENSEMBL\")\n",
    "deg_genes_entrez = mapping[!is.na(mapping$ENTREZID),]\n",
    "deg_res_down = enrichKEGG(gene = deg_genes_entrez$ENTREZID, organism = \"hsa\", pvalueCutoff = Inf)\n",
    "\n",
    "deg_res_down = data.frame(deg_res_down)\n",
    "\n",
    "deg_down_pathways = arrange(filter(deg_res_down, p.adjust < 0.05), desc(Count))"
   ]
  },
  {
   "cell_type": "code",
   "execution_count": 66,
   "metadata": {
    "vscode": {
     "languageId": "r"
    }
   },
   "outputs": [
    {
     "data": {
      "text/html": [],
      "text/latex": [],
      "text/markdown": [],
      "text/plain": [
       "character(0)"
      ]
     },
     "metadata": {},
     "output_type": "display_data"
    }
   ],
   "source": [
    "# No shared pathways!\n",
    "shared_pathways = intersect(row.names(deg_up_pathways), row.names(deg_down_pathways))\n",
    "shared_pathways"
   ]
  },
  {
   "cell_type": "code",
   "execution_count": 67,
   "metadata": {
    "vscode": {
     "languageId": "r"
    }
   },
   "outputs": [
    {
     "data": {
      "text/html": [
       "<table class=\"dataframe\">\n",
       "<caption>A data.frame: 21 × 2</caption>\n",
       "<thead>\n",
       "\t<tr><th scope=col>Var1</th><th scope=col>Freq</th></tr>\n",
       "\t<tr><th scope=col>&lt;fct&gt;</th><th scope=col>&lt;int&gt;</th></tr>\n",
       "</thead>\n",
       "<tbody>\n",
       "\t<tr><td>Amino acid metabolism             </td><td>1</td></tr>\n",
       "\t<tr><td>Cancer: overview                  </td><td>1</td></tr>\n",
       "\t<tr><td>Carbohydrate metabolism           </td><td>1</td></tr>\n",
       "\t<tr><td>Cardiovascular disease            </td><td>1</td></tr>\n",
       "\t<tr><td>Circulatory system                </td><td>1</td></tr>\n",
       "\t<tr><td>Endocrine and metabolic disease   </td><td>2</td></tr>\n",
       "\t<tr><td>Energy metabolism                 </td><td>1</td></tr>\n",
       "\t<tr><td>Environmental adaptation          </td><td>1</td></tr>\n",
       "\t<tr><td>Folding, sorting and degradation  </td><td>3</td></tr>\n",
       "\t<tr><td>Global and overview maps          </td><td>1</td></tr>\n",
       "\t<tr><td>Glycan biosynthesis and metabolism</td><td>1</td></tr>\n",
       "\t<tr><td>Immune disease                    </td><td>5</td></tr>\n",
       "\t<tr><td>Immune system                     </td><td>4</td></tr>\n",
       "\t<tr><td>Infectious disease: bacterial     </td><td>1</td></tr>\n",
       "\t<tr><td>Infectious disease: parasitic     </td><td>1</td></tr>\n",
       "\t<tr><td>Infectious disease: viral         </td><td>1</td></tr>\n",
       "\t<tr><td>Neurodegenerative disease         </td><td>6</td></tr>\n",
       "\t<tr><td>Replication and repair            </td><td>3</td></tr>\n",
       "\t<tr><td>Transcription                     </td><td>3</td></tr>\n",
       "\t<tr><td>Translation                       </td><td>1</td></tr>\n",
       "\t<tr><td>Transport and catabolism          </td><td>2</td></tr>\n",
       "</tbody>\n",
       "</table>\n"
      ],
      "text/latex": [
       "A data.frame: 21 × 2\n",
       "\\begin{tabular}{ll}\n",
       " Var1 & Freq\\\\\n",
       " <fct> & <int>\\\\\n",
       "\\hline\n",
       "\t Amino acid metabolism              & 1\\\\\n",
       "\t Cancer: overview                   & 1\\\\\n",
       "\t Carbohydrate metabolism            & 1\\\\\n",
       "\t Cardiovascular disease             & 1\\\\\n",
       "\t Circulatory system                 & 1\\\\\n",
       "\t Endocrine and metabolic disease    & 2\\\\\n",
       "\t Energy metabolism                  & 1\\\\\n",
       "\t Environmental adaptation           & 1\\\\\n",
       "\t Folding, sorting and degradation   & 3\\\\\n",
       "\t Global and overview maps           & 1\\\\\n",
       "\t Glycan biosynthesis and metabolism & 1\\\\\n",
       "\t Immune disease                     & 5\\\\\n",
       "\t Immune system                      & 4\\\\\n",
       "\t Infectious disease: bacterial      & 1\\\\\n",
       "\t Infectious disease: parasitic      & 1\\\\\n",
       "\t Infectious disease: viral          & 1\\\\\n",
       "\t Neurodegenerative disease          & 6\\\\\n",
       "\t Replication and repair             & 3\\\\\n",
       "\t Transcription                      & 3\\\\\n",
       "\t Translation                        & 1\\\\\n",
       "\t Transport and catabolism           & 2\\\\\n",
       "\\end{tabular}\n"
      ],
      "text/markdown": [
       "\n",
       "A data.frame: 21 × 2\n",
       "\n",
       "| Var1 &lt;fct&gt; | Freq &lt;int&gt; |\n",
       "|---|---|\n",
       "| Amino acid metabolism              | 1 |\n",
       "| Cancer: overview                   | 1 |\n",
       "| Carbohydrate metabolism            | 1 |\n",
       "| Cardiovascular disease             | 1 |\n",
       "| Circulatory system                 | 1 |\n",
       "| Endocrine and metabolic disease    | 2 |\n",
       "| Energy metabolism                  | 1 |\n",
       "| Environmental adaptation           | 1 |\n",
       "| Folding, sorting and degradation   | 3 |\n",
       "| Global and overview maps           | 1 |\n",
       "| Glycan biosynthesis and metabolism | 1 |\n",
       "| Immune disease                     | 5 |\n",
       "| Immune system                      | 4 |\n",
       "| Infectious disease: bacterial      | 1 |\n",
       "| Infectious disease: parasitic      | 1 |\n",
       "| Infectious disease: viral          | 1 |\n",
       "| Neurodegenerative disease          | 6 |\n",
       "| Replication and repair             | 3 |\n",
       "| Transcription                      | 3 |\n",
       "| Translation                        | 1 |\n",
       "| Transport and catabolism           | 2 |\n",
       "\n"
      ],
      "text/plain": [
       "   Var1                               Freq\n",
       "1  Amino acid metabolism              1   \n",
       "2  Cancer: overview                   1   \n",
       "3  Carbohydrate metabolism            1   \n",
       "4  Cardiovascular disease             1   \n",
       "5  Circulatory system                 1   \n",
       "6  Endocrine and metabolic disease    2   \n",
       "7  Energy metabolism                  1   \n",
       "8  Environmental adaptation           1   \n",
       "9  Folding, sorting and degradation   3   \n",
       "10 Global and overview maps           1   \n",
       "11 Glycan biosynthesis and metabolism 1   \n",
       "12 Immune disease                     5   \n",
       "13 Immune system                      4   \n",
       "14 Infectious disease: bacterial      1   \n",
       "15 Infectious disease: parasitic      1   \n",
       "16 Infectious disease: viral          1   \n",
       "17 Neurodegenerative disease          6   \n",
       "18 Replication and repair             3   \n",
       "19 Transcription                      3   \n",
       "20 Translation                        1   \n",
       "21 Transport and catabolism           2   "
      ]
     },
     "metadata": {},
     "output_type": "display_data"
    }
   ],
   "source": [
    "data.frame(table(deg_up_pathways$subcategory))"
   ]
  },
  {
   "cell_type": "code",
   "execution_count": 68,
   "metadata": {
    "vscode": {
     "languageId": "r"
    }
   },
   "outputs": [
    {
     "data": {
      "text/html": [
       "<table class=\"dataframe\">\n",
       "<caption>A data.frame: 17 × 2</caption>\n",
       "<thead>\n",
       "\t<tr><th scope=col>Var1</th><th scope=col>Freq</th></tr>\n",
       "\t<tr><th scope=col>&lt;fct&gt;</th><th scope=col>&lt;int&gt;</th></tr>\n",
       "</thead>\n",
       "<tbody>\n",
       "\t<tr><td>Aging                            </td><td>2</td></tr>\n",
       "\t<tr><td>Amino acid metabolism            </td><td>1</td></tr>\n",
       "\t<tr><td>Cancer: overview                 </td><td>2</td></tr>\n",
       "\t<tr><td>Cell motility                    </td><td>2</td></tr>\n",
       "\t<tr><td>Cellular community - eukaryotes  </td><td>1</td></tr>\n",
       "\t<tr><td>Chromosome                       </td><td>2</td></tr>\n",
       "\t<tr><td>Development and regeneration     </td><td>1</td></tr>\n",
       "\t<tr><td>Drug resistance: antineoplastic  </td><td>1</td></tr>\n",
       "\t<tr><td>Endocrine and metabolic disease  </td><td>2</td></tr>\n",
       "\t<tr><td>Endocrine system                 </td><td>3</td></tr>\n",
       "\t<tr><td>Immune system                    </td><td>1</td></tr>\n",
       "\t<tr><td>Infectious disease: bacterial    </td><td>2</td></tr>\n",
       "\t<tr><td>Infectious disease: viral        </td><td>1</td></tr>\n",
       "\t<tr><td>Information processing in viruses</td><td>1</td></tr>\n",
       "\t<tr><td>Nervous system                   </td><td>1</td></tr>\n",
       "\t<tr><td>Signal transduction              </td><td>4</td></tr>\n",
       "\t<tr><td>Transport and catabolism         </td><td>2</td></tr>\n",
       "</tbody>\n",
       "</table>\n"
      ],
      "text/latex": [
       "A data.frame: 17 × 2\n",
       "\\begin{tabular}{ll}\n",
       " Var1 & Freq\\\\\n",
       " <fct> & <int>\\\\\n",
       "\\hline\n",
       "\t Aging                             & 2\\\\\n",
       "\t Amino acid metabolism             & 1\\\\\n",
       "\t Cancer: overview                  & 2\\\\\n",
       "\t Cell motility                     & 2\\\\\n",
       "\t Cellular community - eukaryotes   & 1\\\\\n",
       "\t Chromosome                        & 2\\\\\n",
       "\t Development and regeneration      & 1\\\\\n",
       "\t Drug resistance: antineoplastic   & 1\\\\\n",
       "\t Endocrine and metabolic disease   & 2\\\\\n",
       "\t Endocrine system                  & 3\\\\\n",
       "\t Immune system                     & 1\\\\\n",
       "\t Infectious disease: bacterial     & 2\\\\\n",
       "\t Infectious disease: viral         & 1\\\\\n",
       "\t Information processing in viruses & 1\\\\\n",
       "\t Nervous system                    & 1\\\\\n",
       "\t Signal transduction               & 4\\\\\n",
       "\t Transport and catabolism          & 2\\\\\n",
       "\\end{tabular}\n"
      ],
      "text/markdown": [
       "\n",
       "A data.frame: 17 × 2\n",
       "\n",
       "| Var1 &lt;fct&gt; | Freq &lt;int&gt; |\n",
       "|---|---|\n",
       "| Aging                             | 2 |\n",
       "| Amino acid metabolism             | 1 |\n",
       "| Cancer: overview                  | 2 |\n",
       "| Cell motility                     | 2 |\n",
       "| Cellular community - eukaryotes   | 1 |\n",
       "| Chromosome                        | 2 |\n",
       "| Development and regeneration      | 1 |\n",
       "| Drug resistance: antineoplastic   | 1 |\n",
       "| Endocrine and metabolic disease   | 2 |\n",
       "| Endocrine system                  | 3 |\n",
       "| Immune system                     | 1 |\n",
       "| Infectious disease: bacterial     | 2 |\n",
       "| Infectious disease: viral         | 1 |\n",
       "| Information processing in viruses | 1 |\n",
       "| Nervous system                    | 1 |\n",
       "| Signal transduction               | 4 |\n",
       "| Transport and catabolism          | 2 |\n",
       "\n"
      ],
      "text/plain": [
       "   Var1                              Freq\n",
       "1  Aging                             2   \n",
       "2  Amino acid metabolism             1   \n",
       "3  Cancer: overview                  2   \n",
       "4  Cell motility                     2   \n",
       "5  Cellular community - eukaryotes   1   \n",
       "6  Chromosome                        2   \n",
       "7  Development and regeneration      1   \n",
       "8  Drug resistance: antineoplastic   1   \n",
       "9  Endocrine and metabolic disease   2   \n",
       "10 Endocrine system                  3   \n",
       "11 Immune system                     1   \n",
       "12 Infectious disease: bacterial     2   \n",
       "13 Infectious disease: viral         1   \n",
       "14 Information processing in viruses 1   \n",
       "15 Nervous system                    1   \n",
       "16 Signal transduction               4   \n",
       "17 Transport and catabolism          2   "
      ]
     },
     "metadata": {},
     "output_type": "display_data"
    }
   ],
   "source": [
    "data.frame(table(deg_down_pathways$subcategory))"
   ]
  },
  {
   "cell_type": "code",
   "execution_count": 70,
   "metadata": {
    "vscode": {
     "languageId": "r"
    }
   },
   "outputs": [
    {
     "data": {
      "text/html": [
       "<table class=\"dataframe\">\n",
       "<caption>A data.frame: 41 × 11</caption>\n",
       "<thead>\n",
       "\t<tr><th></th><th scope=col>category</th><th scope=col>subcategory</th><th scope=col>ID</th><th scope=col>Description</th><th scope=col>GeneRatio</th><th scope=col>BgRatio</th><th scope=col>pvalue</th><th scope=col>p.adjust</th><th scope=col>qvalue</th><th scope=col>geneID</th><th scope=col>Count</th></tr>\n",
       "\t<tr><th></th><th scope=col>&lt;chr&gt;</th><th scope=col>&lt;chr&gt;</th><th scope=col>&lt;chr&gt;</th><th scope=col>&lt;chr&gt;</th><th scope=col>&lt;chr&gt;</th><th scope=col>&lt;chr&gt;</th><th scope=col>&lt;dbl&gt;</th><th scope=col>&lt;dbl&gt;</th><th scope=col>&lt;dbl&gt;</th><th scope=col>&lt;chr&gt;</th><th scope=col>&lt;int&gt;</th></tr>\n",
       "</thead>\n",
       "<tbody>\n",
       "\t<tr><th scope=row>hsa03010</th><td>Genetic Information Processing</td><td>Translation                       </td><td>hsa03010</td><td>Ribosome                                         </td><td>89/731</td><td>172/8848</td><td>1.503441e-51</td><td>4.690735e-49</td><td>3.940597e-49</td><td>6135/64960/6202/6125/54460/65005/6232/79590/6201/9553/6233/6160/6168/6161/6138/3921/9045/6159/6152/11222/200916/6165/6133/65008/51023/6164/6189/6167/6228/6208/29093/6222/6204/4736/64928/6206/29074/64983/29088/6224/6129/6156/28998/6194/11224/6136/6130/6229/6157/6207/54948/2197/65003/219927/6188/6230/6231/6171/6128/6175/6144/6166/51187/51065/6124/6210/6154/9349/6143/6155/51264/6169/51081/25873/6234/64981/7311/6217/6223/6141/23521/6205/6203/6193/6227/64968/6191/6170/6134</td><td>89</td></tr>\n",
       "\t<tr><th scope=row>hsa05014</th><td>Human Diseases                </td><td>Neurodegenerative disease         </td><td>hsa05014</td><td>Amyotrophic lateral sclerosis                    </td><td>76/731</td><td>371/8848</td><td>3.449519e-14</td><td>1.195833e-12</td><td>1.004597e-12</td><td>6390/5690/4725/7388/2882/515/6391/6432/9167/1329/10213/518/4709/4705/4710/5217/4717/4724/1350/27089/7416/4695/1616/6428/1347/5689/4697/5701/7381/1345/4715/4712/11258/3309/509/29982/90550/5719/5682/4722/10482/834/6392/7846/1649/55967/79023/55860/4707/9377/5685/7385/4706/1327/81631/5216/5691/10476/498/10975/7386/5714/29107/8480/514/5688/6647/539/637/29796/468/4700/54539/1349/4694/4513                                                                                       </td><td>76</td></tr>\n",
       "\t<tr><th scope=row>hsa05022</th><td>Human Diseases                </td><td>Neurodegenerative disease         </td><td>hsa05022</td><td>Pathways of neurodegeneration - multiple diseases</td><td>76/731</td><td>483/8848</td><td>1.888059e-08</td><td>4.531341e-07</td><td>3.806694e-07</td><td>6390/5690/4725/7388/2882/515/6391/9167/6233/1329/3553/10213/518/4709/841/4705/4710/4717/4724/1350/27089/7416/4695/1616/1347/5689/4697/5701/7419/7381/1345/4715/4712/11258/3309/509/29982/90550/7417/5719/5682/4722/6392/7846/1649/55967/7316/55860/4707/9377/5685/7385/4706/1327/81631/5691/10476/498/10975/7311/7386/5714/514/5688/6647/539/637/29796/468/4700/54539/3028/1349/292/4694/4513                                                                                           </td><td>76</td></tr>\n",
       "\t<tr><th scope=row>hsa05171</th><td>Human Diseases                </td><td>Infectious disease: viral         </td><td>hsa05171</td><td>Coronavirus disease - COVID-19                   </td><td>74/731</td><td>238/8848</td><td>4.341187e-25</td><td>6.772251e-23</td><td>5.689239e-23</td><td>6135/6202/6125/6232/6201/6233/6160/3553/6168/6161/6138/3921/9045/6159/6152/200916/6165/6133/3627/6164/6189/6167/6228/6208/6222/6204/4736/6206/6224/6129/6156/6194/11224/6136/6130/6229/6157/6207/2197/6188/834/6230/719/6231/6171/6128/4938/6175/6144/4792/6166/51187/51065/6124/6210/6154/9349/6143/6155/6169/25873/6234/7311/6217/6223/6141/23521/6205/6203/6193/6227/6191/6170/6134                                                                                                  </td><td>74</td></tr>\n",
       "\t<tr><th scope=row>hsa05016</th><td>Human Diseases                </td><td>Neurodegenerative disease         </td><td>hsa05016</td><td>Huntington disease                               </td><td>73/731</td><td>311/8848</td><td>5.624761e-17</td><td>2.924876e-15</td><td>2.457133e-15</td><td>6390/5690/4725/7388/2882/515/6391/9167/1329/10213/518/4709/841/4705/4710/5437/4717/4724/1350/27089/7416/4695/1347/9519/5689/6908/4697/5701/7419/7381/1345/5440/4715/4712/11258/1211/509/29982/7417/5719/5441/5682/4722/5436/6392/7846/55967/55860/4707/9377/5685/7385/4706/5432/1327/5691/10476/498/10975/7386/5714/514/5688/6647/539/29796/5435/4700/54539/1349/292/4694/4513                                                                                                          </td><td>73</td></tr>\n",
       "\t<tr><th scope=row>hsa05020</th><td>Human Diseases                </td><td>Neurodegenerative disease         </td><td>hsa05020</td><td>Prion disease                                    </td><td>70/731</td><td>278/8848</td><td>4.607113e-18</td><td>2.874838e-16</td><td>2.415097e-16</td><td>6390/5690/4725/7388/515/6391/4688/9167/1329/3553/10213/518/4709/4705/4710/4717/4724/1350/27089/7416/4695/1347/2534/5689/4697/653361/5701/7419/7381/1345/4715/4712/3309/509/90550/7417/5719/5682/4722/10963/6392/3312/7846/1649/55967/4707/9377/5685/7385/4706/1327/5691/10476/498/10975/7386/5714/514/5688/6647/539/29796/4689/468/4700/54539/1349/292/4694/4513                                                                                                                        </td><td>70</td></tr>\n",
       "\t<tr><th scope=row>hsa05012</th><td>Human Diseases                </td><td>Neurodegenerative disease         </td><td>hsa05012</td><td>Parkinson disease                                </td><td>69/731</td><td>271/8848</td><td>4.262100e-18</td><td>2.874838e-16</td><td>2.415097e-16</td><td>6390/5690/4725/7388/515/6391/9167/6233/1329/10213/518/4709/4705/4710/4717/4724/1350/27089/7416/4695/1843/1616/1347/5689/4697/5701/7419/7381/1345/4715/4712/7295/3309/509/90550/7417/5719/5682/4722/6392/7846/1649/55967/7316/4707/9377/5685/7385/4706/1327/5691/10476/498/10975/7311/7386/5714/514/5688/6647/539/29796/468/4700/54539/1349/292/4694/4513                                                                                                                                </td><td>69</td></tr>\n",
       "\t<tr><th scope=row>hsa05010</th><td>Human Diseases                </td><td>Neurodegenerative disease         </td><td>hsa05010</td><td>Alzheimer disease                                </td><td>68/731</td><td>391/8848</td><td>1.766667e-09</td><td>4.593334e-08</td><td>3.858773e-08</td><td>6390/5690/4725/7388/515/6391/9167/1329/3553/10213/518/4709/841/4705/4710/4717/4724/1350/27089/7416/4695/1347/5689/4697/5701/7419/7381/1345/4715/4712/509/29982/90550/7417/5719/5682/4722/10313/6392/2597/7846/1649/55967/4707/9377/5685/7385/4706/1327/5691/10476/498/10975/7386/5714/514/5688/539/637/29796/468/4700/54539/3028/1349/292/4694/4513                                                                                                                                     </td><td>68</td></tr>\n",
       "\t<tr><th scope=row>hsa05208</th><td>Human Diseases                </td><td>Cancer: overview                  </td><td>hsa05208</td><td>Chemical carcinogenesis - reactive oxygen species</td><td>59/731</td><td>226/8848</td><td>3.723732e-16</td><td>1.659721e-14</td><td>1.394300e-14</td><td>6390/4725/10327/7388/2946/515/6391/4259/4688/9167/1329/518/4709/4705/4710/4717/4258/4724/1350/27089/7416/4695/1347/4697/653361/7419/7381/1345/4715/4712/8644/509/7417/4722/6392/4257/55967/4792/4707/9377/7385/4706/1728/1327/10476/498/10975/7386/514/6647/539/873/29796/4700/54539/1349/292/4694/4513                                                                                                                                                                                 </td><td>59</td></tr>\n",
       "\t<tr><th scope=row>hsa00190</th><td>Metabolism                    </td><td>Energy metabolism                 </td><td>hsa00190</td><td>Oxidative phosphorylation                        </td><td>54/731</td><td>138/8848</td><td>6.302207e-24</td><td>6.554295e-22</td><td>5.506139e-22</td><td>6390/4725/7388/515/6391/9167/1329/518/4709/4705/10063/4710/27068/4717/4724/1350/27089/4695/8992/1347/4697/9551/526/51606/7381/1345/4715/4712/9550/509/5464/4722/6392/10632/55967/51382/4707/9377/7385/4706/1327/10476/498/10975/7386/514/539/529/29796/4700/54539/1349/4694/4513                                                                                                                                                                                                        </td><td>54</td></tr>\n",
       "\t<tr><th scope=row>hsa05415</th><td>Human Diseases                </td><td>Cardiovascular disease            </td><td>hsa05415</td><td>Diabetic cardiomyopathy                          </td><td>53/731</td><td>205/8848</td><td>1.965521e-14</td><td>7.665534e-13</td><td>6.439669e-13</td><td>6390/4725/7388/515/6391/25874/4688/9167/1329/518/4709/4705/4710/4717/4724/1350/27089/7416/4695/1347/51660/4697/653361/7419/7381/1345/4715/4712/509/7417/4722/6392/2597/55967/4707/9377/7385/4706/1327/10476/498/10975/7386/514/539/29796/4689/4700/54539/1349/292/4694/4513                                                                                                                                                                                                             </td><td>53</td></tr>\n",
       "\t<tr><th scope=row>hsa04714</th><td>Organismal Systems            </td><td>Environmental adaptation          </td><td>hsa04714</td><td>Thermogenesis                                    </td><td>53/731</td><td>235/8848</td><td>6.988332e-12</td><td>2.180360e-10</td><td>1.831679e-10</td><td>6390/4725/7388/515/6391/9167/1329/493753/518/4709/4705/788/10063/4710/4717/4724/91942/1350/27089/4695/1347/4697/9551/7381/1345/4715/6194/4712/509/4722/51287/6392/10632/84987/55967/4707/9377/7385/4706/1327/10476/284184/498/10975/7386/514/539/29796/4700/54539/1349/4694/4513                                                                                                                                                                                                        </td><td>53</td></tr>\n",
       "\t<tr><th scope=row>hsa04932</th><td>Human Diseases                </td><td>Endocrine and metabolic disease   </td><td>hsa04932</td><td>Non-alcoholic fatty liver disease                </td><td>41/731</td><td>157/8848</td><td>1.369311e-11</td><td>3.883864e-10</td><td>3.262761e-10</td><td>6390/4725/7388/6391/9167/1329/3553/4709/841/4705/4710/4717/4724/1350/27089/4695/1347/4697/7381/1345/4715/4712/4722/6392/1649/55967/4707/9377/7385/4706/1327/10975/7386/637/29796/468/4700/54539/1349/4694/4513                                                                                                                                                                                                                                                                          </td><td>41</td></tr>\n",
       "\t<tr><th scope=row>hsa03040</th><td>Genetic Information Processing</td><td>Transcription                     </td><td>hsa03040</td><td>Spliceosome                                      </td><td>35/731</td><td>218/8848</td><td>9.645649e-05</td><td>1.880901e-03</td><td>1.580110e-03</td><td>9410/10465/10286/10262/9129/6635/51639/6432/11017/6637/10713/27258/55696/57819/6631/6428/83443/23658/6100/8896/3190/51503/3312/3183/6430/22938/1655/6427/9775/6633/6629/6431/84844/4809/27316                                                                                                                                                                                                                                                                                           </td><td>35</td></tr>\n",
       "\t<tr><th scope=row>hsa05132</th><td>Human Diseases                </td><td>Infectious disease: bacterial     </td><td>hsa05132</td><td>Salmonella infection                             </td><td>34/731</td><td>251/8848</td><td>2.711052e-03</td><td>2.487789e-02</td><td>2.089944e-02</td><td>6281/3553/841/10109/51143/387/5217/8743/6993/10552/10095/23643/11258/7295/81873/6188/837/838/834/3606/2597/7846/5869/7184/10094/8655/4792/55860/302/197259/5216/10627/103910/9367                                                                                                                                                                                                                                                                                                       </td><td>34</td></tr>\n",
       "\t<tr><th scope=row>hsa04621</th><td>Organismal Systems            </td><td>Immune system                     </td><td>hsa04621</td><td>NOD-like receptor signaling pathway              </td><td>28/731</td><td>189/8848</td><td>1.689154e-03</td><td>1.756721e-02</td><td>1.475788e-02</td><td>10628/3428/9447/3553/841/820/387/2919/7416/9474/1669/1668/7419/7295/90550/7417/837/838/834/114769/3606/23710/4938/4792/11345/81631/7531/11337                                                                                                                                                                                                                                                                                                                                           </td><td>28</td></tr>\n",
       "\t<tr><th scope=row>hsa04145</th><td>Cellular Processes            </td><td>Transport and catabolism          </td><td>hsa04145</td><td>Phagosome                                        </td><td>27/731</td><td>157/8848</td><td>1.893497e-04</td><td>3.109321e-03</td><td>2.612082e-03</td><td>9341/2209/2214/2215/2213/4688/51143/8992/3106/3122/3123/3117/3112/3108/3113/23480/653361/526/51606/1514/10952/9550/7846/5869/51382/529/4689                                                                                                                                                                                                                                                                                                                                             </td><td>27</td></tr>\n",
       "\t<tr><th scope=row>hsa04141</th><td>Genetic Information Processing</td><td>Folding, sorting and degradation  </td><td>hsa04141</td><td>Protein processing in endoplasmic reticulum      </td><td>24/731</td><td>170/8848</td><td>6.496302e-03</td><td>4.943528e-02</td><td>4.152963e-02</td><td>6746/10113/55768/6184/7323/58505/7322/23480/7993/10952/3309/64215/7321/746/3312/1649/7184/1603/2923/9709/6185/7353/468/9978                                                                                                                                                                                                                                                                                                                                                             </td><td>24</td></tr>\n",
       "\t<tr><th scope=row>hsa01200</th><td>Metabolism                    </td><td>Global and overview maps          </td><td>hsa01200</td><td>Carbon metabolism                                </td><td>21/731</td><td>116/8848</td><td>4.711883e-04</td><td>6.391772e-03</td><td>5.369606e-03</td><td>5226/6390/6391/2271/4190/8802/3417/128/5223/2805/1892/6888/6392/2597/7167/2026/1431/2098/2806/3420/5230                                                                                                                                                                                                                                                                                                                                                                                 </td><td>21</td></tr>\n",
       "\t<tr><th scope=row>hsa03420</th><td>Genetic Information Processing</td><td>Replication and repair            </td><td>hsa03420</td><td>Nucleotide excision repair                       </td><td>18/731</td><td>63/8848 </td><td>1.933770e-06</td><td>4.309546e-05</td><td>3.620367e-05</td><td>6118/5437/5984/1022/404672/6119/5982/5440/54107/5441/5436/5985/4331/5432/5111/5435/9978/1069                                                                                                                                                                                                                                                                                                                                                                                            </td><td>18</td></tr>\n",
       "\t<tr><th scope=row>hsa04623</th><td>Organismal Systems            </td><td>Immune system                     </td><td>hsa04623</td><td>Cytosolic DNA-sensing pathway                    </td><td>18/731</td><td>83/8848 </td><td>1.155324e-04</td><td>2.120359e-03</td><td>1.781273e-03</td><td>84265/3428/9447/3553/841/5437/3627/5440/5441/834/3606/4792/51728/197259/6351/9560/388372/5435                                                                                                                                                                                                                                                                                                                                                                                           </td><td>18</td></tr>\n",
       "\t<tr><th scope=row>hsa04260</th><td>Organismal Systems            </td><td>Circulatory system                </td><td>hsa04260</td><td>Cardiac muscle contraction                       </td><td>18/731</td><td>87/8848 </td><td>2.173208e-04</td><td>3.390205e-03</td><td>2.848046e-03</td><td>7388/9167/1329/483/1350/27089/1347/7381/1345/93589/9377/7385/1327/10975/7386/29796/1349/4513                                                                                                                                                                                                                                                                                                                                                                                            </td><td>18</td></tr>\n",
       "\t<tr><th scope=row>hsa05323</th><td>Human Diseases                </td><td>Immune disease                    </td><td>hsa05323</td><td>Rheumatoid arthritis                             </td><td>18/731</td><td>94/8848 </td><td>5.879864e-04</td><td>7.338070e-03</td><td>6.164573e-03</td><td>1513/3553/942/2919/8992/3122/3123/3117/3112/3108/3113/526/51606/1514/9550/3606/51382/529                                                                                                                                                                                                                                                                                                                                                                                                </td><td>18</td></tr>\n",
       "\t<tr><th scope=row>hsa04640</th><td>Organismal Systems            </td><td>Immune system                     </td><td>hsa04640</td><td>Hematopoietic cell lineage                       </td><td>18/731</td><td>99/8848 </td><td>1.110301e-03</td><td>1.237192e-02</td><td>1.039342e-02</td><td>914/2209/912/1604/925/926/7850/3553/3122/3123/3117/3112/3108/3113/966/931/915/945                                                                                                                                                                                                                                                                                                                                                                                                       </td><td>18</td></tr>\n",
       "\t<tr><th scope=row>hsa05140</th><td>Human Diseases                </td><td>Infectious disease: parasitic     </td><td>hsa05140</td><td>Leishmaniasis                                    </td><td>17/731</td><td>77/8848 </td><td>1.408899e-04</td><td>2.442091e-03</td><td>2.051554e-03</td><td>2209/2214/2215/4688/3553/3122/3123/3117/3112/3108/3113/1915/3459/653361/4792/3460/4689                                                                                                                                                                                                                                                                                                                                                                                                  </td><td>17</td></tr>\n",
       "\t<tr><th scope=row>hsa04612</th><td>Organismal Systems            </td><td>Immune system                     </td><td>hsa04612</td><td>Antigen processing and presentation              </td><td>17/731</td><td>80/8848 </td><td>2.304845e-04</td><td>3.424341e-03</td><td>2.876724e-03</td><td>925/926/3106/3122/3123/3117/3112/3108/3113/1514/3309/3312/5720/5721/2923/567/10197                                                                                                                                                                                                                                                                                                                                                                                                      </td><td>17</td></tr>\n",
       "\t<tr><th scope=row>hsa03050</th><td>Genetic Information Processing</td><td>Folding, sorting and degradation  </td><td>hsa03050</td><td>Proteasome                                       </td><td>15/731</td><td>46/8848 </td><td>2.225982e-06</td><td>4.630042e-05</td><td>3.889610e-05</td><td>5690/10213/5696/5689/5701/5719/5682/51371/5720/5721/5685/5691/10197/5714/5688                                                                                                                                                                                                                                                                                                                                                                                                           </td><td>15</td></tr>\n",
       "\t<tr><th scope=row>hsa05321</th><td>Human Diseases                </td><td>Immune disease                    </td><td>hsa05321</td><td>Inflammatory bowel disease                       </td><td>12/731</td><td>65/8848 </td><td>6.306529e-03</td><td>4.919092e-02</td><td>4.132436e-02</td><td>8807/3553/3122/3123/3117/3112/3108/3113/3459/3606/3460/3561                                                                                                                                                                                                                                                                                                                                                                                                                             </td><td>12</td></tr>\n",
       "\t<tr><th scope=row>hsa03022</th><td>Genetic Information Processing</td><td>Transcription                     </td><td>hsa03022</td><td>Basal transcription factors                      </td><td>11/731</td><td>44/8848 </td><td>6.915011e-04</td><td>7.990680e-03</td><td>6.712818e-03</td><td>6883/2959/1022/6880/6879/9519/404672/6908/2961/4331/2958                                                                                                                                                                                                                                                                                                                                                                                                                                </td><td>11</td></tr>\n",
       "\t<tr><th scope=row>hsa00270</th><td>Metabolism                    </td><td>Amino acid metabolism             </td><td>hsa00270</td><td>Cysteine and methionine metabolism               </td><td>11/731</td><td>52/8848 </td><td>2.967851e-03</td><td>2.573782e-02</td><td>2.162185e-02</td><td>56267/55256/4190/58478/2805/3939/51074/3945/2806/2937/6611                                                                                                                                                                                                                                                                                                                                                                                                                              </td><td>11</td></tr>\n",
       "\t<tr><th scope=row>hsa00510</th><td>Metabolism                    </td><td>Glycan biosynthesis and metabolism</td><td>hsa00510</td><td>N-Glycan biosynthesis                            </td><td>11/731</td><td>53/8848 </td><td>3.472410e-03</td><td>2.851031e-02</td><td>2.395097e-02</td><td>29929/54344/6184/58505/57171/746/79053/29880/1603/6185/8813                                                                                                                                                                                                                                                                                                                                                                                                                             </td><td>11</td></tr>\n",
       "\t<tr><th scope=row>hsa04940</th><td>Human Diseases                </td><td>Endocrine and metabolic disease   </td><td>hsa04940</td><td>Type I diabetes mellitus                         </td><td>10/731</td><td>43/8848 </td><td>2.169711e-03</td><td>2.183709e-02</td><td>1.834493e-02</td><td>3553/942/3106/3122/3123/3117/3112/3108/3113/3002                                                                                                                                                                                                                                                                                                                                                                                                                                        </td><td>10</td></tr>\n",
       "\t<tr><th scope=row>hsa03410</th><td>Genetic Information Processing</td><td>Replication and repair            </td><td>hsa03410</td><td>Base excision repair                             </td><td>10/731</td><td>44/8848 </td><td>2.604479e-03</td><td>2.462416e-02</td><td>2.068629e-02</td><td>8930/5984/5982/5423/54107/7374/5985/10038/328/5111                                                                                                                                                                                                                                                                                                                                                                                                                                      </td><td>10</td></tr>\n",
       "\t<tr><th scope=row>hsa05332</th><td>Human Diseases                </td><td>Immune disease                    </td><td>hsa05332</td><td>Graft-versus-host disease                        </td><td>10/731</td><td>44/8848 </td><td>2.604479e-03</td><td>2.462416e-02</td><td>2.068629e-02</td><td>3553/942/3106/3122/3123/3117/3112/3108/3113/3002                                                                                                                                                                                                                                                                                                                                                                                                                                        </td><td>10</td></tr>\n",
       "\t<tr><th scope=row>hsa00020</th><td>Metabolism                    </td><td>Carbohydrate metabolism           </td><td>hsa00020</td><td>Citrate cycle (TCA cycle)                        </td><td>9/731 </td><td>30/8848 </td><td>4.996224e-04</td><td>6.495091e-03</td><td>5.456402e-03</td><td>6390/6391/2271/4190/8802/3417/6392/1431/3420                                                                                                                                                                                                                                                                                                                                                                                                                                            </td><td> 9</td></tr>\n",
       "\t<tr><th scope=row>hsa03060</th><td>Genetic Information Processing</td><td>Folding, sorting and degradation  </td><td>hsa03060</td><td>Protein export                                   </td><td>9/731 </td><td>31/8848 </td><td>6.531340e-04</td><td>7.837608e-03</td><td>6.584226e-03</td><td>6726/28972/23480/10952/3309/5018/23478/29100/90701                                                                                                                                                                                                                                                                                                                                                                                                                                      </td><td> 9</td></tr>\n",
       "\t<tr><th scope=row>hsa03020</th><td>Genetic Information Processing</td><td>Transcription                     </td><td>hsa03020</td><td>RNA polymerase                                   </td><td>9/731 </td><td>34/8848 </td><td>1.357454e-03</td><td>1.460433e-02</td><td>1.226882e-02</td><td>84265/5437/30834/5440/5441/5436/51728/5432/5435                                                                                                                                                                                                                                                                                                                                                                                                                                         </td><td> 9</td></tr>\n",
       "\t<tr><th scope=row>hsa05330</th><td>Human Diseases                </td><td>Immune disease                    </td><td>hsa05330</td><td>Allograft rejection                              </td><td>9/731 </td><td>38/8848 </td><td>3.130437e-03</td><td>2.639720e-02</td><td>2.217578e-02</td><td>942/3106/3122/3123/3117/3112/3108/3113/3002                                                                                                                                                                                                                                                                                                                                                                                                                                             </td><td> 9</td></tr>\n",
       "\t<tr><th scope=row>hsa03430</th><td>Genetic Information Processing</td><td>Replication and repair            </td><td>hsa03430</td><td>Mismatch repair                                  </td><td>8/731 </td><td>23/8848 </td><td>3.337226e-04</td><td>4.732793e-03</td><td>3.975930e-03</td><td>6118/5984/6119/5982/6742/5985/27030/5111                                                                                                                                                                                                                                                                                                                                                                                                                                                </td><td> 8</td></tr>\n",
       "\t<tr><th scope=row>hsa05310</th><td>Human Diseases                </td><td>Immune disease                    </td><td>hsa05310</td><td>Asthma                                           </td><td>8/731 </td><td>31/8848 </td><td>2.969748e-03</td><td>2.573782e-02</td><td>2.162185e-02</td><td>2205/2207/3122/3123/3117/3112/3108/3113                                                                                                                                                                                                                                                                                                                                                                                                                                                 </td><td> 8</td></tr>\n",
       "\t<tr><th scope=row>hsa04136</th><td>Cellular Processes            </td><td>Transport and catabolism          </td><td>hsa04136</td><td>Autophagy - other                                </td><td>8/731 </td><td>32/8848 </td><td>3.678632e-03</td><td>2.942906e-02</td><td>2.472279e-02</td><td>64422/9474/5516/23710/11345/11337/3476/115201                                                                                                                                                                                                                                                                                                                                                                                                                                           </td><td> 8</td></tr>\n",
       "</tbody>\n",
       "</table>\n"
      ],
      "text/latex": [
       "A data.frame: 41 × 11\n",
       "\\begin{tabular}{r|lllllllllll}\n",
       "  & category & subcategory & ID & Description & GeneRatio & BgRatio & pvalue & p.adjust & qvalue & geneID & Count\\\\\n",
       "  & <chr> & <chr> & <chr> & <chr> & <chr> & <chr> & <dbl> & <dbl> & <dbl> & <chr> & <int>\\\\\n",
       "\\hline\n",
       "\thsa03010 & Genetic Information Processing & Translation                        & hsa03010 & Ribosome                                          & 89/731 & 172/8848 & 1.503441e-51 & 4.690735e-49 & 3.940597e-49 & 6135/64960/6202/6125/54460/65005/6232/79590/6201/9553/6233/6160/6168/6161/6138/3921/9045/6159/6152/11222/200916/6165/6133/65008/51023/6164/6189/6167/6228/6208/29093/6222/6204/4736/64928/6206/29074/64983/29088/6224/6129/6156/28998/6194/11224/6136/6130/6229/6157/6207/54948/2197/65003/219927/6188/6230/6231/6171/6128/6175/6144/6166/51187/51065/6124/6210/6154/9349/6143/6155/51264/6169/51081/25873/6234/64981/7311/6217/6223/6141/23521/6205/6203/6193/6227/64968/6191/6170/6134 & 89\\\\\n",
       "\thsa05014 & Human Diseases                 & Neurodegenerative disease          & hsa05014 & Amyotrophic lateral sclerosis                     & 76/731 & 371/8848 & 3.449519e-14 & 1.195833e-12 & 1.004597e-12 & 6390/5690/4725/7388/2882/515/6391/6432/9167/1329/10213/518/4709/4705/4710/5217/4717/4724/1350/27089/7416/4695/1616/6428/1347/5689/4697/5701/7381/1345/4715/4712/11258/3309/509/29982/90550/5719/5682/4722/10482/834/6392/7846/1649/55967/79023/55860/4707/9377/5685/7385/4706/1327/81631/5216/5691/10476/498/10975/7386/5714/29107/8480/514/5688/6647/539/637/29796/468/4700/54539/1349/4694/4513                                                                                        & 76\\\\\n",
       "\thsa05022 & Human Diseases                 & Neurodegenerative disease          & hsa05022 & Pathways of neurodegeneration - multiple diseases & 76/731 & 483/8848 & 1.888059e-08 & 4.531341e-07 & 3.806694e-07 & 6390/5690/4725/7388/2882/515/6391/9167/6233/1329/3553/10213/518/4709/841/4705/4710/4717/4724/1350/27089/7416/4695/1616/1347/5689/4697/5701/7419/7381/1345/4715/4712/11258/3309/509/29982/90550/7417/5719/5682/4722/6392/7846/1649/55967/7316/55860/4707/9377/5685/7385/4706/1327/81631/5691/10476/498/10975/7311/7386/5714/514/5688/6647/539/637/29796/468/4700/54539/3028/1349/292/4694/4513                                                                                            & 76\\\\\n",
       "\thsa05171 & Human Diseases                 & Infectious disease: viral          & hsa05171 & Coronavirus disease - COVID-19                    & 74/731 & 238/8848 & 4.341187e-25 & 6.772251e-23 & 5.689239e-23 & 6135/6202/6125/6232/6201/6233/6160/3553/6168/6161/6138/3921/9045/6159/6152/200916/6165/6133/3627/6164/6189/6167/6228/6208/6222/6204/4736/6206/6224/6129/6156/6194/11224/6136/6130/6229/6157/6207/2197/6188/834/6230/719/6231/6171/6128/4938/6175/6144/4792/6166/51187/51065/6124/6210/6154/9349/6143/6155/6169/25873/6234/7311/6217/6223/6141/23521/6205/6203/6193/6227/6191/6170/6134                                                                                                   & 74\\\\\n",
       "\thsa05016 & Human Diseases                 & Neurodegenerative disease          & hsa05016 & Huntington disease                                & 73/731 & 311/8848 & 5.624761e-17 & 2.924876e-15 & 2.457133e-15 & 6390/5690/4725/7388/2882/515/6391/9167/1329/10213/518/4709/841/4705/4710/5437/4717/4724/1350/27089/7416/4695/1347/9519/5689/6908/4697/5701/7419/7381/1345/5440/4715/4712/11258/1211/509/29982/7417/5719/5441/5682/4722/5436/6392/7846/55967/55860/4707/9377/5685/7385/4706/5432/1327/5691/10476/498/10975/7386/5714/514/5688/6647/539/29796/5435/4700/54539/1349/292/4694/4513                                                                                                           & 73\\\\\n",
       "\thsa05020 & Human Diseases                 & Neurodegenerative disease          & hsa05020 & Prion disease                                     & 70/731 & 278/8848 & 4.607113e-18 & 2.874838e-16 & 2.415097e-16 & 6390/5690/4725/7388/515/6391/4688/9167/1329/3553/10213/518/4709/4705/4710/4717/4724/1350/27089/7416/4695/1347/2534/5689/4697/653361/5701/7419/7381/1345/4715/4712/3309/509/90550/7417/5719/5682/4722/10963/6392/3312/7846/1649/55967/4707/9377/5685/7385/4706/1327/5691/10476/498/10975/7386/5714/514/5688/6647/539/29796/4689/468/4700/54539/1349/292/4694/4513                                                                                                                         & 70\\\\\n",
       "\thsa05012 & Human Diseases                 & Neurodegenerative disease          & hsa05012 & Parkinson disease                                 & 69/731 & 271/8848 & 4.262100e-18 & 2.874838e-16 & 2.415097e-16 & 6390/5690/4725/7388/515/6391/9167/6233/1329/10213/518/4709/4705/4710/4717/4724/1350/27089/7416/4695/1843/1616/1347/5689/4697/5701/7419/7381/1345/4715/4712/7295/3309/509/90550/7417/5719/5682/4722/6392/7846/1649/55967/7316/4707/9377/5685/7385/4706/1327/5691/10476/498/10975/7311/7386/5714/514/5688/6647/539/29796/468/4700/54539/1349/292/4694/4513                                                                                                                                 & 69\\\\\n",
       "\thsa05010 & Human Diseases                 & Neurodegenerative disease          & hsa05010 & Alzheimer disease                                 & 68/731 & 391/8848 & 1.766667e-09 & 4.593334e-08 & 3.858773e-08 & 6390/5690/4725/7388/515/6391/9167/1329/3553/10213/518/4709/841/4705/4710/4717/4724/1350/27089/7416/4695/1347/5689/4697/5701/7419/7381/1345/4715/4712/509/29982/90550/7417/5719/5682/4722/10313/6392/2597/7846/1649/55967/4707/9377/5685/7385/4706/1327/5691/10476/498/10975/7386/5714/514/5688/539/637/29796/468/4700/54539/3028/1349/292/4694/4513                                                                                                                                      & 68\\\\\n",
       "\thsa05208 & Human Diseases                 & Cancer: overview                   & hsa05208 & Chemical carcinogenesis - reactive oxygen species & 59/731 & 226/8848 & 3.723732e-16 & 1.659721e-14 & 1.394300e-14 & 6390/4725/10327/7388/2946/515/6391/4259/4688/9167/1329/518/4709/4705/4710/4717/4258/4724/1350/27089/7416/4695/1347/4697/653361/7419/7381/1345/4715/4712/8644/509/7417/4722/6392/4257/55967/4792/4707/9377/7385/4706/1728/1327/10476/498/10975/7386/514/6647/539/873/29796/4700/54539/1349/292/4694/4513                                                                                                                                                                                  & 59\\\\\n",
       "\thsa00190 & Metabolism                     & Energy metabolism                  & hsa00190 & Oxidative phosphorylation                         & 54/731 & 138/8848 & 6.302207e-24 & 6.554295e-22 & 5.506139e-22 & 6390/4725/7388/515/6391/9167/1329/518/4709/4705/10063/4710/27068/4717/4724/1350/27089/4695/8992/1347/4697/9551/526/51606/7381/1345/4715/4712/9550/509/5464/4722/6392/10632/55967/51382/4707/9377/7385/4706/1327/10476/498/10975/7386/514/539/529/29796/4700/54539/1349/4694/4513                                                                                                                                                                                                         & 54\\\\\n",
       "\thsa05415 & Human Diseases                 & Cardiovascular disease             & hsa05415 & Diabetic cardiomyopathy                           & 53/731 & 205/8848 & 1.965521e-14 & 7.665534e-13 & 6.439669e-13 & 6390/4725/7388/515/6391/25874/4688/9167/1329/518/4709/4705/4710/4717/4724/1350/27089/7416/4695/1347/51660/4697/653361/7419/7381/1345/4715/4712/509/7417/4722/6392/2597/55967/4707/9377/7385/4706/1327/10476/498/10975/7386/514/539/29796/4689/4700/54539/1349/292/4694/4513                                                                                                                                                                                                              & 53\\\\\n",
       "\thsa04714 & Organismal Systems             & Environmental adaptation           & hsa04714 & Thermogenesis                                     & 53/731 & 235/8848 & 6.988332e-12 & 2.180360e-10 & 1.831679e-10 & 6390/4725/7388/515/6391/9167/1329/493753/518/4709/4705/788/10063/4710/4717/4724/91942/1350/27089/4695/1347/4697/9551/7381/1345/4715/6194/4712/509/4722/51287/6392/10632/84987/55967/4707/9377/7385/4706/1327/10476/284184/498/10975/7386/514/539/29796/4700/54539/1349/4694/4513                                                                                                                                                                                                         & 53\\\\\n",
       "\thsa04932 & Human Diseases                 & Endocrine and metabolic disease    & hsa04932 & Non-alcoholic fatty liver disease                 & 41/731 & 157/8848 & 1.369311e-11 & 3.883864e-10 & 3.262761e-10 & 6390/4725/7388/6391/9167/1329/3553/4709/841/4705/4710/4717/4724/1350/27089/4695/1347/4697/7381/1345/4715/4712/4722/6392/1649/55967/4707/9377/7385/4706/1327/10975/7386/637/29796/468/4700/54539/1349/4694/4513                                                                                                                                                                                                                                                                           & 41\\\\\n",
       "\thsa03040 & Genetic Information Processing & Transcription                      & hsa03040 & Spliceosome                                       & 35/731 & 218/8848 & 9.645649e-05 & 1.880901e-03 & 1.580110e-03 & 9410/10465/10286/10262/9129/6635/51639/6432/11017/6637/10713/27258/55696/57819/6631/6428/83443/23658/6100/8896/3190/51503/3312/3183/6430/22938/1655/6427/9775/6633/6629/6431/84844/4809/27316                                                                                                                                                                                                                                                                                            & 35\\\\\n",
       "\thsa05132 & Human Diseases                 & Infectious disease: bacterial      & hsa05132 & Salmonella infection                              & 34/731 & 251/8848 & 2.711052e-03 & 2.487789e-02 & 2.089944e-02 & 6281/3553/841/10109/51143/387/5217/8743/6993/10552/10095/23643/11258/7295/81873/6188/837/838/834/3606/2597/7846/5869/7184/10094/8655/4792/55860/302/197259/5216/10627/103910/9367                                                                                                                                                                                                                                                                                                        & 34\\\\\n",
       "\thsa04621 & Organismal Systems             & Immune system                      & hsa04621 & NOD-like receptor signaling pathway               & 28/731 & 189/8848 & 1.689154e-03 & 1.756721e-02 & 1.475788e-02 & 10628/3428/9447/3553/841/820/387/2919/7416/9474/1669/1668/7419/7295/90550/7417/837/838/834/114769/3606/23710/4938/4792/11345/81631/7531/11337                                                                                                                                                                                                                                                                                                                                            & 28\\\\\n",
       "\thsa04145 & Cellular Processes             & Transport and catabolism           & hsa04145 & Phagosome                                         & 27/731 & 157/8848 & 1.893497e-04 & 3.109321e-03 & 2.612082e-03 & 9341/2209/2214/2215/2213/4688/51143/8992/3106/3122/3123/3117/3112/3108/3113/23480/653361/526/51606/1514/10952/9550/7846/5869/51382/529/4689                                                                                                                                                                                                                                                                                                                                              & 27\\\\\n",
       "\thsa04141 & Genetic Information Processing & Folding, sorting and degradation   & hsa04141 & Protein processing in endoplasmic reticulum       & 24/731 & 170/8848 & 6.496302e-03 & 4.943528e-02 & 4.152963e-02 & 6746/10113/55768/6184/7323/58505/7322/23480/7993/10952/3309/64215/7321/746/3312/1649/7184/1603/2923/9709/6185/7353/468/9978                                                                                                                                                                                                                                                                                                                                                              & 24\\\\\n",
       "\thsa01200 & Metabolism                     & Global and overview maps           & hsa01200 & Carbon metabolism                                 & 21/731 & 116/8848 & 4.711883e-04 & 6.391772e-03 & 5.369606e-03 & 5226/6390/6391/2271/4190/8802/3417/128/5223/2805/1892/6888/6392/2597/7167/2026/1431/2098/2806/3420/5230                                                                                                                                                                                                                                                                                                                                                                                  & 21\\\\\n",
       "\thsa03420 & Genetic Information Processing & Replication and repair             & hsa03420 & Nucleotide excision repair                        & 18/731 & 63/8848  & 1.933770e-06 & 4.309546e-05 & 3.620367e-05 & 6118/5437/5984/1022/404672/6119/5982/5440/54107/5441/5436/5985/4331/5432/5111/5435/9978/1069                                                                                                                                                                                                                                                                                                                                                                                             & 18\\\\\n",
       "\thsa04623 & Organismal Systems             & Immune system                      & hsa04623 & Cytosolic DNA-sensing pathway                     & 18/731 & 83/8848  & 1.155324e-04 & 2.120359e-03 & 1.781273e-03 & 84265/3428/9447/3553/841/5437/3627/5440/5441/834/3606/4792/51728/197259/6351/9560/388372/5435                                                                                                                                                                                                                                                                                                                                                                                            & 18\\\\\n",
       "\thsa04260 & Organismal Systems             & Circulatory system                 & hsa04260 & Cardiac muscle contraction                        & 18/731 & 87/8848  & 2.173208e-04 & 3.390205e-03 & 2.848046e-03 & 7388/9167/1329/483/1350/27089/1347/7381/1345/93589/9377/7385/1327/10975/7386/29796/1349/4513                                                                                                                                                                                                                                                                                                                                                                                             & 18\\\\\n",
       "\thsa05323 & Human Diseases                 & Immune disease                     & hsa05323 & Rheumatoid arthritis                              & 18/731 & 94/8848  & 5.879864e-04 & 7.338070e-03 & 6.164573e-03 & 1513/3553/942/2919/8992/3122/3123/3117/3112/3108/3113/526/51606/1514/9550/3606/51382/529                                                                                                                                                                                                                                                                                                                                                                                                 & 18\\\\\n",
       "\thsa04640 & Organismal Systems             & Immune system                      & hsa04640 & Hematopoietic cell lineage                        & 18/731 & 99/8848  & 1.110301e-03 & 1.237192e-02 & 1.039342e-02 & 914/2209/912/1604/925/926/7850/3553/3122/3123/3117/3112/3108/3113/966/931/915/945                                                                                                                                                                                                                                                                                                                                                                                                        & 18\\\\\n",
       "\thsa05140 & Human Diseases                 & Infectious disease: parasitic      & hsa05140 & Leishmaniasis                                     & 17/731 & 77/8848  & 1.408899e-04 & 2.442091e-03 & 2.051554e-03 & 2209/2214/2215/4688/3553/3122/3123/3117/3112/3108/3113/1915/3459/653361/4792/3460/4689                                                                                                                                                                                                                                                                                                                                                                                                   & 17\\\\\n",
       "\thsa04612 & Organismal Systems             & Immune system                      & hsa04612 & Antigen processing and presentation               & 17/731 & 80/8848  & 2.304845e-04 & 3.424341e-03 & 2.876724e-03 & 925/926/3106/3122/3123/3117/3112/3108/3113/1514/3309/3312/5720/5721/2923/567/10197                                                                                                                                                                                                                                                                                                                                                                                                       & 17\\\\\n",
       "\thsa03050 & Genetic Information Processing & Folding, sorting and degradation   & hsa03050 & Proteasome                                        & 15/731 & 46/8848  & 2.225982e-06 & 4.630042e-05 & 3.889610e-05 & 5690/10213/5696/5689/5701/5719/5682/51371/5720/5721/5685/5691/10197/5714/5688                                                                                                                                                                                                                                                                                                                                                                                                            & 15\\\\\n",
       "\thsa05321 & Human Diseases                 & Immune disease                     & hsa05321 & Inflammatory bowel disease                        & 12/731 & 65/8848  & 6.306529e-03 & 4.919092e-02 & 4.132436e-02 & 8807/3553/3122/3123/3117/3112/3108/3113/3459/3606/3460/3561                                                                                                                                                                                                                                                                                                                                                                                                                              & 12\\\\\n",
       "\thsa03022 & Genetic Information Processing & Transcription                      & hsa03022 & Basal transcription factors                       & 11/731 & 44/8848  & 6.915011e-04 & 7.990680e-03 & 6.712818e-03 & 6883/2959/1022/6880/6879/9519/404672/6908/2961/4331/2958                                                                                                                                                                                                                                                                                                                                                                                                                                 & 11\\\\\n",
       "\thsa00270 & Metabolism                     & Amino acid metabolism              & hsa00270 & Cysteine and methionine metabolism                & 11/731 & 52/8848  & 2.967851e-03 & 2.573782e-02 & 2.162185e-02 & 56267/55256/4190/58478/2805/3939/51074/3945/2806/2937/6611                                                                                                                                                                                                                                                                                                                                                                                                                               & 11\\\\\n",
       "\thsa00510 & Metabolism                     & Glycan biosynthesis and metabolism & hsa00510 & N-Glycan biosynthesis                             & 11/731 & 53/8848  & 3.472410e-03 & 2.851031e-02 & 2.395097e-02 & 29929/54344/6184/58505/57171/746/79053/29880/1603/6185/8813                                                                                                                                                                                                                                                                                                                                                                                                                              & 11\\\\\n",
       "\thsa04940 & Human Diseases                 & Endocrine and metabolic disease    & hsa04940 & Type I diabetes mellitus                          & 10/731 & 43/8848  & 2.169711e-03 & 2.183709e-02 & 1.834493e-02 & 3553/942/3106/3122/3123/3117/3112/3108/3113/3002                                                                                                                                                                                                                                                                                                                                                                                                                                         & 10\\\\\n",
       "\thsa03410 & Genetic Information Processing & Replication and repair             & hsa03410 & Base excision repair                              & 10/731 & 44/8848  & 2.604479e-03 & 2.462416e-02 & 2.068629e-02 & 8930/5984/5982/5423/54107/7374/5985/10038/328/5111                                                                                                                                                                                                                                                                                                                                                                                                                                       & 10\\\\\n",
       "\thsa05332 & Human Diseases                 & Immune disease                     & hsa05332 & Graft-versus-host disease                         & 10/731 & 44/8848  & 2.604479e-03 & 2.462416e-02 & 2.068629e-02 & 3553/942/3106/3122/3123/3117/3112/3108/3113/3002                                                                                                                                                                                                                                                                                                                                                                                                                                         & 10\\\\\n",
       "\thsa00020 & Metabolism                     & Carbohydrate metabolism            & hsa00020 & Citrate cycle (TCA cycle)                         & 9/731  & 30/8848  & 4.996224e-04 & 6.495091e-03 & 5.456402e-03 & 6390/6391/2271/4190/8802/3417/6392/1431/3420                                                                                                                                                                                                                                                                                                                                                                                                                                             &  9\\\\\n",
       "\thsa03060 & Genetic Information Processing & Folding, sorting and degradation   & hsa03060 & Protein export                                    & 9/731  & 31/8848  & 6.531340e-04 & 7.837608e-03 & 6.584226e-03 & 6726/28972/23480/10952/3309/5018/23478/29100/90701                                                                                                                                                                                                                                                                                                                                                                                                                                       &  9\\\\\n",
       "\thsa03020 & Genetic Information Processing & Transcription                      & hsa03020 & RNA polymerase                                    & 9/731  & 34/8848  & 1.357454e-03 & 1.460433e-02 & 1.226882e-02 & 84265/5437/30834/5440/5441/5436/51728/5432/5435                                                                                                                                                                                                                                                                                                                                                                                                                                          &  9\\\\\n",
       "\thsa05330 & Human Diseases                 & Immune disease                     & hsa05330 & Allograft rejection                               & 9/731  & 38/8848  & 3.130437e-03 & 2.639720e-02 & 2.217578e-02 & 942/3106/3122/3123/3117/3112/3108/3113/3002                                                                                                                                                                                                                                                                                                                                                                                                                                              &  9\\\\\n",
       "\thsa03430 & Genetic Information Processing & Replication and repair             & hsa03430 & Mismatch repair                                   & 8/731  & 23/8848  & 3.337226e-04 & 4.732793e-03 & 3.975930e-03 & 6118/5984/6119/5982/6742/5985/27030/5111                                                                                                                                                                                                                                                                                                                                                                                                                                                 &  8\\\\\n",
       "\thsa05310 & Human Diseases                 & Immune disease                     & hsa05310 & Asthma                                            & 8/731  & 31/8848  & 2.969748e-03 & 2.573782e-02 & 2.162185e-02 & 2205/2207/3122/3123/3117/3112/3108/3113                                                                                                                                                                                                                                                                                                                                                                                                                                                  &  8\\\\\n",
       "\thsa04136 & Cellular Processes             & Transport and catabolism           & hsa04136 & Autophagy - other                                 & 8/731  & 32/8848  & 3.678632e-03 & 2.942906e-02 & 2.472279e-02 & 64422/9474/5516/23710/11345/11337/3476/115201                                                                                                                                                                                                                                                                                                                                                                                                                                            &  8\\\\\n",
       "\\end{tabular}\n"
      ],
      "text/markdown": [
       "\n",
       "A data.frame: 41 × 11\n",
       "\n",
       "| <!--/--> | category &lt;chr&gt; | subcategory &lt;chr&gt; | ID &lt;chr&gt; | Description &lt;chr&gt; | GeneRatio &lt;chr&gt; | BgRatio &lt;chr&gt; | pvalue &lt;dbl&gt; | p.adjust &lt;dbl&gt; | qvalue &lt;dbl&gt; | geneID &lt;chr&gt; | Count &lt;int&gt; |\n",
       "|---|---|---|---|---|---|---|---|---|---|---|---|\n",
       "| hsa03010 | Genetic Information Processing | Translation                        | hsa03010 | Ribosome                                          | 89/731 | 172/8848 | 1.503441e-51 | 4.690735e-49 | 3.940597e-49 | 6135/64960/6202/6125/54460/65005/6232/79590/6201/9553/6233/6160/6168/6161/6138/3921/9045/6159/6152/11222/200916/6165/6133/65008/51023/6164/6189/6167/6228/6208/29093/6222/6204/4736/64928/6206/29074/64983/29088/6224/6129/6156/28998/6194/11224/6136/6130/6229/6157/6207/54948/2197/65003/219927/6188/6230/6231/6171/6128/6175/6144/6166/51187/51065/6124/6210/6154/9349/6143/6155/51264/6169/51081/25873/6234/64981/7311/6217/6223/6141/23521/6205/6203/6193/6227/64968/6191/6170/6134 | 89 |\n",
       "| hsa05014 | Human Diseases                 | Neurodegenerative disease          | hsa05014 | Amyotrophic lateral sclerosis                     | 76/731 | 371/8848 | 3.449519e-14 | 1.195833e-12 | 1.004597e-12 | 6390/5690/4725/7388/2882/515/6391/6432/9167/1329/10213/518/4709/4705/4710/5217/4717/4724/1350/27089/7416/4695/1616/6428/1347/5689/4697/5701/7381/1345/4715/4712/11258/3309/509/29982/90550/5719/5682/4722/10482/834/6392/7846/1649/55967/79023/55860/4707/9377/5685/7385/4706/1327/81631/5216/5691/10476/498/10975/7386/5714/29107/8480/514/5688/6647/539/637/29796/468/4700/54539/1349/4694/4513                                                                                        | 76 |\n",
       "| hsa05022 | Human Diseases                 | Neurodegenerative disease          | hsa05022 | Pathways of neurodegeneration - multiple diseases | 76/731 | 483/8848 | 1.888059e-08 | 4.531341e-07 | 3.806694e-07 | 6390/5690/4725/7388/2882/515/6391/9167/6233/1329/3553/10213/518/4709/841/4705/4710/4717/4724/1350/27089/7416/4695/1616/1347/5689/4697/5701/7419/7381/1345/4715/4712/11258/3309/509/29982/90550/7417/5719/5682/4722/6392/7846/1649/55967/7316/55860/4707/9377/5685/7385/4706/1327/81631/5691/10476/498/10975/7311/7386/5714/514/5688/6647/539/637/29796/468/4700/54539/3028/1349/292/4694/4513                                                                                            | 76 |\n",
       "| hsa05171 | Human Diseases                 | Infectious disease: viral          | hsa05171 | Coronavirus disease - COVID-19                    | 74/731 | 238/8848 | 4.341187e-25 | 6.772251e-23 | 5.689239e-23 | 6135/6202/6125/6232/6201/6233/6160/3553/6168/6161/6138/3921/9045/6159/6152/200916/6165/6133/3627/6164/6189/6167/6228/6208/6222/6204/4736/6206/6224/6129/6156/6194/11224/6136/6130/6229/6157/6207/2197/6188/834/6230/719/6231/6171/6128/4938/6175/6144/4792/6166/51187/51065/6124/6210/6154/9349/6143/6155/6169/25873/6234/7311/6217/6223/6141/23521/6205/6203/6193/6227/6191/6170/6134                                                                                                   | 74 |\n",
       "| hsa05016 | Human Diseases                 | Neurodegenerative disease          | hsa05016 | Huntington disease                                | 73/731 | 311/8848 | 5.624761e-17 | 2.924876e-15 | 2.457133e-15 | 6390/5690/4725/7388/2882/515/6391/9167/1329/10213/518/4709/841/4705/4710/5437/4717/4724/1350/27089/7416/4695/1347/9519/5689/6908/4697/5701/7419/7381/1345/5440/4715/4712/11258/1211/509/29982/7417/5719/5441/5682/4722/5436/6392/7846/55967/55860/4707/9377/5685/7385/4706/5432/1327/5691/10476/498/10975/7386/5714/514/5688/6647/539/29796/5435/4700/54539/1349/292/4694/4513                                                                                                           | 73 |\n",
       "| hsa05020 | Human Diseases                 | Neurodegenerative disease          | hsa05020 | Prion disease                                     | 70/731 | 278/8848 | 4.607113e-18 | 2.874838e-16 | 2.415097e-16 | 6390/5690/4725/7388/515/6391/4688/9167/1329/3553/10213/518/4709/4705/4710/4717/4724/1350/27089/7416/4695/1347/2534/5689/4697/653361/5701/7419/7381/1345/4715/4712/3309/509/90550/7417/5719/5682/4722/10963/6392/3312/7846/1649/55967/4707/9377/5685/7385/4706/1327/5691/10476/498/10975/7386/5714/514/5688/6647/539/29796/4689/468/4700/54539/1349/292/4694/4513                                                                                                                         | 70 |\n",
       "| hsa05012 | Human Diseases                 | Neurodegenerative disease          | hsa05012 | Parkinson disease                                 | 69/731 | 271/8848 | 4.262100e-18 | 2.874838e-16 | 2.415097e-16 | 6390/5690/4725/7388/515/6391/9167/6233/1329/10213/518/4709/4705/4710/4717/4724/1350/27089/7416/4695/1843/1616/1347/5689/4697/5701/7419/7381/1345/4715/4712/7295/3309/509/90550/7417/5719/5682/4722/6392/7846/1649/55967/7316/4707/9377/5685/7385/4706/1327/5691/10476/498/10975/7311/7386/5714/514/5688/6647/539/29796/468/4700/54539/1349/292/4694/4513                                                                                                                                 | 69 |\n",
       "| hsa05010 | Human Diseases                 | Neurodegenerative disease          | hsa05010 | Alzheimer disease                                 | 68/731 | 391/8848 | 1.766667e-09 | 4.593334e-08 | 3.858773e-08 | 6390/5690/4725/7388/515/6391/9167/1329/3553/10213/518/4709/841/4705/4710/4717/4724/1350/27089/7416/4695/1347/5689/4697/5701/7419/7381/1345/4715/4712/509/29982/90550/7417/5719/5682/4722/10313/6392/2597/7846/1649/55967/4707/9377/5685/7385/4706/1327/5691/10476/498/10975/7386/5714/514/5688/539/637/29796/468/4700/54539/3028/1349/292/4694/4513                                                                                                                                      | 68 |\n",
       "| hsa05208 | Human Diseases                 | Cancer: overview                   | hsa05208 | Chemical carcinogenesis - reactive oxygen species | 59/731 | 226/8848 | 3.723732e-16 | 1.659721e-14 | 1.394300e-14 | 6390/4725/10327/7388/2946/515/6391/4259/4688/9167/1329/518/4709/4705/4710/4717/4258/4724/1350/27089/7416/4695/1347/4697/653361/7419/7381/1345/4715/4712/8644/509/7417/4722/6392/4257/55967/4792/4707/9377/7385/4706/1728/1327/10476/498/10975/7386/514/6647/539/873/29796/4700/54539/1349/292/4694/4513                                                                                                                                                                                  | 59 |\n",
       "| hsa00190 | Metabolism                     | Energy metabolism                  | hsa00190 | Oxidative phosphorylation                         | 54/731 | 138/8848 | 6.302207e-24 | 6.554295e-22 | 5.506139e-22 | 6390/4725/7388/515/6391/9167/1329/518/4709/4705/10063/4710/27068/4717/4724/1350/27089/4695/8992/1347/4697/9551/526/51606/7381/1345/4715/4712/9550/509/5464/4722/6392/10632/55967/51382/4707/9377/7385/4706/1327/10476/498/10975/7386/514/539/529/29796/4700/54539/1349/4694/4513                                                                                                                                                                                                         | 54 |\n",
       "| hsa05415 | Human Diseases                 | Cardiovascular disease             | hsa05415 | Diabetic cardiomyopathy                           | 53/731 | 205/8848 | 1.965521e-14 | 7.665534e-13 | 6.439669e-13 | 6390/4725/7388/515/6391/25874/4688/9167/1329/518/4709/4705/4710/4717/4724/1350/27089/7416/4695/1347/51660/4697/653361/7419/7381/1345/4715/4712/509/7417/4722/6392/2597/55967/4707/9377/7385/4706/1327/10476/498/10975/7386/514/539/29796/4689/4700/54539/1349/292/4694/4513                                                                                                                                                                                                              | 53 |\n",
       "| hsa04714 | Organismal Systems             | Environmental adaptation           | hsa04714 | Thermogenesis                                     | 53/731 | 235/8848 | 6.988332e-12 | 2.180360e-10 | 1.831679e-10 | 6390/4725/7388/515/6391/9167/1329/493753/518/4709/4705/788/10063/4710/4717/4724/91942/1350/27089/4695/1347/4697/9551/7381/1345/4715/6194/4712/509/4722/51287/6392/10632/84987/55967/4707/9377/7385/4706/1327/10476/284184/498/10975/7386/514/539/29796/4700/54539/1349/4694/4513                                                                                                                                                                                                         | 53 |\n",
       "| hsa04932 | Human Diseases                 | Endocrine and metabolic disease    | hsa04932 | Non-alcoholic fatty liver disease                 | 41/731 | 157/8848 | 1.369311e-11 | 3.883864e-10 | 3.262761e-10 | 6390/4725/7388/6391/9167/1329/3553/4709/841/4705/4710/4717/4724/1350/27089/4695/1347/4697/7381/1345/4715/4712/4722/6392/1649/55967/4707/9377/7385/4706/1327/10975/7386/637/29796/468/4700/54539/1349/4694/4513                                                                                                                                                                                                                                                                           | 41 |\n",
       "| hsa03040 | Genetic Information Processing | Transcription                      | hsa03040 | Spliceosome                                       | 35/731 | 218/8848 | 9.645649e-05 | 1.880901e-03 | 1.580110e-03 | 9410/10465/10286/10262/9129/6635/51639/6432/11017/6637/10713/27258/55696/57819/6631/6428/83443/23658/6100/8896/3190/51503/3312/3183/6430/22938/1655/6427/9775/6633/6629/6431/84844/4809/27316                                                                                                                                                                                                                                                                                            | 35 |\n",
       "| hsa05132 | Human Diseases                 | Infectious disease: bacterial      | hsa05132 | Salmonella infection                              | 34/731 | 251/8848 | 2.711052e-03 | 2.487789e-02 | 2.089944e-02 | 6281/3553/841/10109/51143/387/5217/8743/6993/10552/10095/23643/11258/7295/81873/6188/837/838/834/3606/2597/7846/5869/7184/10094/8655/4792/55860/302/197259/5216/10627/103910/9367                                                                                                                                                                                                                                                                                                        | 34 |\n",
       "| hsa04621 | Organismal Systems             | Immune system                      | hsa04621 | NOD-like receptor signaling pathway               | 28/731 | 189/8848 | 1.689154e-03 | 1.756721e-02 | 1.475788e-02 | 10628/3428/9447/3553/841/820/387/2919/7416/9474/1669/1668/7419/7295/90550/7417/837/838/834/114769/3606/23710/4938/4792/11345/81631/7531/11337                                                                                                                                                                                                                                                                                                                                            | 28 |\n",
       "| hsa04145 | Cellular Processes             | Transport and catabolism           | hsa04145 | Phagosome                                         | 27/731 | 157/8848 | 1.893497e-04 | 3.109321e-03 | 2.612082e-03 | 9341/2209/2214/2215/2213/4688/51143/8992/3106/3122/3123/3117/3112/3108/3113/23480/653361/526/51606/1514/10952/9550/7846/5869/51382/529/4689                                                                                                                                                                                                                                                                                                                                              | 27 |\n",
       "| hsa04141 | Genetic Information Processing | Folding, sorting and degradation   | hsa04141 | Protein processing in endoplasmic reticulum       | 24/731 | 170/8848 | 6.496302e-03 | 4.943528e-02 | 4.152963e-02 | 6746/10113/55768/6184/7323/58505/7322/23480/7993/10952/3309/64215/7321/746/3312/1649/7184/1603/2923/9709/6185/7353/468/9978                                                                                                                                                                                                                                                                                                                                                              | 24 |\n",
       "| hsa01200 | Metabolism                     | Global and overview maps           | hsa01200 | Carbon metabolism                                 | 21/731 | 116/8848 | 4.711883e-04 | 6.391772e-03 | 5.369606e-03 | 5226/6390/6391/2271/4190/8802/3417/128/5223/2805/1892/6888/6392/2597/7167/2026/1431/2098/2806/3420/5230                                                                                                                                                                                                                                                                                                                                                                                  | 21 |\n",
       "| hsa03420 | Genetic Information Processing | Replication and repair             | hsa03420 | Nucleotide excision repair                        | 18/731 | 63/8848  | 1.933770e-06 | 4.309546e-05 | 3.620367e-05 | 6118/5437/5984/1022/404672/6119/5982/5440/54107/5441/5436/5985/4331/5432/5111/5435/9978/1069                                                                                                                                                                                                                                                                                                                                                                                             | 18 |\n",
       "| hsa04623 | Organismal Systems             | Immune system                      | hsa04623 | Cytosolic DNA-sensing pathway                     | 18/731 | 83/8848  | 1.155324e-04 | 2.120359e-03 | 1.781273e-03 | 84265/3428/9447/3553/841/5437/3627/5440/5441/834/3606/4792/51728/197259/6351/9560/388372/5435                                                                                                                                                                                                                                                                                                                                                                                            | 18 |\n",
       "| hsa04260 | Organismal Systems             | Circulatory system                 | hsa04260 | Cardiac muscle contraction                        | 18/731 | 87/8848  | 2.173208e-04 | 3.390205e-03 | 2.848046e-03 | 7388/9167/1329/483/1350/27089/1347/7381/1345/93589/9377/7385/1327/10975/7386/29796/1349/4513                                                                                                                                                                                                                                                                                                                                                                                             | 18 |\n",
       "| hsa05323 | Human Diseases                 | Immune disease                     | hsa05323 | Rheumatoid arthritis                              | 18/731 | 94/8848  | 5.879864e-04 | 7.338070e-03 | 6.164573e-03 | 1513/3553/942/2919/8992/3122/3123/3117/3112/3108/3113/526/51606/1514/9550/3606/51382/529                                                                                                                                                                                                                                                                                                                                                                                                 | 18 |\n",
       "| hsa04640 | Organismal Systems             | Immune system                      | hsa04640 | Hematopoietic cell lineage                        | 18/731 | 99/8848  | 1.110301e-03 | 1.237192e-02 | 1.039342e-02 | 914/2209/912/1604/925/926/7850/3553/3122/3123/3117/3112/3108/3113/966/931/915/945                                                                                                                                                                                                                                                                                                                                                                                                        | 18 |\n",
       "| hsa05140 | Human Diseases                 | Infectious disease: parasitic      | hsa05140 | Leishmaniasis                                     | 17/731 | 77/8848  | 1.408899e-04 | 2.442091e-03 | 2.051554e-03 | 2209/2214/2215/4688/3553/3122/3123/3117/3112/3108/3113/1915/3459/653361/4792/3460/4689                                                                                                                                                                                                                                                                                                                                                                                                   | 17 |\n",
       "| hsa04612 | Organismal Systems             | Immune system                      | hsa04612 | Antigen processing and presentation               | 17/731 | 80/8848  | 2.304845e-04 | 3.424341e-03 | 2.876724e-03 | 925/926/3106/3122/3123/3117/3112/3108/3113/1514/3309/3312/5720/5721/2923/567/10197                                                                                                                                                                                                                                                                                                                                                                                                       | 17 |\n",
       "| hsa03050 | Genetic Information Processing | Folding, sorting and degradation   | hsa03050 | Proteasome                                        | 15/731 | 46/8848  | 2.225982e-06 | 4.630042e-05 | 3.889610e-05 | 5690/10213/5696/5689/5701/5719/5682/51371/5720/5721/5685/5691/10197/5714/5688                                                                                                                                                                                                                                                                                                                                                                                                            | 15 |\n",
       "| hsa05321 | Human Diseases                 | Immune disease                     | hsa05321 | Inflammatory bowel disease                        | 12/731 | 65/8848  | 6.306529e-03 | 4.919092e-02 | 4.132436e-02 | 8807/3553/3122/3123/3117/3112/3108/3113/3459/3606/3460/3561                                                                                                                                                                                                                                                                                                                                                                                                                              | 12 |\n",
       "| hsa03022 | Genetic Information Processing | Transcription                      | hsa03022 | Basal transcription factors                       | 11/731 | 44/8848  | 6.915011e-04 | 7.990680e-03 | 6.712818e-03 | 6883/2959/1022/6880/6879/9519/404672/6908/2961/4331/2958                                                                                                                                                                                                                                                                                                                                                                                                                                 | 11 |\n",
       "| hsa00270 | Metabolism                     | Amino acid metabolism              | hsa00270 | Cysteine and methionine metabolism                | 11/731 | 52/8848  | 2.967851e-03 | 2.573782e-02 | 2.162185e-02 | 56267/55256/4190/58478/2805/3939/51074/3945/2806/2937/6611                                                                                                                                                                                                                                                                                                                                                                                                                               | 11 |\n",
       "| hsa00510 | Metabolism                     | Glycan biosynthesis and metabolism | hsa00510 | N-Glycan biosynthesis                             | 11/731 | 53/8848  | 3.472410e-03 | 2.851031e-02 | 2.395097e-02 | 29929/54344/6184/58505/57171/746/79053/29880/1603/6185/8813                                                                                                                                                                                                                                                                                                                                                                                                                              | 11 |\n",
       "| hsa04940 | Human Diseases                 | Endocrine and metabolic disease    | hsa04940 | Type I diabetes mellitus                          | 10/731 | 43/8848  | 2.169711e-03 | 2.183709e-02 | 1.834493e-02 | 3553/942/3106/3122/3123/3117/3112/3108/3113/3002                                                                                                                                                                                                                                                                                                                                                                                                                                         | 10 |\n",
       "| hsa03410 | Genetic Information Processing | Replication and repair             | hsa03410 | Base excision repair                              | 10/731 | 44/8848  | 2.604479e-03 | 2.462416e-02 | 2.068629e-02 | 8930/5984/5982/5423/54107/7374/5985/10038/328/5111                                                                                                                                                                                                                                                                                                                                                                                                                                       | 10 |\n",
       "| hsa05332 | Human Diseases                 | Immune disease                     | hsa05332 | Graft-versus-host disease                         | 10/731 | 44/8848  | 2.604479e-03 | 2.462416e-02 | 2.068629e-02 | 3553/942/3106/3122/3123/3117/3112/3108/3113/3002                                                                                                                                                                                                                                                                                                                                                                                                                                         | 10 |\n",
       "| hsa00020 | Metabolism                     | Carbohydrate metabolism            | hsa00020 | Citrate cycle (TCA cycle)                         | 9/731  | 30/8848  | 4.996224e-04 | 6.495091e-03 | 5.456402e-03 | 6390/6391/2271/4190/8802/3417/6392/1431/3420                                                                                                                                                                                                                                                                                                                                                                                                                                             |  9 |\n",
       "| hsa03060 | Genetic Information Processing | Folding, sorting and degradation   | hsa03060 | Protein export                                    | 9/731  | 31/8848  | 6.531340e-04 | 7.837608e-03 | 6.584226e-03 | 6726/28972/23480/10952/3309/5018/23478/29100/90701                                                                                                                                                                                                                                                                                                                                                                                                                                       |  9 |\n",
       "| hsa03020 | Genetic Information Processing | Transcription                      | hsa03020 | RNA polymerase                                    | 9/731  | 34/8848  | 1.357454e-03 | 1.460433e-02 | 1.226882e-02 | 84265/5437/30834/5440/5441/5436/51728/5432/5435                                                                                                                                                                                                                                                                                                                                                                                                                                          |  9 |\n",
       "| hsa05330 | Human Diseases                 | Immune disease                     | hsa05330 | Allograft rejection                               | 9/731  | 38/8848  | 3.130437e-03 | 2.639720e-02 | 2.217578e-02 | 942/3106/3122/3123/3117/3112/3108/3113/3002                                                                                                                                                                                                                                                                                                                                                                                                                                              |  9 |\n",
       "| hsa03430 | Genetic Information Processing | Replication and repair             | hsa03430 | Mismatch repair                                   | 8/731  | 23/8848  | 3.337226e-04 | 4.732793e-03 | 3.975930e-03 | 6118/5984/6119/5982/6742/5985/27030/5111                                                                                                                                                                                                                                                                                                                                                                                                                                                 |  8 |\n",
       "| hsa05310 | Human Diseases                 | Immune disease                     | hsa05310 | Asthma                                            | 8/731  | 31/8848  | 2.969748e-03 | 2.573782e-02 | 2.162185e-02 | 2205/2207/3122/3123/3117/3112/3108/3113                                                                                                                                                                                                                                                                                                                                                                                                                                                  |  8 |\n",
       "| hsa04136 | Cellular Processes             | Transport and catabolism           | hsa04136 | Autophagy - other                                 | 8/731  | 32/8848  | 3.678632e-03 | 2.942906e-02 | 2.472279e-02 | 64422/9474/5516/23710/11345/11337/3476/115201                                                                                                                                                                                                                                                                                                                                                                                                                                            |  8 |\n",
       "\n"
      ],
      "text/plain": [
       "         category                       subcategory                       \n",
       "hsa03010 Genetic Information Processing Translation                       \n",
       "hsa05014 Human Diseases                 Neurodegenerative disease         \n",
       "hsa05022 Human Diseases                 Neurodegenerative disease         \n",
       "hsa05171 Human Diseases                 Infectious disease: viral         \n",
       "hsa05016 Human Diseases                 Neurodegenerative disease         \n",
       "hsa05020 Human Diseases                 Neurodegenerative disease         \n",
       "hsa05012 Human Diseases                 Neurodegenerative disease         \n",
       "hsa05010 Human Diseases                 Neurodegenerative disease         \n",
       "hsa05208 Human Diseases                 Cancer: overview                  \n",
       "hsa00190 Metabolism                     Energy metabolism                 \n",
       "hsa05415 Human Diseases                 Cardiovascular disease            \n",
       "hsa04714 Organismal Systems             Environmental adaptation          \n",
       "hsa04932 Human Diseases                 Endocrine and metabolic disease   \n",
       "hsa03040 Genetic Information Processing Transcription                     \n",
       "hsa05132 Human Diseases                 Infectious disease: bacterial     \n",
       "hsa04621 Organismal Systems             Immune system                     \n",
       "hsa04145 Cellular Processes             Transport and catabolism          \n",
       "hsa04141 Genetic Information Processing Folding, sorting and degradation  \n",
       "hsa01200 Metabolism                     Global and overview maps          \n",
       "hsa03420 Genetic Information Processing Replication and repair            \n",
       "hsa04623 Organismal Systems             Immune system                     \n",
       "hsa04260 Organismal Systems             Circulatory system                \n",
       "hsa05323 Human Diseases                 Immune disease                    \n",
       "hsa04640 Organismal Systems             Immune system                     \n",
       "hsa05140 Human Diseases                 Infectious disease: parasitic     \n",
       "hsa04612 Organismal Systems             Immune system                     \n",
       "hsa03050 Genetic Information Processing Folding, sorting and degradation  \n",
       "hsa05321 Human Diseases                 Immune disease                    \n",
       "hsa03022 Genetic Information Processing Transcription                     \n",
       "hsa00270 Metabolism                     Amino acid metabolism             \n",
       "hsa00510 Metabolism                     Glycan biosynthesis and metabolism\n",
       "hsa04940 Human Diseases                 Endocrine and metabolic disease   \n",
       "hsa03410 Genetic Information Processing Replication and repair            \n",
       "hsa05332 Human Diseases                 Immune disease                    \n",
       "hsa00020 Metabolism                     Carbohydrate metabolism           \n",
       "hsa03060 Genetic Information Processing Folding, sorting and degradation  \n",
       "hsa03020 Genetic Information Processing Transcription                     \n",
       "hsa05330 Human Diseases                 Immune disease                    \n",
       "hsa03430 Genetic Information Processing Replication and repair            \n",
       "hsa05310 Human Diseases                 Immune disease                    \n",
       "hsa04136 Cellular Processes             Transport and catabolism          \n",
       "         ID       Description                                       GeneRatio\n",
       "hsa03010 hsa03010 Ribosome                                          89/731   \n",
       "hsa05014 hsa05014 Amyotrophic lateral sclerosis                     76/731   \n",
       "hsa05022 hsa05022 Pathways of neurodegeneration - multiple diseases 76/731   \n",
       "hsa05171 hsa05171 Coronavirus disease - COVID-19                    74/731   \n",
       "hsa05016 hsa05016 Huntington disease                                73/731   \n",
       "hsa05020 hsa05020 Prion disease                                     70/731   \n",
       "hsa05012 hsa05012 Parkinson disease                                 69/731   \n",
       "hsa05010 hsa05010 Alzheimer disease                                 68/731   \n",
       "hsa05208 hsa05208 Chemical carcinogenesis - reactive oxygen species 59/731   \n",
       "hsa00190 hsa00190 Oxidative phosphorylation                         54/731   \n",
       "hsa05415 hsa05415 Diabetic cardiomyopathy                           53/731   \n",
       "hsa04714 hsa04714 Thermogenesis                                     53/731   \n",
       "hsa04932 hsa04932 Non-alcoholic fatty liver disease                 41/731   \n",
       "hsa03040 hsa03040 Spliceosome                                       35/731   \n",
       "hsa05132 hsa05132 Salmonella infection                              34/731   \n",
       "hsa04621 hsa04621 NOD-like receptor signaling pathway               28/731   \n",
       "hsa04145 hsa04145 Phagosome                                         27/731   \n",
       "hsa04141 hsa04141 Protein processing in endoplasmic reticulum       24/731   \n",
       "hsa01200 hsa01200 Carbon metabolism                                 21/731   \n",
       "hsa03420 hsa03420 Nucleotide excision repair                        18/731   \n",
       "hsa04623 hsa04623 Cytosolic DNA-sensing pathway                     18/731   \n",
       "hsa04260 hsa04260 Cardiac muscle contraction                        18/731   \n",
       "hsa05323 hsa05323 Rheumatoid arthritis                              18/731   \n",
       "hsa04640 hsa04640 Hematopoietic cell lineage                        18/731   \n",
       "hsa05140 hsa05140 Leishmaniasis                                     17/731   \n",
       "hsa04612 hsa04612 Antigen processing and presentation               17/731   \n",
       "hsa03050 hsa03050 Proteasome                                        15/731   \n",
       "hsa05321 hsa05321 Inflammatory bowel disease                        12/731   \n",
       "hsa03022 hsa03022 Basal transcription factors                       11/731   \n",
       "hsa00270 hsa00270 Cysteine and methionine metabolism                11/731   \n",
       "hsa00510 hsa00510 N-Glycan biosynthesis                             11/731   \n",
       "hsa04940 hsa04940 Type I diabetes mellitus                          10/731   \n",
       "hsa03410 hsa03410 Base excision repair                              10/731   \n",
       "hsa05332 hsa05332 Graft-versus-host disease                         10/731   \n",
       "hsa00020 hsa00020 Citrate cycle (TCA cycle)                         9/731    \n",
       "hsa03060 hsa03060 Protein export                                    9/731    \n",
       "hsa03020 hsa03020 RNA polymerase                                    9/731    \n",
       "hsa05330 hsa05330 Allograft rejection                               9/731    \n",
       "hsa03430 hsa03430 Mismatch repair                                   8/731    \n",
       "hsa05310 hsa05310 Asthma                                            8/731    \n",
       "hsa04136 hsa04136 Autophagy - other                                 8/731    \n",
       "         BgRatio  pvalue       p.adjust     qvalue      \n",
       "hsa03010 172/8848 1.503441e-51 4.690735e-49 3.940597e-49\n",
       "hsa05014 371/8848 3.449519e-14 1.195833e-12 1.004597e-12\n",
       "hsa05022 483/8848 1.888059e-08 4.531341e-07 3.806694e-07\n",
       "hsa05171 238/8848 4.341187e-25 6.772251e-23 5.689239e-23\n",
       "hsa05016 311/8848 5.624761e-17 2.924876e-15 2.457133e-15\n",
       "hsa05020 278/8848 4.607113e-18 2.874838e-16 2.415097e-16\n",
       "hsa05012 271/8848 4.262100e-18 2.874838e-16 2.415097e-16\n",
       "hsa05010 391/8848 1.766667e-09 4.593334e-08 3.858773e-08\n",
       "hsa05208 226/8848 3.723732e-16 1.659721e-14 1.394300e-14\n",
       "hsa00190 138/8848 6.302207e-24 6.554295e-22 5.506139e-22\n",
       "hsa05415 205/8848 1.965521e-14 7.665534e-13 6.439669e-13\n",
       "hsa04714 235/8848 6.988332e-12 2.180360e-10 1.831679e-10\n",
       "hsa04932 157/8848 1.369311e-11 3.883864e-10 3.262761e-10\n",
       "hsa03040 218/8848 9.645649e-05 1.880901e-03 1.580110e-03\n",
       "hsa05132 251/8848 2.711052e-03 2.487789e-02 2.089944e-02\n",
       "hsa04621 189/8848 1.689154e-03 1.756721e-02 1.475788e-02\n",
       "hsa04145 157/8848 1.893497e-04 3.109321e-03 2.612082e-03\n",
       "hsa04141 170/8848 6.496302e-03 4.943528e-02 4.152963e-02\n",
       "hsa01200 116/8848 4.711883e-04 6.391772e-03 5.369606e-03\n",
       "hsa03420 63/8848  1.933770e-06 4.309546e-05 3.620367e-05\n",
       "hsa04623 83/8848  1.155324e-04 2.120359e-03 1.781273e-03\n",
       "hsa04260 87/8848  2.173208e-04 3.390205e-03 2.848046e-03\n",
       "hsa05323 94/8848  5.879864e-04 7.338070e-03 6.164573e-03\n",
       "hsa04640 99/8848  1.110301e-03 1.237192e-02 1.039342e-02\n",
       "hsa05140 77/8848  1.408899e-04 2.442091e-03 2.051554e-03\n",
       "hsa04612 80/8848  2.304845e-04 3.424341e-03 2.876724e-03\n",
       "hsa03050 46/8848  2.225982e-06 4.630042e-05 3.889610e-05\n",
       "hsa05321 65/8848  6.306529e-03 4.919092e-02 4.132436e-02\n",
       "hsa03022 44/8848  6.915011e-04 7.990680e-03 6.712818e-03\n",
       "hsa00270 52/8848  2.967851e-03 2.573782e-02 2.162185e-02\n",
       "hsa00510 53/8848  3.472410e-03 2.851031e-02 2.395097e-02\n",
       "hsa04940 43/8848  2.169711e-03 2.183709e-02 1.834493e-02\n",
       "hsa03410 44/8848  2.604479e-03 2.462416e-02 2.068629e-02\n",
       "hsa05332 44/8848  2.604479e-03 2.462416e-02 2.068629e-02\n",
       "hsa00020 30/8848  4.996224e-04 6.495091e-03 5.456402e-03\n",
       "hsa03060 31/8848  6.531340e-04 7.837608e-03 6.584226e-03\n",
       "hsa03020 34/8848  1.357454e-03 1.460433e-02 1.226882e-02\n",
       "hsa05330 38/8848  3.130437e-03 2.639720e-02 2.217578e-02\n",
       "hsa03430 23/8848  3.337226e-04 4.732793e-03 3.975930e-03\n",
       "hsa05310 31/8848  2.969748e-03 2.573782e-02 2.162185e-02\n",
       "hsa04136 32/8848  3.678632e-03 2.942906e-02 2.472279e-02\n",
       "         geneID                                                                                                                                                                                                                                                                                                                                                                                                                                                                                  \n",
       "hsa03010 6135/64960/6202/6125/54460/65005/6232/79590/6201/9553/6233/6160/6168/6161/6138/3921/9045/6159/6152/11222/200916/6165/6133/65008/51023/6164/6189/6167/6228/6208/29093/6222/6204/4736/64928/6206/29074/64983/29088/6224/6129/6156/28998/6194/11224/6136/6130/6229/6157/6207/54948/2197/65003/219927/6188/6230/6231/6171/6128/6175/6144/6166/51187/51065/6124/6210/6154/9349/6143/6155/51264/6169/51081/25873/6234/64981/7311/6217/6223/6141/23521/6205/6203/6193/6227/64968/6191/6170/6134\n",
       "hsa05014 6390/5690/4725/7388/2882/515/6391/6432/9167/1329/10213/518/4709/4705/4710/5217/4717/4724/1350/27089/7416/4695/1616/6428/1347/5689/4697/5701/7381/1345/4715/4712/11258/3309/509/29982/90550/5719/5682/4722/10482/834/6392/7846/1649/55967/79023/55860/4707/9377/5685/7385/4706/1327/81631/5216/5691/10476/498/10975/7386/5714/29107/8480/514/5688/6647/539/637/29796/468/4700/54539/1349/4694/4513                                                                                       \n",
       "hsa05022 6390/5690/4725/7388/2882/515/6391/9167/6233/1329/3553/10213/518/4709/841/4705/4710/4717/4724/1350/27089/7416/4695/1616/1347/5689/4697/5701/7419/7381/1345/4715/4712/11258/3309/509/29982/90550/7417/5719/5682/4722/6392/7846/1649/55967/7316/55860/4707/9377/5685/7385/4706/1327/81631/5691/10476/498/10975/7311/7386/5714/514/5688/6647/539/637/29796/468/4700/54539/3028/1349/292/4694/4513                                                                                           \n",
       "hsa05171 6135/6202/6125/6232/6201/6233/6160/3553/6168/6161/6138/3921/9045/6159/6152/200916/6165/6133/3627/6164/6189/6167/6228/6208/6222/6204/4736/6206/6224/6129/6156/6194/11224/6136/6130/6229/6157/6207/2197/6188/834/6230/719/6231/6171/6128/4938/6175/6144/4792/6166/51187/51065/6124/6210/6154/9349/6143/6155/6169/25873/6234/7311/6217/6223/6141/23521/6205/6203/6193/6227/6191/6170/6134                                                                                                  \n",
       "hsa05016 6390/5690/4725/7388/2882/515/6391/9167/1329/10213/518/4709/841/4705/4710/5437/4717/4724/1350/27089/7416/4695/1347/9519/5689/6908/4697/5701/7419/7381/1345/5440/4715/4712/11258/1211/509/29982/7417/5719/5441/5682/4722/5436/6392/7846/55967/55860/4707/9377/5685/7385/4706/5432/1327/5691/10476/498/10975/7386/5714/514/5688/6647/539/29796/5435/4700/54539/1349/292/4694/4513                                                                                                          \n",
       "hsa05020 6390/5690/4725/7388/515/6391/4688/9167/1329/3553/10213/518/4709/4705/4710/4717/4724/1350/27089/7416/4695/1347/2534/5689/4697/653361/5701/7419/7381/1345/4715/4712/3309/509/90550/7417/5719/5682/4722/10963/6392/3312/7846/1649/55967/4707/9377/5685/7385/4706/1327/5691/10476/498/10975/7386/5714/514/5688/6647/539/29796/4689/468/4700/54539/1349/292/4694/4513                                                                                                                        \n",
       "hsa05012 6390/5690/4725/7388/515/6391/9167/6233/1329/10213/518/4709/4705/4710/4717/4724/1350/27089/7416/4695/1843/1616/1347/5689/4697/5701/7419/7381/1345/4715/4712/7295/3309/509/90550/7417/5719/5682/4722/6392/7846/1649/55967/7316/4707/9377/5685/7385/4706/1327/5691/10476/498/10975/7311/7386/5714/514/5688/6647/539/29796/468/4700/54539/1349/292/4694/4513                                                                                                                                \n",
       "hsa05010 6390/5690/4725/7388/515/6391/9167/1329/3553/10213/518/4709/841/4705/4710/4717/4724/1350/27089/7416/4695/1347/5689/4697/5701/7419/7381/1345/4715/4712/509/29982/90550/7417/5719/5682/4722/10313/6392/2597/7846/1649/55967/4707/9377/5685/7385/4706/1327/5691/10476/498/10975/7386/5714/514/5688/539/637/29796/468/4700/54539/3028/1349/292/4694/4513                                                                                                                                     \n",
       "hsa05208 6390/4725/10327/7388/2946/515/6391/4259/4688/9167/1329/518/4709/4705/4710/4717/4258/4724/1350/27089/7416/4695/1347/4697/653361/7419/7381/1345/4715/4712/8644/509/7417/4722/6392/4257/55967/4792/4707/9377/7385/4706/1728/1327/10476/498/10975/7386/514/6647/539/873/29796/4700/54539/1349/292/4694/4513                                                                                                                                                                                 \n",
       "hsa00190 6390/4725/7388/515/6391/9167/1329/518/4709/4705/10063/4710/27068/4717/4724/1350/27089/4695/8992/1347/4697/9551/526/51606/7381/1345/4715/4712/9550/509/5464/4722/6392/10632/55967/51382/4707/9377/7385/4706/1327/10476/498/10975/7386/514/539/529/29796/4700/54539/1349/4694/4513                                                                                                                                                                                                        \n",
       "hsa05415 6390/4725/7388/515/6391/25874/4688/9167/1329/518/4709/4705/4710/4717/4724/1350/27089/7416/4695/1347/51660/4697/653361/7419/7381/1345/4715/4712/509/7417/4722/6392/2597/55967/4707/9377/7385/4706/1327/10476/498/10975/7386/514/539/29796/4689/4700/54539/1349/292/4694/4513                                                                                                                                                                                                             \n",
       "hsa04714 6390/4725/7388/515/6391/9167/1329/493753/518/4709/4705/788/10063/4710/4717/4724/91942/1350/27089/4695/1347/4697/9551/7381/1345/4715/6194/4712/509/4722/51287/6392/10632/84987/55967/4707/9377/7385/4706/1327/10476/284184/498/10975/7386/514/539/29796/4700/54539/1349/4694/4513                                                                                                                                                                                                        \n",
       "hsa04932 6390/4725/7388/6391/9167/1329/3553/4709/841/4705/4710/4717/4724/1350/27089/4695/1347/4697/7381/1345/4715/4712/4722/6392/1649/55967/4707/9377/7385/4706/1327/10975/7386/637/29796/468/4700/54539/1349/4694/4513                                                                                                                                                                                                                                                                          \n",
       "hsa03040 9410/10465/10286/10262/9129/6635/51639/6432/11017/6637/10713/27258/55696/57819/6631/6428/83443/23658/6100/8896/3190/51503/3312/3183/6430/22938/1655/6427/9775/6633/6629/6431/84844/4809/27316                                                                                                                                                                                                                                                                                           \n",
       "hsa05132 6281/3553/841/10109/51143/387/5217/8743/6993/10552/10095/23643/11258/7295/81873/6188/837/838/834/3606/2597/7846/5869/7184/10094/8655/4792/55860/302/197259/5216/10627/103910/9367                                                                                                                                                                                                                                                                                                       \n",
       "hsa04621 10628/3428/9447/3553/841/820/387/2919/7416/9474/1669/1668/7419/7295/90550/7417/837/838/834/114769/3606/23710/4938/4792/11345/81631/7531/11337                                                                                                                                                                                                                                                                                                                                           \n",
       "hsa04145 9341/2209/2214/2215/2213/4688/51143/8992/3106/3122/3123/3117/3112/3108/3113/23480/653361/526/51606/1514/10952/9550/7846/5869/51382/529/4689                                                                                                                                                                                                                                                                                                                                             \n",
       "hsa04141 6746/10113/55768/6184/7323/58505/7322/23480/7993/10952/3309/64215/7321/746/3312/1649/7184/1603/2923/9709/6185/7353/468/9978                                                                                                                                                                                                                                                                                                                                                             \n",
       "hsa01200 5226/6390/6391/2271/4190/8802/3417/128/5223/2805/1892/6888/6392/2597/7167/2026/1431/2098/2806/3420/5230                                                                                                                                                                                                                                                                                                                                                                                 \n",
       "hsa03420 6118/5437/5984/1022/404672/6119/5982/5440/54107/5441/5436/5985/4331/5432/5111/5435/9978/1069                                                                                                                                                                                                                                                                                                                                                                                            \n",
       "hsa04623 84265/3428/9447/3553/841/5437/3627/5440/5441/834/3606/4792/51728/197259/6351/9560/388372/5435                                                                                                                                                                                                                                                                                                                                                                                           \n",
       "hsa04260 7388/9167/1329/483/1350/27089/1347/7381/1345/93589/9377/7385/1327/10975/7386/29796/1349/4513                                                                                                                                                                                                                                                                                                                                                                                            \n",
       "hsa05323 1513/3553/942/2919/8992/3122/3123/3117/3112/3108/3113/526/51606/1514/9550/3606/51382/529                                                                                                                                                                                                                                                                                                                                                                                                \n",
       "hsa04640 914/2209/912/1604/925/926/7850/3553/3122/3123/3117/3112/3108/3113/966/931/915/945                                                                                                                                                                                                                                                                                                                                                                                                       \n",
       "hsa05140 2209/2214/2215/4688/3553/3122/3123/3117/3112/3108/3113/1915/3459/653361/4792/3460/4689                                                                                                                                                                                                                                                                                                                                                                                                  \n",
       "hsa04612 925/926/3106/3122/3123/3117/3112/3108/3113/1514/3309/3312/5720/5721/2923/567/10197                                                                                                                                                                                                                                                                                                                                                                                                      \n",
       "hsa03050 5690/10213/5696/5689/5701/5719/5682/51371/5720/5721/5685/5691/10197/5714/5688                                                                                                                                                                                                                                                                                                                                                                                                           \n",
       "hsa05321 8807/3553/3122/3123/3117/3112/3108/3113/3459/3606/3460/3561                                                                                                                                                                                                                                                                                                                                                                                                                             \n",
       "hsa03022 6883/2959/1022/6880/6879/9519/404672/6908/2961/4331/2958                                                                                                                                                                                                                                                                                                                                                                                                                                \n",
       "hsa00270 56267/55256/4190/58478/2805/3939/51074/3945/2806/2937/6611                                                                                                                                                                                                                                                                                                                                                                                                                              \n",
       "hsa00510 29929/54344/6184/58505/57171/746/79053/29880/1603/6185/8813                                                                                                                                                                                                                                                                                                                                                                                                                             \n",
       "hsa04940 3553/942/3106/3122/3123/3117/3112/3108/3113/3002                                                                                                                                                                                                                                                                                                                                                                                                                                        \n",
       "hsa03410 8930/5984/5982/5423/54107/7374/5985/10038/328/5111                                                                                                                                                                                                                                                                                                                                                                                                                                      \n",
       "hsa05332 3553/942/3106/3122/3123/3117/3112/3108/3113/3002                                                                                                                                                                                                                                                                                                                                                                                                                                        \n",
       "hsa00020 6390/6391/2271/4190/8802/3417/6392/1431/3420                                                                                                                                                                                                                                                                                                                                                                                                                                            \n",
       "hsa03060 6726/28972/23480/10952/3309/5018/23478/29100/90701                                                                                                                                                                                                                                                                                                                                                                                                                                      \n",
       "hsa03020 84265/5437/30834/5440/5441/5436/51728/5432/5435                                                                                                                                                                                                                                                                                                                                                                                                                                         \n",
       "hsa05330 942/3106/3122/3123/3117/3112/3108/3113/3002                                                                                                                                                                                                                                                                                                                                                                                                                                             \n",
       "hsa03430 6118/5984/6119/5982/6742/5985/27030/5111                                                                                                                                                                                                                                                                                                                                                                                                                                                \n",
       "hsa05310 2205/2207/3122/3123/3117/3112/3108/3113                                                                                                                                                                                                                                                                                                                                                                                                                                                 \n",
       "hsa04136 64422/9474/5516/23710/11345/11337/3476/115201                                                                                                                                                                                                                                                                                                                                                                                                                                           \n",
       "         Count\n",
       "hsa03010 89   \n",
       "hsa05014 76   \n",
       "hsa05022 76   \n",
       "hsa05171 74   \n",
       "hsa05016 73   \n",
       "hsa05020 70   \n",
       "hsa05012 69   \n",
       "hsa05010 68   \n",
       "hsa05208 59   \n",
       "hsa00190 54   \n",
       "hsa05415 53   \n",
       "hsa04714 53   \n",
       "hsa04932 41   \n",
       "hsa03040 35   \n",
       "hsa05132 34   \n",
       "hsa04621 28   \n",
       "hsa04145 27   \n",
       "hsa04141 24   \n",
       "hsa01200 21   \n",
       "hsa03420 18   \n",
       "hsa04623 18   \n",
       "hsa04260 18   \n",
       "hsa05323 18   \n",
       "hsa04640 18   \n",
       "hsa05140 17   \n",
       "hsa04612 17   \n",
       "hsa03050 15   \n",
       "hsa05321 12   \n",
       "hsa03022 11   \n",
       "hsa00270 11   \n",
       "hsa00510 11   \n",
       "hsa04940 10   \n",
       "hsa03410 10   \n",
       "hsa05332 10   \n",
       "hsa00020  9   \n",
       "hsa03060  9   \n",
       "hsa03020  9   \n",
       "hsa05330  9   \n",
       "hsa03430  8   \n",
       "hsa05310  8   \n",
       "hsa04136  8   "
      ]
     },
     "metadata": {},
     "output_type": "display_data"
    }
   ],
   "source": [
    "deg_up_pathways"
   ]
  },
  {
   "cell_type": "code",
   "execution_count": 69,
   "metadata": {
    "vscode": {
     "languageId": "r"
    }
   },
   "outputs": [
    {
     "data": {
      "text/html": [
       "<table class=\"dataframe\">\n",
       "<caption>A data.frame: 30 × 11</caption>\n",
       "<thead>\n",
       "\t<tr><th></th><th scope=col>category</th><th scope=col>subcategory</th><th scope=col>ID</th><th scope=col>Description</th><th scope=col>GeneRatio</th><th scope=col>BgRatio</th><th scope=col>pvalue</th><th scope=col>p.adjust</th><th scope=col>qvalue</th><th scope=col>geneID</th><th scope=col>Count</th></tr>\n",
       "\t<tr><th></th><th scope=col>&lt;chr&gt;</th><th scope=col>&lt;chr&gt;</th><th scope=col>&lt;chr&gt;</th><th scope=col>&lt;chr&gt;</th><th scope=col>&lt;chr&gt;</th><th scope=col>&lt;chr&gt;</th><th scope=col>&lt;dbl&gt;</th><th scope=col>&lt;dbl&gt;</th><th scope=col>&lt;dbl&gt;</th><th scope=col>&lt;chr&gt;</th><th scope=col>&lt;int&gt;</th></tr>\n",
       "</thead>\n",
       "<tbody>\n",
       "\t<tr><th scope=row>hsa05131</th><td>Human Diseases                      </td><td>Infectious disease: bacterial    </td><td>hsa05131</td><td>Shigellosis                                    </td><td>40/724</td><td>249/8848</td><td>2.459488e-05</td><td>0.002101856</td><td>0.001689023</td><td>2475/10163/9181/10097/3099/3708/5295/1729/5601/3710/1432/2309/10392/25851/7094/23048/3688/3098/7414/1147/3611/960/2017/3709/5829/207/83660/8678/57521/6093/10892/596/81/598/5335/7335/7307/102724594/257397/4303</td><td>40</td></tr>\n",
       "\t<tr><th scope=row>hsa04144</th><td>Cellular Processes                  </td><td>Transport and catabolism         </td><td>hsa04144</td><td>Endocytosis                                    </td><td>36/724</td><td>252/8848</td><td>6.621525e-04</td><td>0.013118896</td><td>0.010542164</td><td>9829/8853/30845/10097/3800/9922/5868/1234/6643/3482/23362/80223/50807/3799/729092/8729/22841/116985/408/867/8411/9815/11021/29082/5371/3480/22905/84440/163/147179/23327/9525/160/10564/30011/23096             </td><td>36</td></tr>\n",
       "\t<tr><th scope=row>hsa05205</th><td>Human Diseases                      </td><td>Cancer: overview                 </td><td>hsa05205</td><td>Proteoglycans in cancer                        </td><td>34/724</td><td>204/8848</td><td>4.641323e-05</td><td>0.002101856</td><td>0.001689023</td><td>2475/3339/6548/6654/3708/3693/2549/5295/3710/1432/2099/7430/8321/286/5727/7410/3688/27250/960/2017/867/23365/3709/5781/5829/207/7057/3480/3690/5578/6093/5335/7074/2316                                         </td><td>34</td></tr>\n",
       "\t<tr><th scope=row>hsa04810</th><td>Cellular Processes                  </td><td>Cell motility                    </td><td>hsa04810</td><td>Regulation of actin cytoskeleton               </td><td>34/724</td><td>230/8848</td><td>4.969285e-04</td><td>0.011251881</td><td>0.009041857</td><td>6548/10163/6654/10097/200576/4638/3693/5295/324/1729/7430/2768/7410/3688/7414/1132/23365/3071/54434/5829/207/4629/3684/4628/85464/8396/3674/3690/6093/10297/81/2909/7074/4627                                   </td><td>34</td></tr>\n",
       "\t<tr><th scope=row>hsa04820</th><td>NA                                  </td><td>NA                               </td><td>hsa04820</td><td>Cytoskeleton in muscle cells                   </td><td>34/724</td><td>232/8848</td><td>5.830354e-04</td><td>0.012321482</td><td>0.009901374</td><td>375790/3339/476/84033/4811/6711/7273/1293/3693/1462/4001/2201/1729/23345/5339/7094/7111/6709/3688/7414/91010/23224/161176/7057/51332/825/83660/4629/4628/4621/3674/3690/84823/4627                              </td><td>34</td></tr>\n",
       "\t<tr><th scope=row>hsa04510</th><td>Cellular Processes                  </td><td>Cellular community - eukaryotes  </td><td>hsa04510</td><td>Focal adhesion                                 </td><td>32/724</td><td>203/8848</td><td>2.250992e-04</td><td>0.006486950</td><td>0.005212824</td><td>3915/6654/1293/2317/4638/3693/5295/1729/5601/7148/7094/2889/7410/3688/7414/3611/7450/5829/394/207/7057/83660/3480/3674/3690/1101/5578/6093/596/81/2909/2316                                                     </td><td>32</td></tr>\n",
       "\t<tr><th scope=row>hsa05163</th><td>Human Diseases                      </td><td>Infectious disease: viral        </td><td>hsa05163</td><td>Human cytomegalovirus infection                </td><td>31/724</td><td>226/8848</td><td>2.920645e-03</td><td>0.037033775</td><td>0.029759832</td><td>2475/3716/3570/9826/109/6654/3708/1234/5530/5295/6892/3710/1432/2768/7248/1147/23365/3709/5829/207/11214/7249/115/113/2775/4775/3690/5578/5608/6093/4773                                                        </td><td>31</td></tr>\n",
       "\t<tr><th scope=row>hsa04140</th><td>Cellular Processes                  </td><td>Transport and catabolism         </td><td>hsa04140</td><td>Autophagy - animal                             </td><td>30/724</td><td>169/8848</td><td>3.856824e-05</td><td>0.002101856</td><td>0.001689023</td><td>2475/57448/8837/79065/3667/3708/9711/23001/5295/5515/5601/7248/10133/55626/7405/8408/8660/53349/207/3480/7249/140775/8678/9842/9110/2081/57521/57724/596/598                                                    </td><td>30</td></tr>\n",
       "\t<tr><th scope=row>hsa04360</th><td>Organismal Systems                  </td><td>Development and regeneration     </td><td>hsa04360</td><td>Axon guidance                                  </td><td>30/724</td><td>184/8848</td><td>1.918112e-04</td><td>0.006250520</td><td>0.005022832</td><td>23380/5362/151449/8440/659/5361/5530/5295/22885/90249/91584/10507/5727/25/3688/8829/3611/23365/10154/54434/5781/4775/85464/5578/6093/5335/4773/23654/5365/55558                                                 </td><td>30</td></tr>\n",
       "\t<tr><th scope=row>hsa05130</th><td>Human Diseases                      </td><td>Infectious disease: bacterial    </td><td>hsa05130</td><td>Pathogenic Escherichia coli infection          </td><td>29/724</td><td>203/8848</td><td>2.140528e-03</td><td>0.030208102</td><td>0.024274815</td><td>10163/9181/9826/10097/8440/4691/5601/7280/1432/49861/7430/2768/8797/25/3688/1147/2017/23365/114609/3071/5781/4644/4629/4628/147179/6093/81027/4627/257397                                                       </td><td>29</td></tr>\n",
       "\t<tr><th scope=row>hsa04814</th><td>Cellular Processes                  </td><td>Cell motility                    </td><td>hsa04814</td><td>Motor proteins                                 </td><td>28/724</td><td>197/8848</td><td>2.729433e-03</td><td>0.036051262</td><td>0.028970298</td><td>23095/23046/3797/1639/3800/25981/7280/63971/23303/84376/3799/196385/1778/26153/57519/4644/4649/4629/1783/4628/4621/399687/140735/4650/147700/55614/81027/4627                                                   </td><td>28</td></tr>\n",
       "\t<tr><th scope=row>hsa05202</th><td>Human Diseases                      </td><td>Cancer: overview                 </td><td>hsa05202</td><td>Transcriptional misregulation in cancer        </td><td>27/724</td><td>193/8848</td><td>4.025102e-03</td><td>0.042800338</td><td>0.034393763</td><td>1647/5087/2005/5966/905/8864/7468/55589/4299/5079/6935/7704/4297/64919/5371/25942/3480/2521/3684/9611/8148/6760/6929/84444/598/26039/2130                                                                       </td><td>27</td></tr>\n",
       "\t<tr><th scope=row>hsa04152</th><td>Environmental Information Processing</td><td>Signal transduction              </td><td>hsa04152</td><td>AMPK signaling pathway                         </td><td>25/724</td><td>122/8848</td><td>1.396376e-05</td><td>0.002101856</td><td>0.001689023</td><td>2475/51094/5208/3667/5295/5515/2309/7248/5209/1374/32/8408/8660/207/3480/7249/29904/23417/31/92335/57521/2194/1938/3643/1375                                                                                    </td><td>25</td></tr>\n",
       "\t<tr><th scope=row>hsa03082</th><td>Genetic Information Processing      </td><td>Chromosome                       </td><td>hsa03082</td><td>ATP-dependent chromatin remodeling             </td><td>24/724</td><td>117/8848</td><td>2.030089e-05</td><td>0.002101856</td><td>0.001689023</td><td>8289/57459/29994/54891/6599/55193/93973/57492/9031/8295/6595/51773/196528/6601/11176/57634/54617/10847/1107/2186/6760/6597/54815/26039                                                                          </td><td>24</td></tr>\n",
       "\t<tr><th scope=row>hsa04919</th><td>Organismal Systems                  </td><td>Endocrine system                 </td><td>hsa04919</td><td>Thyroid hormone signaling pathway              </td><td>24/724</td><td>122/8848</td><td>4.182537e-05</td><td>0.002101856</td><td>0.001689023</td><td>2475/6548/476/4853/5208/5295/2099/4851/23389/207/25942/7249/1387/9611/5469/3690/9969/5578/10025/5335/8202/2033/9282/9968                                                                                        </td><td>24</td></tr>\n",
       "\t<tr><th scope=row>hsa04611</th><td>Organismal Systems                  </td><td>Immune system                    </td><td>hsa04611</td><td>Platelet activation                            </td><td>23/724</td><td>126/8848</td><td>1.971773e-04</td><td>0.006250520</td><td>0.005022832</td><td>109/3708/4638/5295/3710/1432/5294/7094/3688/23365/7450/3709/207/8681/83660/115/113/2811/23533/3674/3690/6093/2909                                                                                               </td><td>23</td></tr>\n",
       "\t<tr><th scope=row>hsa04072</th><td>Environmental Information Processing</td><td>Signal transduction              </td><td>hsa04072</td><td>Phospholipase D signaling pathway              </td><td>23/724</td><td>149/8848</td><td>2.191755e-03</td><td>0.030208102</td><td>0.024274815</td><td>2475/109/6654/8527/1608/2549/5295/2768/5294/7248/9846/5781/160851/207/8681/7249/115/113/23533/5578/3643/5335/56894                                                                                              </td><td>23</td></tr>\n",
       "\t<tr><th scope=row>hsa04935</th><td>Organismal Systems                  </td><td>Endocrine system                 </td><td>hsa04935</td><td>Growth hormone synthesis, secretion and action </td><td>21/724</td><td>122/8848</td><td>8.280044e-04</td><td>0.015439848</td><td>0.012407249</td><td>2475/109/6654/3667/3708/5295/5601/3710/1432/775/3709/8660/207/3483/1387/115/113/5578/5608/5335/2033                                                                                                             </td><td>21</td></tr>\n",
       "\t<tr><th scope=row>hsa04910</th><td>Organismal Systems                  </td><td>Endocrine system                 </td><td>hsa04910</td><td>Insulin signaling pathway                      </td><td>21/724</td><td>138/8848</td><td>3.974503e-03</td><td>0.042800338</td><td>0.034393763</td><td>2475/5792/6654/3099/3667/5295/5601/2889/7248/3098/867/32/8660/207/7249/31/23265/57521/2194/3643/5770                                                                                                            </td><td>21</td></tr>\n",
       "\t<tr><th scope=row>hsa04722</th><td>Organismal Systems                  </td><td>Nervous system                   </td><td>hsa04722</td><td>Neurotrophin signaling pathway                 </td><td>19/724</td><td>120/8848</td><td>3.848649e-03</td><td>0.042800338</td><td>0.034393763</td><td>6272/5664/57498/6654/3667/2549/5295/5601/1432/2309/4217/6196/25/2889/5781/207/4215/596/5335                                                                                                                     </td><td>19</td></tr>\n",
       "\t<tr><th scope=row>hsa04211</th><td>Organismal Systems                  </td><td>Aging                            </td><td>hsa04211</td><td>Longevity regulating pathway                   </td><td>18/724</td><td>90/8848 </td><td>3.007418e-04</td><td>0.007944597</td><td>0.006384169</td><td>2475/51094/109/3667/5295/10919/2309/7248/79813/8408/8660/207/3480/7249/115/113/57521/3643                                                                                                                       </td><td>18</td></tr>\n",
       "\t<tr><th scope=row>hsa04070</th><td>Environmental Information Processing</td><td>Signal transduction              </td><td>hsa04070</td><td>Phosphatidylinositol signaling system          </td><td>18/724</td><td>98/8848 </td><td>8.784243e-04</td><td>0.015470028</td><td>0.012431502</td><td>5287/3707/3631/200576/8527/3708/1608/5295/3710/8871/3709/160851/8396/9110/5578/8760/5335/5297                                                                                                                   </td><td>18</td></tr>\n",
       "\t<tr><th scope=row>hsa01522</th><td>Human Diseases                      </td><td>Drug resistance: antineoplastic  </td><td>hsa01522</td><td>Endocrine resistance                           </td><td>18/724</td><td>99/8848 </td><td>9.937078e-04</td><td>0.016579230</td><td>0.013322841</td><td>2475/4853/109/6654/5295/5601/1432/2099/4851/207/3480/115/113/9611/5469/596/10498/8202                                                                                                                           </td><td>18</td></tr>\n",
       "\t<tr><th scope=row>hsa04931</th><td>Human Diseases                      </td><td>Endocrine and metabolic disease  </td><td>hsa04931</td><td>Insulin resistance                             </td><td>18/724</td><td>109/8848</td><td>3.046184e-03</td><td>0.037140010</td><td>0.029845201</td><td>2475/5792/3667/5295/133522/5601/6196/10724/1374/32/5781/22877/8660/207/3643/5770/5465/1375                                                                                                                      </td><td>18</td></tr>\n",
       "\t<tr><th scope=row>hsa03083</th><td>Genetic Information Processing      </td><td>Chromosome                       </td><td>hsa03083</td><td>Polycomb repressive complex                    </td><td>17/724</td><td>83/8848 </td><td>3.269088e-04</td><td>0.007971546</td><td>0.006405825</td><td>55252/80012/3720/221937/26053/84458/22992/121536/84678/23269/1387/10238/23466/2033/54880/63035/3054                                                                                                             </td><td>17</td></tr>\n",
       "\t<tr><th scope=row>hsa00310</th><td>Metabolism                          </td><td>Amino acid metabolism            </td><td>hsa00310</td><td>Lysine degradation                             </td><td>16/724</td><td>63/8848 </td><td>3.241741e-05</td><td>0.002101856</td><td>0.001689023</td><td>9869/55870/7468/80854/64324/10919/55904/1738/58508/79813/51111/4297/8085/23067/84444/9757                                                                                                                       </td><td>16</td></tr>\n",
       "\t<tr><th scope=row>hsa03250</th><td>Genetic Information Processing      </td><td>Information processing in viruses</td><td>hsa03250</td><td>Viral life cycle - HIV-1                       </td><td>15/724</td><td>64/8848 </td><td>1.528018e-04</td><td>0.006054773</td><td>0.004865532</td><td>5903/905/1234/256987/27125/23299/29082/4130/1387/9525/8178/6829/25939/200316/2033                                                                                                                               </td><td>15</td></tr>\n",
       "\t<tr><th scope=row>hsa04213</th><td>Organismal Systems                  </td><td>Aging                            </td><td>hsa04213</td><td>Longevity regulating pathway - multiple species</td><td>13/724</td><td>62/8848 </td><td>1.279096e-03</td><td>0.019308253</td><td>0.015515847</td><td>2475/109/3667/5295/2309/1979/8660/207/3480/115/113/57521/3643                                                                                                                                                   </td><td>13</td></tr>\n",
       "\t<tr><th scope=row>hsa04330</th><td>Environmental Information Processing</td><td>Signal transduction              </td><td>hsa04330</td><td>Notch signaling pathway                        </td><td>13/724</td><td>62/8848 </td><td>1.279096e-03</td><td>0.019308253</td><td>0.015515847</td><td>23013/4853/5664/55534/9794/6310/4851/84441/9612/7090/1387/342371/2033                                                                                                                                           </td><td>13</td></tr>\n",
       "\t<tr><th scope=row>hsa04930</th><td>Human Diseases                      </td><td>Endocrine and metabolic disease  </td><td>hsa04930</td><td>Type II diabetes mellitus                      </td><td>10/724</td><td>47/8848 </td><td>4.050505e-03</td><td>0.042800338</td><td>0.034393763</td><td>2475/777/3099/3667/5295/5601/3098/775/8660/3643                                                                                                                                                                 </td><td>10</td></tr>\n",
       "</tbody>\n",
       "</table>\n"
      ],
      "text/latex": [
       "A data.frame: 30 × 11\n",
       "\\begin{tabular}{r|lllllllllll}\n",
       "  & category & subcategory & ID & Description & GeneRatio & BgRatio & pvalue & p.adjust & qvalue & geneID & Count\\\\\n",
       "  & <chr> & <chr> & <chr> & <chr> & <chr> & <chr> & <dbl> & <dbl> & <dbl> & <chr> & <int>\\\\\n",
       "\\hline\n",
       "\thsa05131 & Human Diseases                       & Infectious disease: bacterial     & hsa05131 & Shigellosis                                     & 40/724 & 249/8848 & 2.459488e-05 & 0.002101856 & 0.001689023 & 2475/10163/9181/10097/3099/3708/5295/1729/5601/3710/1432/2309/10392/25851/7094/23048/3688/3098/7414/1147/3611/960/2017/3709/5829/207/83660/8678/57521/6093/10892/596/81/598/5335/7335/7307/102724594/257397/4303 & 40\\\\\n",
       "\thsa04144 & Cellular Processes                   & Transport and catabolism          & hsa04144 & Endocytosis                                     & 36/724 & 252/8848 & 6.621525e-04 & 0.013118896 & 0.010542164 & 9829/8853/30845/10097/3800/9922/5868/1234/6643/3482/23362/80223/50807/3799/729092/8729/22841/116985/408/867/8411/9815/11021/29082/5371/3480/22905/84440/163/147179/23327/9525/160/10564/30011/23096              & 36\\\\\n",
       "\thsa05205 & Human Diseases                       & Cancer: overview                  & hsa05205 & Proteoglycans in cancer                         & 34/724 & 204/8848 & 4.641323e-05 & 0.002101856 & 0.001689023 & 2475/3339/6548/6654/3708/3693/2549/5295/3710/1432/2099/7430/8321/286/5727/7410/3688/27250/960/2017/867/23365/3709/5781/5829/207/7057/3480/3690/5578/6093/5335/7074/2316                                          & 34\\\\\n",
       "\thsa04810 & Cellular Processes                   & Cell motility                     & hsa04810 & Regulation of actin cytoskeleton                & 34/724 & 230/8848 & 4.969285e-04 & 0.011251881 & 0.009041857 & 6548/10163/6654/10097/200576/4638/3693/5295/324/1729/7430/2768/7410/3688/7414/1132/23365/3071/54434/5829/207/4629/3684/4628/85464/8396/3674/3690/6093/10297/81/2909/7074/4627                                    & 34\\\\\n",
       "\thsa04820 & NA                                   & NA                                & hsa04820 & Cytoskeleton in muscle cells                    & 34/724 & 232/8848 & 5.830354e-04 & 0.012321482 & 0.009901374 & 375790/3339/476/84033/4811/6711/7273/1293/3693/1462/4001/2201/1729/23345/5339/7094/7111/6709/3688/7414/91010/23224/161176/7057/51332/825/83660/4629/4628/4621/3674/3690/84823/4627                               & 34\\\\\n",
       "\thsa04510 & Cellular Processes                   & Cellular community - eukaryotes   & hsa04510 & Focal adhesion                                  & 32/724 & 203/8848 & 2.250992e-04 & 0.006486950 & 0.005212824 & 3915/6654/1293/2317/4638/3693/5295/1729/5601/7148/7094/2889/7410/3688/7414/3611/7450/5829/394/207/7057/83660/3480/3674/3690/1101/5578/6093/596/81/2909/2316                                                      & 32\\\\\n",
       "\thsa05163 & Human Diseases                       & Infectious disease: viral         & hsa05163 & Human cytomegalovirus infection                 & 31/724 & 226/8848 & 2.920645e-03 & 0.037033775 & 0.029759832 & 2475/3716/3570/9826/109/6654/3708/1234/5530/5295/6892/3710/1432/2768/7248/1147/23365/3709/5829/207/11214/7249/115/113/2775/4775/3690/5578/5608/6093/4773                                                         & 31\\\\\n",
       "\thsa04140 & Cellular Processes                   & Transport and catabolism          & hsa04140 & Autophagy - animal                              & 30/724 & 169/8848 & 3.856824e-05 & 0.002101856 & 0.001689023 & 2475/57448/8837/79065/3667/3708/9711/23001/5295/5515/5601/7248/10133/55626/7405/8408/8660/53349/207/3480/7249/140775/8678/9842/9110/2081/57521/57724/596/598                                                     & 30\\\\\n",
       "\thsa04360 & Organismal Systems                   & Development and regeneration      & hsa04360 & Axon guidance                                   & 30/724 & 184/8848 & 1.918112e-04 & 0.006250520 & 0.005022832 & 23380/5362/151449/8440/659/5361/5530/5295/22885/90249/91584/10507/5727/25/3688/8829/3611/23365/10154/54434/5781/4775/85464/5578/6093/5335/4773/23654/5365/55558                                                  & 30\\\\\n",
       "\thsa05130 & Human Diseases                       & Infectious disease: bacterial     & hsa05130 & Pathogenic Escherichia coli infection           & 29/724 & 203/8848 & 2.140528e-03 & 0.030208102 & 0.024274815 & 10163/9181/9826/10097/8440/4691/5601/7280/1432/49861/7430/2768/8797/25/3688/1147/2017/23365/114609/3071/5781/4644/4629/4628/147179/6093/81027/4627/257397                                                        & 29\\\\\n",
       "\thsa04814 & Cellular Processes                   & Cell motility                     & hsa04814 & Motor proteins                                  & 28/724 & 197/8848 & 2.729433e-03 & 0.036051262 & 0.028970298 & 23095/23046/3797/1639/3800/25981/7280/63971/23303/84376/3799/196385/1778/26153/57519/4644/4649/4629/1783/4628/4621/399687/140735/4650/147700/55614/81027/4627                                                    & 28\\\\\n",
       "\thsa05202 & Human Diseases                       & Cancer: overview                  & hsa05202 & Transcriptional misregulation in cancer         & 27/724 & 193/8848 & 4.025102e-03 & 0.042800338 & 0.034393763 & 1647/5087/2005/5966/905/8864/7468/55589/4299/5079/6935/7704/4297/64919/5371/25942/3480/2521/3684/9611/8148/6760/6929/84444/598/26039/2130                                                                        & 27\\\\\n",
       "\thsa04152 & Environmental Information Processing & Signal transduction               & hsa04152 & AMPK signaling pathway                          & 25/724 & 122/8848 & 1.396376e-05 & 0.002101856 & 0.001689023 & 2475/51094/5208/3667/5295/5515/2309/7248/5209/1374/32/8408/8660/207/3480/7249/29904/23417/31/92335/57521/2194/1938/3643/1375                                                                                     & 25\\\\\n",
       "\thsa03082 & Genetic Information Processing       & Chromosome                        & hsa03082 & ATP-dependent chromatin remodeling              & 24/724 & 117/8848 & 2.030089e-05 & 0.002101856 & 0.001689023 & 8289/57459/29994/54891/6599/55193/93973/57492/9031/8295/6595/51773/196528/6601/11176/57634/54617/10847/1107/2186/6760/6597/54815/26039                                                                           & 24\\\\\n",
       "\thsa04919 & Organismal Systems                   & Endocrine system                  & hsa04919 & Thyroid hormone signaling pathway               & 24/724 & 122/8848 & 4.182537e-05 & 0.002101856 & 0.001689023 & 2475/6548/476/4853/5208/5295/2099/4851/23389/207/25942/7249/1387/9611/5469/3690/9969/5578/10025/5335/8202/2033/9282/9968                                                                                         & 24\\\\\n",
       "\thsa04611 & Organismal Systems                   & Immune system                     & hsa04611 & Platelet activation                             & 23/724 & 126/8848 & 1.971773e-04 & 0.006250520 & 0.005022832 & 109/3708/4638/5295/3710/1432/5294/7094/3688/23365/7450/3709/207/8681/83660/115/113/2811/23533/3674/3690/6093/2909                                                                                                & 23\\\\\n",
       "\thsa04072 & Environmental Information Processing & Signal transduction               & hsa04072 & Phospholipase D signaling pathway               & 23/724 & 149/8848 & 2.191755e-03 & 0.030208102 & 0.024274815 & 2475/109/6654/8527/1608/2549/5295/2768/5294/7248/9846/5781/160851/207/8681/7249/115/113/23533/5578/3643/5335/56894                                                                                               & 23\\\\\n",
       "\thsa04935 & Organismal Systems                   & Endocrine system                  & hsa04935 & Growth hormone synthesis, secretion and action  & 21/724 & 122/8848 & 8.280044e-04 & 0.015439848 & 0.012407249 & 2475/109/6654/3667/3708/5295/5601/3710/1432/775/3709/8660/207/3483/1387/115/113/5578/5608/5335/2033                                                                                                              & 21\\\\\n",
       "\thsa04910 & Organismal Systems                   & Endocrine system                  & hsa04910 & Insulin signaling pathway                       & 21/724 & 138/8848 & 3.974503e-03 & 0.042800338 & 0.034393763 & 2475/5792/6654/3099/3667/5295/5601/2889/7248/3098/867/32/8660/207/7249/31/23265/57521/2194/3643/5770                                                                                                             & 21\\\\\n",
       "\thsa04722 & Organismal Systems                   & Nervous system                    & hsa04722 & Neurotrophin signaling pathway                  & 19/724 & 120/8848 & 3.848649e-03 & 0.042800338 & 0.034393763 & 6272/5664/57498/6654/3667/2549/5295/5601/1432/2309/4217/6196/25/2889/5781/207/4215/596/5335                                                                                                                      & 19\\\\\n",
       "\thsa04211 & Organismal Systems                   & Aging                             & hsa04211 & Longevity regulating pathway                    & 18/724 & 90/8848  & 3.007418e-04 & 0.007944597 & 0.006384169 & 2475/51094/109/3667/5295/10919/2309/7248/79813/8408/8660/207/3480/7249/115/113/57521/3643                                                                                                                        & 18\\\\\n",
       "\thsa04070 & Environmental Information Processing & Signal transduction               & hsa04070 & Phosphatidylinositol signaling system           & 18/724 & 98/8848  & 8.784243e-04 & 0.015470028 & 0.012431502 & 5287/3707/3631/200576/8527/3708/1608/5295/3710/8871/3709/160851/8396/9110/5578/8760/5335/5297                                                                                                                    & 18\\\\\n",
       "\thsa01522 & Human Diseases                       & Drug resistance: antineoplastic   & hsa01522 & Endocrine resistance                            & 18/724 & 99/8848  & 9.937078e-04 & 0.016579230 & 0.013322841 & 2475/4853/109/6654/5295/5601/1432/2099/4851/207/3480/115/113/9611/5469/596/10498/8202                                                                                                                            & 18\\\\\n",
       "\thsa04931 & Human Diseases                       & Endocrine and metabolic disease   & hsa04931 & Insulin resistance                              & 18/724 & 109/8848 & 3.046184e-03 & 0.037140010 & 0.029845201 & 2475/5792/3667/5295/133522/5601/6196/10724/1374/32/5781/22877/8660/207/3643/5770/5465/1375                                                                                                                       & 18\\\\\n",
       "\thsa03083 & Genetic Information Processing       & Chromosome                        & hsa03083 & Polycomb repressive complex                     & 17/724 & 83/8848  & 3.269088e-04 & 0.007971546 & 0.006405825 & 55252/80012/3720/221937/26053/84458/22992/121536/84678/23269/1387/10238/23466/2033/54880/63035/3054                                                                                                              & 17\\\\\n",
       "\thsa00310 & Metabolism                           & Amino acid metabolism             & hsa00310 & Lysine degradation                              & 16/724 & 63/8848  & 3.241741e-05 & 0.002101856 & 0.001689023 & 9869/55870/7468/80854/64324/10919/55904/1738/58508/79813/51111/4297/8085/23067/84444/9757                                                                                                                        & 16\\\\\n",
       "\thsa03250 & Genetic Information Processing       & Information processing in viruses & hsa03250 & Viral life cycle - HIV-1                        & 15/724 & 64/8848  & 1.528018e-04 & 0.006054773 & 0.004865532 & 5903/905/1234/256987/27125/23299/29082/4130/1387/9525/8178/6829/25939/200316/2033                                                                                                                                & 15\\\\\n",
       "\thsa04213 & Organismal Systems                   & Aging                             & hsa04213 & Longevity regulating pathway - multiple species & 13/724 & 62/8848  & 1.279096e-03 & 0.019308253 & 0.015515847 & 2475/109/3667/5295/2309/1979/8660/207/3480/115/113/57521/3643                                                                                                                                                    & 13\\\\\n",
       "\thsa04330 & Environmental Information Processing & Signal transduction               & hsa04330 & Notch signaling pathway                         & 13/724 & 62/8848  & 1.279096e-03 & 0.019308253 & 0.015515847 & 23013/4853/5664/55534/9794/6310/4851/84441/9612/7090/1387/342371/2033                                                                                                                                            & 13\\\\\n",
       "\thsa04930 & Human Diseases                       & Endocrine and metabolic disease   & hsa04930 & Type II diabetes mellitus                       & 10/724 & 47/8848  & 4.050505e-03 & 0.042800338 & 0.034393763 & 2475/777/3099/3667/5295/5601/3098/775/8660/3643                                                                                                                                                                  & 10\\\\\n",
       "\\end{tabular}\n"
      ],
      "text/markdown": [
       "\n",
       "A data.frame: 30 × 11\n",
       "\n",
       "| <!--/--> | category &lt;chr&gt; | subcategory &lt;chr&gt; | ID &lt;chr&gt; | Description &lt;chr&gt; | GeneRatio &lt;chr&gt; | BgRatio &lt;chr&gt; | pvalue &lt;dbl&gt; | p.adjust &lt;dbl&gt; | qvalue &lt;dbl&gt; | geneID &lt;chr&gt; | Count &lt;int&gt; |\n",
       "|---|---|---|---|---|---|---|---|---|---|---|---|\n",
       "| hsa05131 | Human Diseases                       | Infectious disease: bacterial     | hsa05131 | Shigellosis                                     | 40/724 | 249/8848 | 2.459488e-05 | 0.002101856 | 0.001689023 | 2475/10163/9181/10097/3099/3708/5295/1729/5601/3710/1432/2309/10392/25851/7094/23048/3688/3098/7414/1147/3611/960/2017/3709/5829/207/83660/8678/57521/6093/10892/596/81/598/5335/7335/7307/102724594/257397/4303 | 40 |\n",
       "| hsa04144 | Cellular Processes                   | Transport and catabolism          | hsa04144 | Endocytosis                                     | 36/724 | 252/8848 | 6.621525e-04 | 0.013118896 | 0.010542164 | 9829/8853/30845/10097/3800/9922/5868/1234/6643/3482/23362/80223/50807/3799/729092/8729/22841/116985/408/867/8411/9815/11021/29082/5371/3480/22905/84440/163/147179/23327/9525/160/10564/30011/23096              | 36 |\n",
       "| hsa05205 | Human Diseases                       | Cancer: overview                  | hsa05205 | Proteoglycans in cancer                         | 34/724 | 204/8848 | 4.641323e-05 | 0.002101856 | 0.001689023 | 2475/3339/6548/6654/3708/3693/2549/5295/3710/1432/2099/7430/8321/286/5727/7410/3688/27250/960/2017/867/23365/3709/5781/5829/207/7057/3480/3690/5578/6093/5335/7074/2316                                          | 34 |\n",
       "| hsa04810 | Cellular Processes                   | Cell motility                     | hsa04810 | Regulation of actin cytoskeleton                | 34/724 | 230/8848 | 4.969285e-04 | 0.011251881 | 0.009041857 | 6548/10163/6654/10097/200576/4638/3693/5295/324/1729/7430/2768/7410/3688/7414/1132/23365/3071/54434/5829/207/4629/3684/4628/85464/8396/3674/3690/6093/10297/81/2909/7074/4627                                    | 34 |\n",
       "| hsa04820 | NA                                   | NA                                | hsa04820 | Cytoskeleton in muscle cells                    | 34/724 | 232/8848 | 5.830354e-04 | 0.012321482 | 0.009901374 | 375790/3339/476/84033/4811/6711/7273/1293/3693/1462/4001/2201/1729/23345/5339/7094/7111/6709/3688/7414/91010/23224/161176/7057/51332/825/83660/4629/4628/4621/3674/3690/84823/4627                               | 34 |\n",
       "| hsa04510 | Cellular Processes                   | Cellular community - eukaryotes   | hsa04510 | Focal adhesion                                  | 32/724 | 203/8848 | 2.250992e-04 | 0.006486950 | 0.005212824 | 3915/6654/1293/2317/4638/3693/5295/1729/5601/7148/7094/2889/7410/3688/7414/3611/7450/5829/394/207/7057/83660/3480/3674/3690/1101/5578/6093/596/81/2909/2316                                                      | 32 |\n",
       "| hsa05163 | Human Diseases                       | Infectious disease: viral         | hsa05163 | Human cytomegalovirus infection                 | 31/724 | 226/8848 | 2.920645e-03 | 0.037033775 | 0.029759832 | 2475/3716/3570/9826/109/6654/3708/1234/5530/5295/6892/3710/1432/2768/7248/1147/23365/3709/5829/207/11214/7249/115/113/2775/4775/3690/5578/5608/6093/4773                                                         | 31 |\n",
       "| hsa04140 | Cellular Processes                   | Transport and catabolism          | hsa04140 | Autophagy - animal                              | 30/724 | 169/8848 | 3.856824e-05 | 0.002101856 | 0.001689023 | 2475/57448/8837/79065/3667/3708/9711/23001/5295/5515/5601/7248/10133/55626/7405/8408/8660/53349/207/3480/7249/140775/8678/9842/9110/2081/57521/57724/596/598                                                     | 30 |\n",
       "| hsa04360 | Organismal Systems                   | Development and regeneration      | hsa04360 | Axon guidance                                   | 30/724 | 184/8848 | 1.918112e-04 | 0.006250520 | 0.005022832 | 23380/5362/151449/8440/659/5361/5530/5295/22885/90249/91584/10507/5727/25/3688/8829/3611/23365/10154/54434/5781/4775/85464/5578/6093/5335/4773/23654/5365/55558                                                  | 30 |\n",
       "| hsa05130 | Human Diseases                       | Infectious disease: bacterial     | hsa05130 | Pathogenic Escherichia coli infection           | 29/724 | 203/8848 | 2.140528e-03 | 0.030208102 | 0.024274815 | 10163/9181/9826/10097/8440/4691/5601/7280/1432/49861/7430/2768/8797/25/3688/1147/2017/23365/114609/3071/5781/4644/4629/4628/147179/6093/81027/4627/257397                                                        | 29 |\n",
       "| hsa04814 | Cellular Processes                   | Cell motility                     | hsa04814 | Motor proteins                                  | 28/724 | 197/8848 | 2.729433e-03 | 0.036051262 | 0.028970298 | 23095/23046/3797/1639/3800/25981/7280/63971/23303/84376/3799/196385/1778/26153/57519/4644/4649/4629/1783/4628/4621/399687/140735/4650/147700/55614/81027/4627                                                    | 28 |\n",
       "| hsa05202 | Human Diseases                       | Cancer: overview                  | hsa05202 | Transcriptional misregulation in cancer         | 27/724 | 193/8848 | 4.025102e-03 | 0.042800338 | 0.034393763 | 1647/5087/2005/5966/905/8864/7468/55589/4299/5079/6935/7704/4297/64919/5371/25942/3480/2521/3684/9611/8148/6760/6929/84444/598/26039/2130                                                                        | 27 |\n",
       "| hsa04152 | Environmental Information Processing | Signal transduction               | hsa04152 | AMPK signaling pathway                          | 25/724 | 122/8848 | 1.396376e-05 | 0.002101856 | 0.001689023 | 2475/51094/5208/3667/5295/5515/2309/7248/5209/1374/32/8408/8660/207/3480/7249/29904/23417/31/92335/57521/2194/1938/3643/1375                                                                                     | 25 |\n",
       "| hsa03082 | Genetic Information Processing       | Chromosome                        | hsa03082 | ATP-dependent chromatin remodeling              | 24/724 | 117/8848 | 2.030089e-05 | 0.002101856 | 0.001689023 | 8289/57459/29994/54891/6599/55193/93973/57492/9031/8295/6595/51773/196528/6601/11176/57634/54617/10847/1107/2186/6760/6597/54815/26039                                                                           | 24 |\n",
       "| hsa04919 | Organismal Systems                   | Endocrine system                  | hsa04919 | Thyroid hormone signaling pathway               | 24/724 | 122/8848 | 4.182537e-05 | 0.002101856 | 0.001689023 | 2475/6548/476/4853/5208/5295/2099/4851/23389/207/25942/7249/1387/9611/5469/3690/9969/5578/10025/5335/8202/2033/9282/9968                                                                                         | 24 |\n",
       "| hsa04611 | Organismal Systems                   | Immune system                     | hsa04611 | Platelet activation                             | 23/724 | 126/8848 | 1.971773e-04 | 0.006250520 | 0.005022832 | 109/3708/4638/5295/3710/1432/5294/7094/3688/23365/7450/3709/207/8681/83660/115/113/2811/23533/3674/3690/6093/2909                                                                                                | 23 |\n",
       "| hsa04072 | Environmental Information Processing | Signal transduction               | hsa04072 | Phospholipase D signaling pathway               | 23/724 | 149/8848 | 2.191755e-03 | 0.030208102 | 0.024274815 | 2475/109/6654/8527/1608/2549/5295/2768/5294/7248/9846/5781/160851/207/8681/7249/115/113/23533/5578/3643/5335/56894                                                                                               | 23 |\n",
       "| hsa04935 | Organismal Systems                   | Endocrine system                  | hsa04935 | Growth hormone synthesis, secretion and action  | 21/724 | 122/8848 | 8.280044e-04 | 0.015439848 | 0.012407249 | 2475/109/6654/3667/3708/5295/5601/3710/1432/775/3709/8660/207/3483/1387/115/113/5578/5608/5335/2033                                                                                                              | 21 |\n",
       "| hsa04910 | Organismal Systems                   | Endocrine system                  | hsa04910 | Insulin signaling pathway                       | 21/724 | 138/8848 | 3.974503e-03 | 0.042800338 | 0.034393763 | 2475/5792/6654/3099/3667/5295/5601/2889/7248/3098/867/32/8660/207/7249/31/23265/57521/2194/3643/5770                                                                                                             | 21 |\n",
       "| hsa04722 | Organismal Systems                   | Nervous system                    | hsa04722 | Neurotrophin signaling pathway                  | 19/724 | 120/8848 | 3.848649e-03 | 0.042800338 | 0.034393763 | 6272/5664/57498/6654/3667/2549/5295/5601/1432/2309/4217/6196/25/2889/5781/207/4215/596/5335                                                                                                                      | 19 |\n",
       "| hsa04211 | Organismal Systems                   | Aging                             | hsa04211 | Longevity regulating pathway                    | 18/724 | 90/8848  | 3.007418e-04 | 0.007944597 | 0.006384169 | 2475/51094/109/3667/5295/10919/2309/7248/79813/8408/8660/207/3480/7249/115/113/57521/3643                                                                                                                        | 18 |\n",
       "| hsa04070 | Environmental Information Processing | Signal transduction               | hsa04070 | Phosphatidylinositol signaling system           | 18/724 | 98/8848  | 8.784243e-04 | 0.015470028 | 0.012431502 | 5287/3707/3631/200576/8527/3708/1608/5295/3710/8871/3709/160851/8396/9110/5578/8760/5335/5297                                                                                                                    | 18 |\n",
       "| hsa01522 | Human Diseases                       | Drug resistance: antineoplastic   | hsa01522 | Endocrine resistance                            | 18/724 | 99/8848  | 9.937078e-04 | 0.016579230 | 0.013322841 | 2475/4853/109/6654/5295/5601/1432/2099/4851/207/3480/115/113/9611/5469/596/10498/8202                                                                                                                            | 18 |\n",
       "| hsa04931 | Human Diseases                       | Endocrine and metabolic disease   | hsa04931 | Insulin resistance                              | 18/724 | 109/8848 | 3.046184e-03 | 0.037140010 | 0.029845201 | 2475/5792/3667/5295/133522/5601/6196/10724/1374/32/5781/22877/8660/207/3643/5770/5465/1375                                                                                                                       | 18 |\n",
       "| hsa03083 | Genetic Information Processing       | Chromosome                        | hsa03083 | Polycomb repressive complex                     | 17/724 | 83/8848  | 3.269088e-04 | 0.007971546 | 0.006405825 | 55252/80012/3720/221937/26053/84458/22992/121536/84678/23269/1387/10238/23466/2033/54880/63035/3054                                                                                                              | 17 |\n",
       "| hsa00310 | Metabolism                           | Amino acid metabolism             | hsa00310 | Lysine degradation                              | 16/724 | 63/8848  | 3.241741e-05 | 0.002101856 | 0.001689023 | 9869/55870/7468/80854/64324/10919/55904/1738/58508/79813/51111/4297/8085/23067/84444/9757                                                                                                                        | 16 |\n",
       "| hsa03250 | Genetic Information Processing       | Information processing in viruses | hsa03250 | Viral life cycle - HIV-1                        | 15/724 | 64/8848  | 1.528018e-04 | 0.006054773 | 0.004865532 | 5903/905/1234/256987/27125/23299/29082/4130/1387/9525/8178/6829/25939/200316/2033                                                                                                                                | 15 |\n",
       "| hsa04213 | Organismal Systems                   | Aging                             | hsa04213 | Longevity regulating pathway - multiple species | 13/724 | 62/8848  | 1.279096e-03 | 0.019308253 | 0.015515847 | 2475/109/3667/5295/2309/1979/8660/207/3480/115/113/57521/3643                                                                                                                                                    | 13 |\n",
       "| hsa04330 | Environmental Information Processing | Signal transduction               | hsa04330 | Notch signaling pathway                         | 13/724 | 62/8848  | 1.279096e-03 | 0.019308253 | 0.015515847 | 23013/4853/5664/55534/9794/6310/4851/84441/9612/7090/1387/342371/2033                                                                                                                                            | 13 |\n",
       "| hsa04930 | Human Diseases                       | Endocrine and metabolic disease   | hsa04930 | Type II diabetes mellitus                       | 10/724 | 47/8848  | 4.050505e-03 | 0.042800338 | 0.034393763 | 2475/777/3099/3667/5295/5601/3098/775/8660/3643                                                                                                                                                                  | 10 |\n",
       "\n"
      ],
      "text/plain": [
       "         category                             subcategory                      \n",
       "hsa05131 Human Diseases                       Infectious disease: bacterial    \n",
       "hsa04144 Cellular Processes                   Transport and catabolism         \n",
       "hsa05205 Human Diseases                       Cancer: overview                 \n",
       "hsa04810 Cellular Processes                   Cell motility                    \n",
       "hsa04820 NA                                   NA                               \n",
       "hsa04510 Cellular Processes                   Cellular community - eukaryotes  \n",
       "hsa05163 Human Diseases                       Infectious disease: viral        \n",
       "hsa04140 Cellular Processes                   Transport and catabolism         \n",
       "hsa04360 Organismal Systems                   Development and regeneration     \n",
       "hsa05130 Human Diseases                       Infectious disease: bacterial    \n",
       "hsa04814 Cellular Processes                   Cell motility                    \n",
       "hsa05202 Human Diseases                       Cancer: overview                 \n",
       "hsa04152 Environmental Information Processing Signal transduction              \n",
       "hsa03082 Genetic Information Processing       Chromosome                       \n",
       "hsa04919 Organismal Systems                   Endocrine system                 \n",
       "hsa04611 Organismal Systems                   Immune system                    \n",
       "hsa04072 Environmental Information Processing Signal transduction              \n",
       "hsa04935 Organismal Systems                   Endocrine system                 \n",
       "hsa04910 Organismal Systems                   Endocrine system                 \n",
       "hsa04722 Organismal Systems                   Nervous system                   \n",
       "hsa04211 Organismal Systems                   Aging                            \n",
       "hsa04070 Environmental Information Processing Signal transduction              \n",
       "hsa01522 Human Diseases                       Drug resistance: antineoplastic  \n",
       "hsa04931 Human Diseases                       Endocrine and metabolic disease  \n",
       "hsa03083 Genetic Information Processing       Chromosome                       \n",
       "hsa00310 Metabolism                           Amino acid metabolism            \n",
       "hsa03250 Genetic Information Processing       Information processing in viruses\n",
       "hsa04213 Organismal Systems                   Aging                            \n",
       "hsa04330 Environmental Information Processing Signal transduction              \n",
       "hsa04930 Human Diseases                       Endocrine and metabolic disease  \n",
       "         ID       Description                                     GeneRatio\n",
       "hsa05131 hsa05131 Shigellosis                                     40/724   \n",
       "hsa04144 hsa04144 Endocytosis                                     36/724   \n",
       "hsa05205 hsa05205 Proteoglycans in cancer                         34/724   \n",
       "hsa04810 hsa04810 Regulation of actin cytoskeleton                34/724   \n",
       "hsa04820 hsa04820 Cytoskeleton in muscle cells                    34/724   \n",
       "hsa04510 hsa04510 Focal adhesion                                  32/724   \n",
       "hsa05163 hsa05163 Human cytomegalovirus infection                 31/724   \n",
       "hsa04140 hsa04140 Autophagy - animal                              30/724   \n",
       "hsa04360 hsa04360 Axon guidance                                   30/724   \n",
       "hsa05130 hsa05130 Pathogenic Escherichia coli infection           29/724   \n",
       "hsa04814 hsa04814 Motor proteins                                  28/724   \n",
       "hsa05202 hsa05202 Transcriptional misregulation in cancer         27/724   \n",
       "hsa04152 hsa04152 AMPK signaling pathway                          25/724   \n",
       "hsa03082 hsa03082 ATP-dependent chromatin remodeling              24/724   \n",
       "hsa04919 hsa04919 Thyroid hormone signaling pathway               24/724   \n",
       "hsa04611 hsa04611 Platelet activation                             23/724   \n",
       "hsa04072 hsa04072 Phospholipase D signaling pathway               23/724   \n",
       "hsa04935 hsa04935 Growth hormone synthesis, secretion and action  21/724   \n",
       "hsa04910 hsa04910 Insulin signaling pathway                       21/724   \n",
       "hsa04722 hsa04722 Neurotrophin signaling pathway                  19/724   \n",
       "hsa04211 hsa04211 Longevity regulating pathway                    18/724   \n",
       "hsa04070 hsa04070 Phosphatidylinositol signaling system           18/724   \n",
       "hsa01522 hsa01522 Endocrine resistance                            18/724   \n",
       "hsa04931 hsa04931 Insulin resistance                              18/724   \n",
       "hsa03083 hsa03083 Polycomb repressive complex                     17/724   \n",
       "hsa00310 hsa00310 Lysine degradation                              16/724   \n",
       "hsa03250 hsa03250 Viral life cycle - HIV-1                        15/724   \n",
       "hsa04213 hsa04213 Longevity regulating pathway - multiple species 13/724   \n",
       "hsa04330 hsa04330 Notch signaling pathway                         13/724   \n",
       "hsa04930 hsa04930 Type II diabetes mellitus                       10/724   \n",
       "         BgRatio  pvalue       p.adjust    qvalue     \n",
       "hsa05131 249/8848 2.459488e-05 0.002101856 0.001689023\n",
       "hsa04144 252/8848 6.621525e-04 0.013118896 0.010542164\n",
       "hsa05205 204/8848 4.641323e-05 0.002101856 0.001689023\n",
       "hsa04810 230/8848 4.969285e-04 0.011251881 0.009041857\n",
       "hsa04820 232/8848 5.830354e-04 0.012321482 0.009901374\n",
       "hsa04510 203/8848 2.250992e-04 0.006486950 0.005212824\n",
       "hsa05163 226/8848 2.920645e-03 0.037033775 0.029759832\n",
       "hsa04140 169/8848 3.856824e-05 0.002101856 0.001689023\n",
       "hsa04360 184/8848 1.918112e-04 0.006250520 0.005022832\n",
       "hsa05130 203/8848 2.140528e-03 0.030208102 0.024274815\n",
       "hsa04814 197/8848 2.729433e-03 0.036051262 0.028970298\n",
       "hsa05202 193/8848 4.025102e-03 0.042800338 0.034393763\n",
       "hsa04152 122/8848 1.396376e-05 0.002101856 0.001689023\n",
       "hsa03082 117/8848 2.030089e-05 0.002101856 0.001689023\n",
       "hsa04919 122/8848 4.182537e-05 0.002101856 0.001689023\n",
       "hsa04611 126/8848 1.971773e-04 0.006250520 0.005022832\n",
       "hsa04072 149/8848 2.191755e-03 0.030208102 0.024274815\n",
       "hsa04935 122/8848 8.280044e-04 0.015439848 0.012407249\n",
       "hsa04910 138/8848 3.974503e-03 0.042800338 0.034393763\n",
       "hsa04722 120/8848 3.848649e-03 0.042800338 0.034393763\n",
       "hsa04211 90/8848  3.007418e-04 0.007944597 0.006384169\n",
       "hsa04070 98/8848  8.784243e-04 0.015470028 0.012431502\n",
       "hsa01522 99/8848  9.937078e-04 0.016579230 0.013322841\n",
       "hsa04931 109/8848 3.046184e-03 0.037140010 0.029845201\n",
       "hsa03083 83/8848  3.269088e-04 0.007971546 0.006405825\n",
       "hsa00310 63/8848  3.241741e-05 0.002101856 0.001689023\n",
       "hsa03250 64/8848  1.528018e-04 0.006054773 0.004865532\n",
       "hsa04213 62/8848  1.279096e-03 0.019308253 0.015515847\n",
       "hsa04330 62/8848  1.279096e-03 0.019308253 0.015515847\n",
       "hsa04930 47/8848  4.050505e-03 0.042800338 0.034393763\n",
       "         geneID                                                                                                                                                                                                          \n",
       "hsa05131 2475/10163/9181/10097/3099/3708/5295/1729/5601/3710/1432/2309/10392/25851/7094/23048/3688/3098/7414/1147/3611/960/2017/3709/5829/207/83660/8678/57521/6093/10892/596/81/598/5335/7335/7307/102724594/257397/4303\n",
       "hsa04144 9829/8853/30845/10097/3800/9922/5868/1234/6643/3482/23362/80223/50807/3799/729092/8729/22841/116985/408/867/8411/9815/11021/29082/5371/3480/22905/84440/163/147179/23327/9525/160/10564/30011/23096             \n",
       "hsa05205 2475/3339/6548/6654/3708/3693/2549/5295/3710/1432/2099/7430/8321/286/5727/7410/3688/27250/960/2017/867/23365/3709/5781/5829/207/7057/3480/3690/5578/6093/5335/7074/2316                                         \n",
       "hsa04810 6548/10163/6654/10097/200576/4638/3693/5295/324/1729/7430/2768/7410/3688/7414/1132/23365/3071/54434/5829/207/4629/3684/4628/85464/8396/3674/3690/6093/10297/81/2909/7074/4627                                   \n",
       "hsa04820 375790/3339/476/84033/4811/6711/7273/1293/3693/1462/4001/2201/1729/23345/5339/7094/7111/6709/3688/7414/91010/23224/161176/7057/51332/825/83660/4629/4628/4621/3674/3690/84823/4627                              \n",
       "hsa04510 3915/6654/1293/2317/4638/3693/5295/1729/5601/7148/7094/2889/7410/3688/7414/3611/7450/5829/394/207/7057/83660/3480/3674/3690/1101/5578/6093/596/81/2909/2316                                                     \n",
       "hsa05163 2475/3716/3570/9826/109/6654/3708/1234/5530/5295/6892/3710/1432/2768/7248/1147/23365/3709/5829/207/11214/7249/115/113/2775/4775/3690/5578/5608/6093/4773                                                        \n",
       "hsa04140 2475/57448/8837/79065/3667/3708/9711/23001/5295/5515/5601/7248/10133/55626/7405/8408/8660/53349/207/3480/7249/140775/8678/9842/9110/2081/57521/57724/596/598                                                    \n",
       "hsa04360 23380/5362/151449/8440/659/5361/5530/5295/22885/90249/91584/10507/5727/25/3688/8829/3611/23365/10154/54434/5781/4775/85464/5578/6093/5335/4773/23654/5365/55558                                                 \n",
       "hsa05130 10163/9181/9826/10097/8440/4691/5601/7280/1432/49861/7430/2768/8797/25/3688/1147/2017/23365/114609/3071/5781/4644/4629/4628/147179/6093/81027/4627/257397                                                       \n",
       "hsa04814 23095/23046/3797/1639/3800/25981/7280/63971/23303/84376/3799/196385/1778/26153/57519/4644/4649/4629/1783/4628/4621/399687/140735/4650/147700/55614/81027/4627                                                   \n",
       "hsa05202 1647/5087/2005/5966/905/8864/7468/55589/4299/5079/6935/7704/4297/64919/5371/25942/3480/2521/3684/9611/8148/6760/6929/84444/598/26039/2130                                                                       \n",
       "hsa04152 2475/51094/5208/3667/5295/5515/2309/7248/5209/1374/32/8408/8660/207/3480/7249/29904/23417/31/92335/57521/2194/1938/3643/1375                                                                                    \n",
       "hsa03082 8289/57459/29994/54891/6599/55193/93973/57492/9031/8295/6595/51773/196528/6601/11176/57634/54617/10847/1107/2186/6760/6597/54815/26039                                                                          \n",
       "hsa04919 2475/6548/476/4853/5208/5295/2099/4851/23389/207/25942/7249/1387/9611/5469/3690/9969/5578/10025/5335/8202/2033/9282/9968                                                                                        \n",
       "hsa04611 109/3708/4638/5295/3710/1432/5294/7094/3688/23365/7450/3709/207/8681/83660/115/113/2811/23533/3674/3690/6093/2909                                                                                               \n",
       "hsa04072 2475/109/6654/8527/1608/2549/5295/2768/5294/7248/9846/5781/160851/207/8681/7249/115/113/23533/5578/3643/5335/56894                                                                                              \n",
       "hsa04935 2475/109/6654/3667/3708/5295/5601/3710/1432/775/3709/8660/207/3483/1387/115/113/5578/5608/5335/2033                                                                                                             \n",
       "hsa04910 2475/5792/6654/3099/3667/5295/5601/2889/7248/3098/867/32/8660/207/7249/31/23265/57521/2194/3643/5770                                                                                                            \n",
       "hsa04722 6272/5664/57498/6654/3667/2549/5295/5601/1432/2309/4217/6196/25/2889/5781/207/4215/596/5335                                                                                                                     \n",
       "hsa04211 2475/51094/109/3667/5295/10919/2309/7248/79813/8408/8660/207/3480/7249/115/113/57521/3643                                                                                                                       \n",
       "hsa04070 5287/3707/3631/200576/8527/3708/1608/5295/3710/8871/3709/160851/8396/9110/5578/8760/5335/5297                                                                                                                   \n",
       "hsa01522 2475/4853/109/6654/5295/5601/1432/2099/4851/207/3480/115/113/9611/5469/596/10498/8202                                                                                                                           \n",
       "hsa04931 2475/5792/3667/5295/133522/5601/6196/10724/1374/32/5781/22877/8660/207/3643/5770/5465/1375                                                                                                                      \n",
       "hsa03083 55252/80012/3720/221937/26053/84458/22992/121536/84678/23269/1387/10238/23466/2033/54880/63035/3054                                                                                                             \n",
       "hsa00310 9869/55870/7468/80854/64324/10919/55904/1738/58508/79813/51111/4297/8085/23067/84444/9757                                                                                                                       \n",
       "hsa03250 5903/905/1234/256987/27125/23299/29082/4130/1387/9525/8178/6829/25939/200316/2033                                                                                                                               \n",
       "hsa04213 2475/109/3667/5295/2309/1979/8660/207/3480/115/113/57521/3643                                                                                                                                                   \n",
       "hsa04330 23013/4853/5664/55534/9794/6310/4851/84441/9612/7090/1387/342371/2033                                                                                                                                           \n",
       "hsa04930 2475/777/3099/3667/5295/5601/3098/775/8660/3643                                                                                                                                                                 \n",
       "         Count\n",
       "hsa05131 40   \n",
       "hsa04144 36   \n",
       "hsa05205 34   \n",
       "hsa04810 34   \n",
       "hsa04820 34   \n",
       "hsa04510 32   \n",
       "hsa05163 31   \n",
       "hsa04140 30   \n",
       "hsa04360 30   \n",
       "hsa05130 29   \n",
       "hsa04814 28   \n",
       "hsa05202 27   \n",
       "hsa04152 25   \n",
       "hsa03082 24   \n",
       "hsa04919 24   \n",
       "hsa04611 23   \n",
       "hsa04072 23   \n",
       "hsa04935 21   \n",
       "hsa04910 21   \n",
       "hsa04722 19   \n",
       "hsa04211 18   \n",
       "hsa04070 18   \n",
       "hsa01522 18   \n",
       "hsa04931 18   \n",
       "hsa03083 17   \n",
       "hsa00310 16   \n",
       "hsa03250 15   \n",
       "hsa04213 13   \n",
       "hsa04330 13   \n",
       "hsa04930 10   "
      ]
     },
     "metadata": {},
     "output_type": "display_data"
    }
   ],
   "source": [
    "deg_down_pathways"
   ]
  },
  {
   "cell_type": "markdown",
   "metadata": {},
   "source": [
    "RETRY WITH GO"
   ]
  },
  {
   "cell_type": "code",
   "execution_count": 71,
   "metadata": {
    "vscode": {
     "languageId": "r"
    }
   },
   "outputs": [
    {
     "ename": "ERROR",
     "evalue": "Error in library(goseq): there is no package called 'goseq'\n",
     "output_type": "error",
     "traceback": [
      "Error in library(goseq): there is no package called 'goseq'\nTraceback:\n",
      "1. library(goseq)"
     ]
    }
   ],
   "source": [
    "library(goseq)"
   ]
  },
  {
   "cell_type": "code",
   "execution_count": null,
   "metadata": {
    "vscode": {
     "languageId": "r"
    }
   },
   "outputs": [],
   "source": []
  }
 ],
 "metadata": {
  "kernelspec": {
   "display_name": "R",
   "language": "R",
   "name": "ir"
  },
  "language_info": {
   "codemirror_mode": "r",
   "file_extension": ".r",
   "mimetype": "text/x-r-source",
   "name": "R",
   "pygments_lexer": "r",
   "version": "4.4.1"
  }
 },
 "nbformat": 4,
 "nbformat_minor": 2
}
