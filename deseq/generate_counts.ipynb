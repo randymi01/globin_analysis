{
 "cells": [
  {
   "cell_type": "code",
   "execution_count": 19,
   "metadata": {},
   "outputs": [],
   "source": [
    "import pandas as pd\n",
    "import numpy as np\n",
    "\n",
    "df = pd.read_excel(\"pbmc_sample_list_raw.xlsx\")"
   ]
  },
  {
   "cell_type": "code",
   "execution_count": 20,
   "metadata": {},
   "outputs": [
    {
     "data": {
      "text/html": [
       "<div>\n",
       "<style scoped>\n",
       "    .dataframe tbody tr th:only-of-type {\n",
       "        vertical-align: middle;\n",
       "    }\n",
       "\n",
       "    .dataframe tbody tr th {\n",
       "        vertical-align: top;\n",
       "    }\n",
       "\n",
       "    .dataframe thead th {\n",
       "        text-align: right;\n",
       "    }\n",
       "</style>\n",
       "<table border=\"1\" class=\"dataframe\">\n",
       "  <thead>\n",
       "    <tr style=\"text-align: right;\">\n",
       "      <th></th>\n",
       "      <th>Enrollment Number</th>\n",
       "      <th>Gender</th>\n",
       "      <th>Ethnicity</th>\n",
       "      <th>Healthy Control or HS?</th>\n",
       "    </tr>\n",
       "  </thead>\n",
       "  <tbody>\n",
       "    <tr>\n",
       "      <th>0</th>\n",
       "      <td>HS-042</td>\n",
       "      <td>F</td>\n",
       "      <td>Caucasian</td>\n",
       "      <td>HS</td>\n",
       "    </tr>\n",
       "    <tr>\n",
       "      <th>1</th>\n",
       "      <td>HS-110</td>\n",
       "      <td>F</td>\n",
       "      <td>Caucasian</td>\n",
       "      <td>HS</td>\n",
       "    </tr>\n",
       "    <tr>\n",
       "      <th>2</th>\n",
       "      <td>HS-129</td>\n",
       "      <td>F</td>\n",
       "      <td>African American</td>\n",
       "      <td>HS</td>\n",
       "    </tr>\n",
       "    <tr>\n",
       "      <th>3</th>\n",
       "      <td>HS-132</td>\n",
       "      <td>F</td>\n",
       "      <td>Asian American</td>\n",
       "      <td>HS</td>\n",
       "    </tr>\n",
       "    <tr>\n",
       "      <th>4</th>\n",
       "      <td>HS-157</td>\n",
       "      <td>F</td>\n",
       "      <td>Caucasian</td>\n",
       "      <td>HS</td>\n",
       "    </tr>\n",
       "    <tr>\n",
       "      <th>...</th>\n",
       "      <td>...</td>\n",
       "      <td>...</td>\n",
       "      <td>...</td>\n",
       "      <td>...</td>\n",
       "    </tr>\n",
       "    <tr>\n",
       "      <th>137</th>\n",
       "      <td>WSU-119</td>\n",
       "      <td>M</td>\n",
       "      <td>African American</td>\n",
       "      <td>HS</td>\n",
       "    </tr>\n",
       "    <tr>\n",
       "      <th>138</th>\n",
       "      <td>WSU-122</td>\n",
       "      <td>F</td>\n",
       "      <td>African American</td>\n",
       "      <td>HS</td>\n",
       "    </tr>\n",
       "    <tr>\n",
       "      <th>139</th>\n",
       "      <td>WSU-124</td>\n",
       "      <td>F</td>\n",
       "      <td>African American</td>\n",
       "      <td>HS</td>\n",
       "    </tr>\n",
       "    <tr>\n",
       "      <th>140</th>\n",
       "      <td>WSU-126</td>\n",
       "      <td>F</td>\n",
       "      <td>African American</td>\n",
       "      <td>HS</td>\n",
       "    </tr>\n",
       "    <tr>\n",
       "      <th>141</th>\n",
       "      <td>WSU-135</td>\n",
       "      <td>F</td>\n",
       "      <td>Caucasian</td>\n",
       "      <td>HS</td>\n",
       "    </tr>\n",
       "  </tbody>\n",
       "</table>\n",
       "<p>142 rows × 4 columns</p>\n",
       "</div>"
      ],
      "text/plain": [
       "    Enrollment Number Gender         Ethnicity Healthy Control or HS?\n",
       "0              HS-042      F         Caucasian                     HS\n",
       "1              HS-110      F         Caucasian                     HS\n",
       "2              HS-129      F  African American                     HS\n",
       "3              HS-132      F    Asian American                     HS\n",
       "4              HS-157      F         Caucasian                     HS\n",
       "..                ...    ...               ...                    ...\n",
       "137           WSU-119      M  African American                     HS\n",
       "138           WSU-122      F  African American                     HS\n",
       "139           WSU-124      F  African American                     HS\n",
       "140           WSU-126      F  African American                     HS\n",
       "141           WSU-135      F         Caucasian                     HS\n",
       "\n",
       "[142 rows x 4 columns]"
      ]
     },
     "execution_count": 20,
     "metadata": {},
     "output_type": "execute_result"
    }
   ],
   "source": [
    "df"
   ]
  },
  {
   "cell_type": "code",
   "execution_count": 21,
   "metadata": {},
   "outputs": [],
   "source": [
    "# change name of first enrollment number to match up with rocks HS-042 -> HS-42\n",
    "df.at[0, \"Enrollment Number\"] = \"HS-42\"\n",
    "df[\"SampleID\"] = df[\"Enrollment Number\"].apply(lambda x: x.replace('-', '_'))"
   ]
  },
  {
   "cell_type": "code",
   "execution_count": 22,
   "metadata": {},
   "outputs": [],
   "source": [
    "with open(\"SampleID.txt\", 'r') as file:\n",
    "    sequenced_samples = file.readlines()\n",
    "    sequenced_samples = [i.strip() for i in sequenced_samples]"
   ]
  },
  {
   "cell_type": "code",
   "execution_count": 7,
   "metadata": {},
   "outputs": [
    {
     "data": {
      "text/plain": [
       "140"
      ]
     },
     "execution_count": 7,
     "metadata": {},
     "output_type": "execute_result"
    }
   ],
   "source": [
    "len(sequenced_samples)"
   ]
  },
  {
   "cell_type": "code",
   "execution_count": 23,
   "metadata": {},
   "outputs": [
    {
     "data": {
      "text/plain": [
       "{'WSU_81', 'WSU_82'}"
      ]
     },
     "execution_count": 23,
     "metadata": {},
     "output_type": "execute_result"
    }
   ],
   "source": [
    "# these two samples appear in the sample list but not in the sequenced data\n",
    "\n",
    "different_samples = set(sequenced_samples).symmetric_difference(set(df[\"SampleID\"]))\n",
    "different_samples"
   ]
  },
  {
   "cell_type": "code",
   "execution_count": 13,
   "metadata": {},
   "outputs": [
    {
     "data": {
      "text/plain": [
       "140"
      ]
     },
     "execution_count": 13,
     "metadata": {},
     "output_type": "execute_result"
    }
   ],
   "source": [
    "len(sequenced_samples)"
   ]
  },
  {
   "cell_type": "code",
   "execution_count": 24,
   "metadata": {},
   "outputs": [],
   "source": [
    "df[\"Sequenced\"] = df[\"SampleID\"].isin(sequenced_samples)\n",
    "\n",
    "# only take samples that we sequenced\n",
    "\n",
    "seq_df = df[df[\"Sequenced\"]]"
   ]
  },
  {
   "cell_type": "code",
   "execution_count": 25,
   "metadata": {},
   "outputs": [
    {
     "data": {
      "text/html": [
       "<div>\n",
       "<style scoped>\n",
       "    .dataframe tbody tr th:only-of-type {\n",
       "        vertical-align: middle;\n",
       "    }\n",
       "\n",
       "    .dataframe tbody tr th {\n",
       "        vertical-align: top;\n",
       "    }\n",
       "\n",
       "    .dataframe thead th {\n",
       "        text-align: right;\n",
       "    }\n",
       "</style>\n",
       "<table border=\"1\" class=\"dataframe\">\n",
       "  <thead>\n",
       "    <tr style=\"text-align: right;\">\n",
       "      <th></th>\n",
       "      <th>Enrollment Number</th>\n",
       "      <th>Gender</th>\n",
       "      <th>Ethnicity</th>\n",
       "      <th>Healthy Control or HS?</th>\n",
       "      <th>SampleID</th>\n",
       "      <th>Sequenced</th>\n",
       "    </tr>\n",
       "  </thead>\n",
       "  <tbody>\n",
       "    <tr>\n",
       "      <th>0</th>\n",
       "      <td>HS-42</td>\n",
       "      <td>F</td>\n",
       "      <td>Caucasian</td>\n",
       "      <td>HS</td>\n",
       "      <td>HS_42</td>\n",
       "      <td>True</td>\n",
       "    </tr>\n",
       "    <tr>\n",
       "      <th>1</th>\n",
       "      <td>HS-110</td>\n",
       "      <td>F</td>\n",
       "      <td>Caucasian</td>\n",
       "      <td>HS</td>\n",
       "      <td>HS_110</td>\n",
       "      <td>True</td>\n",
       "    </tr>\n",
       "    <tr>\n",
       "      <th>2</th>\n",
       "      <td>HS-129</td>\n",
       "      <td>F</td>\n",
       "      <td>African American</td>\n",
       "      <td>HS</td>\n",
       "      <td>HS_129</td>\n",
       "      <td>True</td>\n",
       "    </tr>\n",
       "    <tr>\n",
       "      <th>3</th>\n",
       "      <td>HS-132</td>\n",
       "      <td>F</td>\n",
       "      <td>Asian American</td>\n",
       "      <td>HS</td>\n",
       "      <td>HS_132</td>\n",
       "      <td>True</td>\n",
       "    </tr>\n",
       "    <tr>\n",
       "      <th>4</th>\n",
       "      <td>HS-157</td>\n",
       "      <td>F</td>\n",
       "      <td>Caucasian</td>\n",
       "      <td>HS</td>\n",
       "      <td>HS_157</td>\n",
       "      <td>True</td>\n",
       "    </tr>\n",
       "    <tr>\n",
       "      <th>...</th>\n",
       "      <td>...</td>\n",
       "      <td>...</td>\n",
       "      <td>...</td>\n",
       "      <td>...</td>\n",
       "      <td>...</td>\n",
       "      <td>...</td>\n",
       "    </tr>\n",
       "    <tr>\n",
       "      <th>137</th>\n",
       "      <td>WSU-119</td>\n",
       "      <td>M</td>\n",
       "      <td>African American</td>\n",
       "      <td>HS</td>\n",
       "      <td>WSU_119</td>\n",
       "      <td>True</td>\n",
       "    </tr>\n",
       "    <tr>\n",
       "      <th>138</th>\n",
       "      <td>WSU-122</td>\n",
       "      <td>F</td>\n",
       "      <td>African American</td>\n",
       "      <td>HS</td>\n",
       "      <td>WSU_122</td>\n",
       "      <td>True</td>\n",
       "    </tr>\n",
       "    <tr>\n",
       "      <th>139</th>\n",
       "      <td>WSU-124</td>\n",
       "      <td>F</td>\n",
       "      <td>African American</td>\n",
       "      <td>HS</td>\n",
       "      <td>WSU_124</td>\n",
       "      <td>True</td>\n",
       "    </tr>\n",
       "    <tr>\n",
       "      <th>140</th>\n",
       "      <td>WSU-126</td>\n",
       "      <td>F</td>\n",
       "      <td>African American</td>\n",
       "      <td>HS</td>\n",
       "      <td>WSU_126</td>\n",
       "      <td>True</td>\n",
       "    </tr>\n",
       "    <tr>\n",
       "      <th>141</th>\n",
       "      <td>WSU-135</td>\n",
       "      <td>F</td>\n",
       "      <td>Caucasian</td>\n",
       "      <td>HS</td>\n",
       "      <td>WSU_135</td>\n",
       "      <td>True</td>\n",
       "    </tr>\n",
       "  </tbody>\n",
       "</table>\n",
       "<p>140 rows × 6 columns</p>\n",
       "</div>"
      ],
      "text/plain": [
       "    Enrollment Number Gender         Ethnicity Healthy Control or HS?  \\\n",
       "0               HS-42      F         Caucasian                     HS   \n",
       "1              HS-110      F         Caucasian                     HS   \n",
       "2              HS-129      F  African American                     HS   \n",
       "3              HS-132      F    Asian American                     HS   \n",
       "4              HS-157      F         Caucasian                     HS   \n",
       "..                ...    ...               ...                    ...   \n",
       "137           WSU-119      M  African American                     HS   \n",
       "138           WSU-122      F  African American                     HS   \n",
       "139           WSU-124      F  African American                     HS   \n",
       "140           WSU-126      F  African American                     HS   \n",
       "141           WSU-135      F         Caucasian                     HS   \n",
       "\n",
       "    SampleID  Sequenced  \n",
       "0      HS_42       True  \n",
       "1     HS_110       True  \n",
       "2     HS_129       True  \n",
       "3     HS_132       True  \n",
       "4     HS_157       True  \n",
       "..       ...        ...  \n",
       "137  WSU_119       True  \n",
       "138  WSU_122       True  \n",
       "139  WSU_124       True  \n",
       "140  WSU_126       True  \n",
       "141  WSU_135       True  \n",
       "\n",
       "[140 rows x 6 columns]"
      ]
     },
     "execution_count": 25,
     "metadata": {},
     "output_type": "execute_result"
    }
   ],
   "source": [
    "seq_df"
   ]
  },
  {
   "cell_type": "code",
   "execution_count": 26,
   "metadata": {},
   "outputs": [
    {
     "data": {
      "text/html": [
       "<div>\n",
       "<style scoped>\n",
       "    .dataframe tbody tr th:only-of-type {\n",
       "        vertical-align: middle;\n",
       "    }\n",
       "\n",
       "    .dataframe tbody tr th {\n",
       "        vertical-align: top;\n",
       "    }\n",
       "\n",
       "    .dataframe thead th {\n",
       "        text-align: right;\n",
       "    }\n",
       "</style>\n",
       "<table border=\"1\" class=\"dataframe\">\n",
       "  <thead>\n",
       "    <tr style=\"text-align: right;\">\n",
       "      <th></th>\n",
       "      <th>Enrollment Number</th>\n",
       "      <th>Gender</th>\n",
       "      <th>Ethnicity</th>\n",
       "      <th>Healthy Control or HS?</th>\n",
       "      <th>SampleID</th>\n",
       "      <th>Sequenced</th>\n",
       "    </tr>\n",
       "  </thead>\n",
       "  <tbody>\n",
       "    <tr>\n",
       "      <th>88</th>\n",
       "      <td>HS-644</td>\n",
       "      <td>?</td>\n",
       "      <td>?</td>\n",
       "      <td>?</td>\n",
       "      <td>HS_644</td>\n",
       "      <td>True</td>\n",
       "    </tr>\n",
       "  </tbody>\n",
       "</table>\n",
       "</div>"
      ],
      "text/plain": [
       "   Enrollment Number Gender Ethnicity Healthy Control or HS? SampleID  \\\n",
       "88            HS-644      ?         ?                      ?   HS_644   \n",
       "\n",
       "    Sequenced  \n",
       "88       True  "
      ]
     },
     "execution_count": 26,
     "metadata": {},
     "output_type": "execute_result"
    }
   ],
   "source": [
    "# samples with no info\n",
    "\n",
    "seq_df[seq_df[\"Healthy Control or HS?\"] == '?']"
   ]
  },
  {
   "cell_type": "code",
   "execution_count": 27,
   "metadata": {},
   "outputs": [],
   "source": [
    "seq_df[\"Healthy Control or HS?\"].value_counts()\n",
    "\n",
    "# remove samples which we don't know the health status of\n",
    "\n",
    "seq_df_hshc = seq_df[seq_df[\"Healthy Control or HS?\"] != '?'][[\"SampleID\", \"Gender\", \"Ethnicity\", \"Healthy Control or HS?\"]]  \n",
    "seq_df_hshc = seq_df_hshc.rename(columns={\"Healthy Control or HS?\" : \"Condition\"})\n",
    "\n",
    "# total samples in list: 142\n",
    "# total samples sequenced: 140 (unsequenced samples = WSU81, WSU82)\n",
    "# Samples Missing Sample Info: 1 (HS_644)"
   ]
  },
  {
   "cell_type": "code",
   "execution_count": 28,
   "metadata": {},
   "outputs": [],
   "source": [
    "df[\"Ethnicity\"].value_counts()\n",
    "df.loc[df[\"Ethnicity\"].str.startswith(\"African American\"),\"Ethnicity\"] = \"African American\"\n",
    "df.loc[df[\"Ethnicity\"].str.startswith(\"Hispanic\"),\"Ethnicity\"] = \"Hispanic\"\n",
    "df.loc[df[\"Ethnicity\"].str.startswith(\"Asian\"),\"Ethnicity\"] = \"Asian\"\n",
    "df.loc[df[\"Ethnicity\"].str.startswith(\"Caucasian\"),\"Ethnicity\"] = \"Caucasian\""
   ]
  },
  {
   "cell_type": "code",
   "execution_count": 29,
   "metadata": {},
   "outputs": [],
   "source": [
    "df[\"Gender\"].value_counts()\n",
    "df.loc[df[\"Gender\"].str.startswith(\"F\"),\"Gender\"] = \"F\"\n",
    "df.loc[df[\"Gender\"].str.startswith(\"M\"),\"Gender\"] = \"M\""
   ]
  },
  {
   "cell_type": "code",
   "execution_count": 30,
   "metadata": {},
   "outputs": [],
   "source": [
    "df.to_csv(\"pbmc_sample_list.csv\", index = False)"
   ]
  }
 ],
 "metadata": {
  "kernelspec": {
   "display_name": "base",
   "language": "python",
   "name": "python3"
  },
  "language_info": {
   "codemirror_mode": {
    "name": "ipython",
    "version": 3
   },
   "file_extension": ".py",
   "mimetype": "text/x-python",
   "name": "python",
   "nbconvert_exporter": "python",
   "pygments_lexer": "ipython3",
   "version": "3.11.4"
  }
 },
 "nbformat": 4,
 "nbformat_minor": 2
}
